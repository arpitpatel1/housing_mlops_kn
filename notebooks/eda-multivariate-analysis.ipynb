{
 "cells": [
  {
   "cell_type": "code",
   "execution_count": null,
   "id": "371871c9",
   "metadata": {},
   "outputs": [],
   "source": [
    "import pandas as pd\n",
    "import numpy as np\n",
    "import matplotlib.pyplot as plt\n",
    "import seaborn as sns"
   ]
  },
  {
   "cell_type": "code",
   "execution_count": null,
   "id": "33f5dd9c",
   "metadata": {},
   "outputs": [],
   "source": [
    "pd.set_option('display.max_columns', None)"
   ]
  },
  {
   "cell_type": "code",
   "execution_count": null,
   "id": "f3127c47",
   "metadata": {},
   "outputs": [],
   "source": [
    "df = pd.read_csv('ahmedabad_properties_cleaned_v2.csv').drop_duplicates()"
   ]
  },
  {
   "cell_type": "code",
   "execution_count": null,
   "id": "fdc9b2ca",
   "metadata": {},
   "outputs": [],
   "source": [
    "df.head()"
   ]
  },
  {
   "cell_type": "markdown",
   "id": "4ab108bc",
   "metadata": {},
   "source": [
    "### property_type vs price"
   ]
  },
  {
   "cell_type": "code",
   "execution_count": null,
   "id": "817e4c49",
   "metadata": {},
   "outputs": [],
   "source": [
    "sns.barplot(x=df['property_type'], y=df['price'])"
   ]
  },
  {
   "cell_type": "code",
   "execution_count": null,
   "id": "d426ec91",
   "metadata": {},
   "outputs": [],
   "source": [
    "sns.boxplot(x=df['property_type'], y=df['price'])"
   ]
  },
  {
   "cell_type": "markdown",
   "id": "4522f411",
   "metadata": {},
   "source": [
    "### property_type vs area"
   ]
  },
  {
   "cell_type": "code",
   "execution_count": null,
   "id": "104b4a40",
   "metadata": {},
   "outputs": [],
   "source": [
    "sns.barplot(x=df['property_type'], y=df['built_up_area'])"
   ]
  },
  {
   "cell_type": "code",
   "execution_count": null,
   "id": "0051c648",
   "metadata": {},
   "outputs": [],
   "source": [
    "sns.boxplot(x=df['property_type'], y=df['built_up_area'])"
   ]
  },
  {
   "cell_type": "code",
   "execution_count": null,
   "id": "e59dcf57",
   "metadata": {},
   "outputs": [],
   "source": [
    "# removing that crazy outlier\n",
    "df = df[df['built_up_area'] != 737147]"
   ]
  },
  {
   "cell_type": "code",
   "execution_count": null,
   "id": "5efb7cf4",
   "metadata": {},
   "outputs": [],
   "source": [
    "sns.boxplot(x=df['property_type'], y=df['built_up_area'])"
   ]
  },
  {
   "cell_type": "markdown",
   "id": "68a13b76",
   "metadata": {},
   "source": [
    "### property_type vs price_per_sqft"
   ]
  },
  {
   "cell_type": "code",
   "execution_count": null,
   "id": "3c335dbb",
   "metadata": {},
   "outputs": [],
   "source": [
    "sns.barplot(x=df['property_type'], y=df['price_per_sqft'], estimator=np.median)"
   ]
  },
  {
   "cell_type": "code",
   "execution_count": null,
   "id": "6c0f354c",
   "metadata": {},
   "outputs": [],
   "source": [
    "sns.boxplot(x=df['property_type'], y=df['price_per_sqft'])"
   ]
  },
  {
   "cell_type": "code",
   "execution_count": null,
   "id": "0bf56f48",
   "metadata": {},
   "outputs": [],
   "source": [
    "# check outliers\n",
    "df[df['price_per_sqft'] > 100000][['property_type','society','sector','price','price_per_sqft','area','areaWithType', 'super_built_up_area', 'built_up_area', 'carpet_area']]"
   ]
  },
  {
   "cell_type": "code",
   "execution_count": null,
   "id": "390b7a22",
   "metadata": {},
   "outputs": [],
   "source": [
    "df.head()"
   ]
  },
  {
   "cell_type": "code",
   "execution_count": null,
   "id": "cd7e89dc",
   "metadata": {},
   "outputs": [],
   "source": [
    "sns.heatmap(pd.crosstab(df['property_type'],df['bedRoom']))"
   ]
  },
  {
   "cell_type": "code",
   "execution_count": null,
   "id": "34b2b9aa",
   "metadata": {},
   "outputs": [],
   "source": [
    "# checking outliers\n",
    "df[df['bedRoom'] >= 10]"
   ]
  },
  {
   "cell_type": "code",
   "execution_count": null,
   "id": "0097a9fe",
   "metadata": {},
   "outputs": [],
   "source": [
    "sns.barplot(x=df['property_type'],y=df['floorNum'])"
   ]
  },
  {
   "cell_type": "code",
   "execution_count": null,
   "id": "828ebe2b",
   "metadata": {},
   "outputs": [],
   "source": [
    "sns.boxplot(x=df['property_type'],y=df['floorNum'])"
   ]
  },
  {
   "cell_type": "code",
   "execution_count": null,
   "id": "9c05e909",
   "metadata": {},
   "outputs": [],
   "source": [
    "# checking for outliers\n",
    "df[(df['property_type'] == 'house') & (df['floorNum'] > 10)]"
   ]
  },
  {
   "cell_type": "code",
   "execution_count": null,
   "id": "ceec8a22",
   "metadata": {},
   "outputs": [],
   "source": [
    "# conclusion houses(villa) but in appartments"
   ]
  },
  {
   "cell_type": "code",
   "execution_count": null,
   "id": "b7985f6a",
   "metadata": {},
   "outputs": [],
   "source": [
    "df.head()"
   ]
  },
  {
   "cell_type": "code",
   "execution_count": null,
   "id": "595b9186",
   "metadata": {},
   "outputs": [],
   "source": [
    "sns.heatmap(pd.crosstab(df['property_type'],df['agePossession']))"
   ]
  },
  {
   "cell_type": "code",
   "execution_count": null,
   "id": "8eac8a4d",
   "metadata": {},
   "outputs": [],
   "source": [
    "sns.heatmap(pd.pivot_table(df,index='property_type',columns='agePossession',values='price',aggfunc='mean'),annot=True)"
   ]
  },
  {
   "cell_type": "code",
   "execution_count": null,
   "id": "a3ff16c7",
   "metadata": {},
   "outputs": [],
   "source": [
    "plt.figure(figsize=(15,4))\n",
    "sns.heatmap(pd.pivot_table(df,index='property_type',columns='bedRoom',values='price',aggfunc='mean'),annot=True)"
   ]
  },
  {
   "cell_type": "code",
   "execution_count": null,
   "id": "872fd065",
   "metadata": {},
   "outputs": [],
   "source": [
    "sns.heatmap(pd.crosstab(df['property_type'],df['furnishing_type']))"
   ]
  },
  {
   "cell_type": "code",
   "execution_count": null,
   "id": "f09c37d0",
   "metadata": {},
   "outputs": [],
   "source": [
    "sns.heatmap(pd.pivot_table(df,index='property_type',columns='furnishing_type',values='price',aggfunc='mean'),annot=True)"
   ]
  },
  {
   "cell_type": "code",
   "execution_count": null,
   "id": "0ca061d2",
   "metadata": {},
   "outputs": [],
   "source": [
    "sns.barplot(x=df['property_type'],y=df['luxury_score'])"
   ]
  },
  {
   "cell_type": "code",
   "execution_count": null,
   "id": "b6b27402",
   "metadata": {},
   "outputs": [],
   "source": [
    "sns.boxplot(x=df['property_type'],y=df['luxury_score'])"
   ]
  },
  {
   "cell_type": "code",
   "execution_count": null,
   "id": "23940a37",
   "metadata": {},
   "outputs": [],
   "source": [
    "df.head()"
   ]
  },
  {
   "cell_type": "code",
   "execution_count": null,
   "id": "07323c21",
   "metadata": {},
   "outputs": [],
   "source": [
    "# sector analysis\n",
    "plt.figure(figsize=(15,6))\n",
    "sns.heatmap(pd.crosstab(df['property_type'],df['sector'].sort_index()))"
   ]
  },
  {
   "cell_type": "code",
   "execution_count": null,
   "id": "b315057d",
   "metadata": {},
   "outputs": [],
   "source": [
    "# sector analysis\n",
    "import re\n",
    "# Group by 'sector' and calculate the average price\n",
    "avg_price_per_sector = df.groupby('sector')['price'].mean().reset_index()\n",
    "\n",
    "# Function to extract sector numbers\n",
    "def extract_sector_number(sector_name):\n",
    "    match = re.search(r'\\d+', sector_name)\n",
    "    if match:\n",
    "        return int(match.group())\n",
    "    else:\n",
    "        return float('inf')  # Return a large number for non-numbered sectors\n",
    "\n",
    "avg_price_per_sector['sector_number'] = avg_price_per_sector['sector'].apply(extract_sector_number)\n",
    "\n",
    "# Sort by sector number\n",
    "avg_price_per_sector_sorted_by_sector = avg_price_per_sector.sort_values(by='sector_number')\n",
    "\n",
    "# Plot the heatmap\n",
    "plt.figure(figsize=(5, 25))\n",
    "sns.heatmap(avg_price_per_sector_sorted_by_sector.set_index('sector')[['price']], annot=True, fmt=\".2f\", linewidths=.5)\n",
    "plt.title('Average Price per Sector (Sorted by Sector Number)')\n",
    "plt.xlabel('Average Price')\n",
    "plt.ylabel('Sector')\n",
    "plt.show()\n"
   ]
  },
  {
   "cell_type": "code",
   "execution_count": null,
   "id": "4f87f93e",
   "metadata": {},
   "outputs": [],
   "source": [
    "avg_price_per_sqft_sector = df.groupby('sector')['price_per_sqft'].mean().reset_index()\n",
    "\n",
    "avg_price_per_sqft_sector['sector_number'] = avg_price_per_sqft_sector['sector'].apply(extract_sector_number)\n",
    "\n",
    "# Sort by sector number\n",
    "avg_price_per_sqft_sector_sorted_by_sector = avg_price_per_sqft_sector.sort_values(by='sector_number')\n",
    "\n",
    "# Plot the heatmap\n",
    "plt.figure(figsize=(5, 25))\n",
    "sns.heatmap(avg_price_per_sqft_sector_sorted_by_sector.set_index('sector')[['price_per_sqft']], annot=True, fmt=\".2f\", linewidths=.5)\n",
    "plt.title('Sector (Sorted by Sector Number)')\n",
    "plt.xlabel('Average Price per sqft')\n",
    "plt.ylabel('Sector')\n",
    "plt.show()"
   ]
  },
  {
   "cell_type": "code",
   "execution_count": null,
   "id": "7a95f95d",
   "metadata": {},
   "outputs": [],
   "source": [
    "luxury_score = df.groupby('sector')['luxury_score'].mean().reset_index()\n",
    "\n",
    "luxury_score['sector_number'] = luxury_score['sector'].apply(extract_sector_number)\n",
    "\n",
    "# Sort by sector number\n",
    "luxury_score_sector = luxury_score.sort_values(by='sector_number')\n",
    "\n",
    "# Plot the heatmap\n",
    "plt.figure(figsize=(5, 25))\n",
    "sns.heatmap(luxury_score_sector.set_index('sector')[['luxury_score']], annot=True, fmt=\".2f\", linewidths=.5)\n",
    "plt.title('Sector (Sorted by Sector Number)')\n",
    "plt.xlabel('Average Price per sqft')\n",
    "plt.ylabel('Sector')\n",
    "plt.show()"
   ]
  },
  {
   "cell_type": "code",
   "execution_count": null,
   "id": "dbc2f243",
   "metadata": {},
   "outputs": [],
   "source": [
    "df.head()"
   ]
  },
  {
   "cell_type": "markdown",
   "id": "030aae8e",
   "metadata": {},
   "source": [
    "### price"
   ]
  },
  {
   "cell_type": "code",
   "execution_count": null,
   "id": "a5f580e8",
   "metadata": {},
   "outputs": [],
   "source": [
    "plt.figure(figsize=(12,8))\n",
    "sns.scatterplot(df[df['area']<10000]['area'],df['price'],hue=df['bedRoom'])"
   ]
  },
  {
   "cell_type": "code",
   "execution_count": null,
   "id": "7f2e665d",
   "metadata": {},
   "outputs": [],
   "source": [
    "plt.figure(figsize=(12,8))\n",
    "sns.scatterplot(df[df['area']<10000]['area'],df['price'],hue=df['agePossession'])"
   ]
  },
  {
   "cell_type": "code",
   "execution_count": null,
   "id": "e26c9524",
   "metadata": {},
   "outputs": [],
   "source": [
    "plt.figure(figsize=(12,8))\n",
    "# sns.scatterplot(df[df['area']<10000]['area'],df['price'],hue=df['furnishing_type'].astype('category'))"
   ]
  },
  {
   "cell_type": "code",
   "execution_count": null,
   "id": "0ad91ab0",
   "metadata": {},
   "outputs": [],
   "source": [
    "sns.barplot(x=df['bedRoom'],y=df['price'],estimator=np.median)"
   ]
  },
  {
   "cell_type": "code",
   "execution_count": null,
   "id": "be8b9956",
   "metadata": {},
   "outputs": [],
   "source": [
    "sns.barplot(x=df['agePossession'],y=df['price'])\n",
    "plt.xticks(rotation='vertical')\n",
    "plt.show()"
   ]
  },
  {
   "cell_type": "code",
   "execution_count": null,
   "id": "c076425d",
   "metadata": {},
   "outputs": [],
   "source": [
    "sns.barplot(x=df['agePossession'],y=df['area'],estimator=np.median)\n",
    "plt.xticks(rotation='vertical')\n",
    "plt.show()"
   ]
  },
  {
   "cell_type": "code",
   "execution_count": null,
   "id": "cafbbe23",
   "metadata": {},
   "outputs": [],
   "source": [
    "sns.barplot(x=df['furnishing_type'],y=df['price'],estimator=np.median)"
   ]
  },
  {
   "cell_type": "code",
   "execution_count": null,
   "id": "5d2e183e",
   "metadata": {},
   "outputs": [],
   "source": [
    "sns.scatterplot(df['luxury_score'],df['price'])"
   ]
  },
  {
   "cell_type": "markdown",
   "id": "0c8ff4c5",
   "metadata": {},
   "source": [
    "### correlation"
   ]
  },
  {
   "cell_type": "code",
   "execution_count": null,
   "id": "c44b902f",
   "metadata": {},
   "outputs": [],
   "source": [
    "plt.figure(figsize=(8,8))\n",
    "sns.heatmap(df.corr())"
   ]
  },
  {
   "cell_type": "code",
   "execution_count": null,
   "id": "c3a13c5c",
   "metadata": {},
   "outputs": [],
   "source": [
    "df.corr()['price'].sort_values(ascending=False)"
   ]
  },
  {
   "cell_type": "code",
   "execution_count": null,
   "id": "2d6014f5",
   "metadata": {},
   "outputs": [],
   "source": [
    "df.head()"
   ]
  },
  {
   "cell_type": "code",
   "execution_count": null,
   "id": "c911ee22",
   "metadata": {},
   "outputs": [],
   "source": [
    "sns.pairplot(df)"
   ]
  },
  {
   "cell_type": "code",
   "execution_count": null,
   "id": "554e8e3e",
   "metadata": {},
   "outputs": [],
   "source": []
  }
 ],
 "metadata": {
  "kernelspec": {
   "display_name": "Python 3 (ipykernel)",
   "language": "python",
   "name": "python3"
  },
  "language_info": {
   "codemirror_mode": {
    "name": "ipython",
    "version": 3
   },
   "file_extension": ".py",
   "mimetype": "text/x-python",
   "name": "python",
   "nbconvert_exporter": "python",
   "pygments_lexer": "ipython3",
   "version": "3.11.3"
  }
 },
 "nbformat": 4,
 "nbformat_minor": 5
}
