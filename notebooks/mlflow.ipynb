{
 "cells": [
  {
   "cell_type": "code",
   "execution_count": 1,
   "metadata": {},
   "outputs": [],
   "source": [
    "import numpy as np\n",
    "import pandas as pd\n",
    "\n",
    "from sklearn.model_selection import KFold, cross_val_score\n",
    "from sklearn.model_selection import train_test_split\n",
    "from sklearn.pipeline import Pipeline, make_pipeline\n",
    "from sklearn.preprocessing import OneHotEncoder, StandardScaler,LabelEncoder, OrdinalEncoder\n",
    "from sklearn.compose import ColumnTransformer\n",
    "\n",
    "from sklearn.linear_model import LinearRegression,Ridge,Lasso\n",
    "from sklearn.svm import SVR\n",
    "from sklearn.ensemble import RandomForestRegressor\n",
    "from xgboost import XGBRegressor\n",
    "from sklearn.tree import DecisionTreeRegressor\n",
    "from sklearn.ensemble import RandomForestRegressor,ExtraTreesRegressor,GradientBoostingRegressor,AdaBoostRegressor\n",
    "\n",
    "from sklearn.metrics import mean_absolute_error,r2_score\n",
    "\n",
    "import category_encoders as ce\n",
    "\n",
    "import seaborn as sns\n",
    "import matplotlib.pyplot as plt\n",
    "\n",
    "import mlflow\n",
    "import mlflow.sklearn"
   ]
  },
  {
   "cell_type": "code",
   "execution_count": 2,
   "metadata": {},
   "outputs": [],
   "source": [
    "path = '../data/processed/'\n",
    "df = pd.read_csv(path + 'properties_post_feature_selection_V2.csv')\n",
    "\n",
    "X = df.drop(columns=['price'])\n",
    "y = df['price']\n",
    "y_transformed = np.log1p(y)"
   ]
  },
  {
   "cell_type": "code",
   "execution_count": 3,
   "metadata": {},
   "outputs": [],
   "source": [
    "X_train, X_test, y_train, y_test = train_test_split(X, y_transformed, test_size=0.2, random_state=42)"
   ]
  },
  {
   "cell_type": "code",
   "execution_count": 4,
   "metadata": {},
   "outputs": [],
   "source": [
    "columns_to_encode = ['property_type', 'balcony', 'agePossession', 'furnishing_type', 'luxury_category',\n",
    "                                 'floor_category']\n",
    "numerical_columns = ['bedRoom', 'bathroom', 'built_up_area', 'pooja room', 'store room']\n",
    "\n",
    "preprocessor = ColumnTransformer(\n",
    "                transformers=[\n",
    "                    ('num', StandardScaler(), ['bedRoom', 'bathroom', 'built_up_area', 'pooja room', 'store room']),\n",
    "                    ('sector', OneHotEncoder(drop='first',handle_unknown='ignore'), ['sector']),\n",
    "                    ('cat', OrdinalEncoder(), columns_to_encode)\n",
    "\n",
    "                ],\n",
    "                remainder='passthrough'\n",
    "            )\n",
    "\n",
    "pipeline = Pipeline([\n",
    "    ('preprocessor', preprocessor),\n",
    "    ('regressor', RandomForestRegressor())\n",
    "])\n",
    "\n",
    "pipeline.fit(X_train,y_train)\n",
    "predicted = pipeline.predict(X_test)\n",
    "score = r2_score(y_test, predicted)"
   ]
  },
  {
   "cell_type": "code",
   "execution_count": 7,
   "metadata": {},
   "outputs": [
    {
     "name": "stdout",
     "output_type": "stream",
     "text": [
      "R2 Score: 0.9049781887233079\n"
     ]
    }
   ],
   "source": [
    "with mlflow.start_run(run_name='first_run'):\n",
    "\n",
    "    # Fit the pipeline on the training data\n",
    "    pipeline.fit(X_train, y_train)\n",
    "\n",
    "    # Make predictions on the test set\n",
    "    predicted = pipeline.predict(X_test)\n",
    "\n",
    "    # Calculate R2 score\n",
    "    score = r2_score(y_test, predicted)\n",
    "\n",
    "    # Log parameters and metrics to MLflow\n",
    "    mlflow.log_params({\n",
    "        'numerical_columns': numerical_columns,\n",
    "        'columns_to_encode': columns_to_encode\n",
    "    })\n",
    "    \n",
    "    mlflow.log_metric('r2_score', score)\n",
    "\n",
    "    # Log the model\n",
    "    mlflow.sklearn.log_model(pipeline, 'model')\n",
    "\n",
    "# Print the R2 score for reference\n",
    "print(f'R2 Score: {score}')"
   ]
  },
  {
   "cell_type": "code",
   "execution_count": null,
   "metadata": {},
   "outputs": [],
   "source": []
  },
  {
   "cell_type": "code",
   "execution_count": null,
   "metadata": {},
   "outputs": [],
   "source": []
  }
 ],
 "metadata": {
  "kernelspec": {
   "display_name": "Python 3 (ipykernel)",
   "language": "python",
   "name": "python3"
  },
  "language_info": {
   "codemirror_mode": {
    "name": "ipython",
    "version": 3
   },
   "file_extension": ".py",
   "mimetype": "text/x-python",
   "name": "python",
   "nbconvert_exporter": "python",
   "pygments_lexer": "ipython3",
   "version": "3.11.4"
  }
 },
 "nbformat": 4,
 "nbformat_minor": 2
}
