{
 "cells": [
  {
   "cell_type": "code",
   "execution_count": 1,
   "id": "bb80ec7c",
   "metadata": {},
   "outputs": [],
   "source": [
    "import numpy as np\n",
    "import pandas as pd\n",
    "import matplotlib.pyplot as plt\n",
    "import seaborn as sns\n",
    "from pathlib import Path"
   ]
  },
  {
   "cell_type": "code",
   "execution_count": 2,
   "id": "c5b149a5",
   "metadata": {},
   "outputs": [],
   "source": [
    "pd.set_option('display.max_columns', None)\n",
    "pd.set_option('display.max_rows', None)"
   ]
  },
  {
   "cell_type": "code",
   "execution_count": 3,
   "id": "1d6ae605",
   "metadata": {},
   "outputs": [],
   "source": [
    "raw_path = Path('../data/raw')\n",
    "interim_path = Path('../data/interim')"
   ]
  },
  {
   "cell_type": "code",
   "execution_count": 4,
   "id": "2988160c",
   "metadata": {},
   "outputs": [],
   "source": [
    "df = pd.read_csv(interim_path / 'properties_cleaned_v2.csv')"
   ]
  },
  {
   "cell_type": "code",
   "execution_count": 5,
   "id": "34c2ba6c",
   "metadata": {},
   "outputs": [
    {
     "data": {
      "text/plain": [
       "(5933, 23)"
      ]
     },
     "execution_count": 5,
     "metadata": {},
     "output_type": "execute_result"
    }
   ],
   "source": [
    "df.shape"
   ]
  },
  {
   "cell_type": "code",
   "execution_count": 6,
   "id": "966593db",
   "metadata": {},
   "outputs": [
    {
     "data": {
      "text/html": [
       "<div>\n",
       "<style scoped>\n",
       "    .dataframe tbody tr th:only-of-type {\n",
       "        vertical-align: middle;\n",
       "    }\n",
       "\n",
       "    .dataframe tbody tr th {\n",
       "        vertical-align: top;\n",
       "    }\n",
       "\n",
       "    .dataframe thead th {\n",
       "        text-align: right;\n",
       "    }\n",
       "</style>\n",
       "<table border=\"1\" class=\"dataframe\">\n",
       "  <thead>\n",
       "    <tr style=\"text-align: right;\">\n",
       "      <th></th>\n",
       "      <th>property_type</th>\n",
       "      <th>society</th>\n",
       "      <th>sector</th>\n",
       "      <th>price</th>\n",
       "      <th>price_per_sqft</th>\n",
       "      <th>area</th>\n",
       "      <th>areaWithType</th>\n",
       "      <th>bedRoom</th>\n",
       "      <th>bathroom</th>\n",
       "      <th>balcony</th>\n",
       "      <th>floorNum</th>\n",
       "      <th>facing</th>\n",
       "      <th>agePossession</th>\n",
       "      <th>super_built_up_area</th>\n",
       "      <th>built_up_area</th>\n",
       "      <th>carpet_area</th>\n",
       "      <th>study room</th>\n",
       "      <th>servant room</th>\n",
       "      <th>store room</th>\n",
       "      <th>pooja room</th>\n",
       "      <th>others</th>\n",
       "      <th>furnishing_type</th>\n",
       "      <th>luxury_score</th>\n",
       "    </tr>\n",
       "  </thead>\n",
       "  <tbody>\n",
       "    <tr>\n",
       "      <th>0</th>\n",
       "      <td>house</td>\n",
       "      <td>independent</td>\n",
       "      <td>gurukul</td>\n",
       "      <td>2.40</td>\n",
       "      <td>11111.0</td>\n",
       "      <td>2160.0</td>\n",
       "      <td>Plot area 240(200.67 sq.m.)</td>\n",
       "      <td>3</td>\n",
       "      <td>3</td>\n",
       "      <td>3</td>\n",
       "      <td>3.0</td>\n",
       "      <td>North</td>\n",
       "      <td>Relatively New</td>\n",
       "      <td>NaN</td>\n",
       "      <td>2160.0</td>\n",
       "      <td>NaN</td>\n",
       "      <td>0</td>\n",
       "      <td>0</td>\n",
       "      <td>1</td>\n",
       "      <td>1</td>\n",
       "      <td>0</td>\n",
       "      <td>0</td>\n",
       "      <td>86</td>\n",
       "    </tr>\n",
       "    <tr>\n",
       "      <th>1</th>\n",
       "      <td>house</td>\n",
       "      <td>omkar bunglows</td>\n",
       "      <td>thaltej</td>\n",
       "      <td>4.75</td>\n",
       "      <td>15079.0</td>\n",
       "      <td>3150.0</td>\n",
       "      <td>Plot area 350(292.64 sq.m.)Built Up area: 315 ...</td>\n",
       "      <td>4</td>\n",
       "      <td>4</td>\n",
       "      <td>1</td>\n",
       "      <td>2.0</td>\n",
       "      <td>East</td>\n",
       "      <td>Old Property</td>\n",
       "      <td>NaN</td>\n",
       "      <td>315.0</td>\n",
       "      <td>NaN</td>\n",
       "      <td>0</td>\n",
       "      <td>0</td>\n",
       "      <td>1</td>\n",
       "      <td>1</td>\n",
       "      <td>0</td>\n",
       "      <td>1</td>\n",
       "      <td>161</td>\n",
       "    </tr>\n",
       "    <tr>\n",
       "      <th>2</th>\n",
       "      <td>flat</td>\n",
       "      <td>sheeva amardeep enclave</td>\n",
       "      <td>nava naroda</td>\n",
       "      <td>0.27</td>\n",
       "      <td>21600.0</td>\n",
       "      <td>125.0</td>\n",
       "      <td>Built Up area: 125 (11.61 sq.m.)Carpet area: 1...</td>\n",
       "      <td>2</td>\n",
       "      <td>2</td>\n",
       "      <td>1</td>\n",
       "      <td>3.0</td>\n",
       "      <td>NaN</td>\n",
       "      <td>Undefined</td>\n",
       "      <td>NaN</td>\n",
       "      <td>125.0</td>\n",
       "      <td>115.0</td>\n",
       "      <td>0</td>\n",
       "      <td>0</td>\n",
       "      <td>0</td>\n",
       "      <td>0</td>\n",
       "      <td>0</td>\n",
       "      <td>0</td>\n",
       "      <td>0</td>\n",
       "    </tr>\n",
       "    <tr>\n",
       "      <th>3</th>\n",
       "      <td>flat</td>\n",
       "      <td>arizona river heights</td>\n",
       "      <td>usmanpura</td>\n",
       "      <td>2.10</td>\n",
       "      <td>8909.0</td>\n",
       "      <td>2357.0</td>\n",
       "      <td>Super Built up area 2357(218.97 sq.m.)Carpet a...</td>\n",
       "      <td>3</td>\n",
       "      <td>3</td>\n",
       "      <td>2</td>\n",
       "      <td>11.0</td>\n",
       "      <td>East</td>\n",
       "      <td>Moderately Old</td>\n",
       "      <td>2357.0</td>\n",
       "      <td>NaN</td>\n",
       "      <td>1415.0</td>\n",
       "      <td>0</td>\n",
       "      <td>0</td>\n",
       "      <td>0</td>\n",
       "      <td>1</td>\n",
       "      <td>1</td>\n",
       "      <td>1</td>\n",
       "      <td>54</td>\n",
       "    </tr>\n",
       "    <tr>\n",
       "      <th>4</th>\n",
       "      <td>flat</td>\n",
       "      <td>avirat silver harmony</td>\n",
       "      <td>gota</td>\n",
       "      <td>0.98</td>\n",
       "      <td>4839.0</td>\n",
       "      <td>2025.0</td>\n",
       "      <td>Super Built up area 2025(188.13 sq.m.)</td>\n",
       "      <td>3</td>\n",
       "      <td>3</td>\n",
       "      <td>1</td>\n",
       "      <td>9.0</td>\n",
       "      <td>East</td>\n",
       "      <td>Moderately Old</td>\n",
       "      <td>2025.0</td>\n",
       "      <td>NaN</td>\n",
       "      <td>NaN</td>\n",
       "      <td>0</td>\n",
       "      <td>0</td>\n",
       "      <td>1</td>\n",
       "      <td>0</td>\n",
       "      <td>0</td>\n",
       "      <td>0</td>\n",
       "      <td>75</td>\n",
       "    </tr>\n",
       "  </tbody>\n",
       "</table>\n",
       "</div>"
      ],
      "text/plain": [
       "  property_type                  society       sector  price  price_per_sqft  \\\n",
       "0         house              independent      gurukul   2.40         11111.0   \n",
       "1         house           omkar bunglows      thaltej   4.75         15079.0   \n",
       "2          flat  sheeva amardeep enclave  nava naroda   0.27         21600.0   \n",
       "3          flat    arizona river heights    usmanpura   2.10          8909.0   \n",
       "4          flat    avirat silver harmony         gota   0.98          4839.0   \n",
       "\n",
       "     area                                       areaWithType  bedRoom  \\\n",
       "0  2160.0                        Plot area 240(200.67 sq.m.)        3   \n",
       "1  3150.0  Plot area 350(292.64 sq.m.)Built Up area: 315 ...        4   \n",
       "2   125.0  Built Up area: 125 (11.61 sq.m.)Carpet area: 1...        2   \n",
       "3  2357.0  Super Built up area 2357(218.97 sq.m.)Carpet a...        3   \n",
       "4  2025.0             Super Built up area 2025(188.13 sq.m.)        3   \n",
       "\n",
       "   bathroom balcony  floorNum facing   agePossession  super_built_up_area  \\\n",
       "0         3       3       3.0  North  Relatively New                  NaN   \n",
       "1         4       1       2.0   East    Old Property                  NaN   \n",
       "2         2       1       3.0    NaN       Undefined                  NaN   \n",
       "3         3       2      11.0   East  Moderately Old               2357.0   \n",
       "4         3       1       9.0   East  Moderately Old               2025.0   \n",
       "\n",
       "   built_up_area  carpet_area  study room  servant room  store room  \\\n",
       "0         2160.0          NaN           0             0           1   \n",
       "1          315.0          NaN           0             0           1   \n",
       "2          125.0        115.0           0             0           0   \n",
       "3            NaN       1415.0           0             0           0   \n",
       "4            NaN          NaN           0             0           1   \n",
       "\n",
       "   pooja room  others  furnishing_type  luxury_score  \n",
       "0           1       0                0            86  \n",
       "1           1       0                1           161  \n",
       "2           0       0                0             0  \n",
       "3           1       1                1            54  \n",
       "4           0       0                0            75  "
      ]
     },
     "execution_count": 6,
     "metadata": {},
     "output_type": "execute_result"
    }
   ],
   "source": [
    "df.head()"
   ]
  },
  {
   "cell_type": "code",
   "execution_count": 7,
   "id": "33c87836",
   "metadata": {},
   "outputs": [
    {
     "data": {
      "text/plain": [
       "(5933, 23)"
      ]
     },
     "execution_count": 7,
     "metadata": {},
     "output_type": "execute_result"
    }
   ],
   "source": [
    "df.shape"
   ]
  },
  {
   "cell_type": "code",
   "execution_count": 8,
   "id": "7c962d63",
   "metadata": {},
   "outputs": [
    {
     "data": {
      "text/plain": [
       "Index(['property_type', 'society', 'sector', 'price', 'price_per_sqft', 'area',\n",
       "       'areaWithType', 'bedRoom', 'bathroom', 'balcony', 'floorNum', 'facing',\n",
       "       'agePossession', 'super_built_up_area', 'built_up_area', 'carpet_area',\n",
       "       'study room', 'servant room', 'store room', 'pooja room', 'others',\n",
       "       'furnishing_type', 'luxury_score'],\n",
       "      dtype='object')"
      ]
     },
     "execution_count": 8,
     "metadata": {},
     "output_type": "execute_result"
    }
   ],
   "source": [
    "df.columns"
   ]
  },
  {
   "cell_type": "code",
   "execution_count": 9,
   "id": "3519ff48",
   "metadata": {},
   "outputs": [
    {
     "data": {
      "text/plain": [
       "<seaborn.axisgrid.FacetGrid at 0x2d18f779ed0>"
      ]
     },
     "execution_count": 9,
     "metadata": {},
     "output_type": "execute_result"
    },
    {
     "data": {
      "image/png": "[encoded data removed]",
      "text/plain": [
       "<Figure size 500x500 with 1 Axes>"
      ]
     },
     "metadata": {},
     "output_type": "display_data"
    }
   ],
   "source": [
    "# outliers on the basis of price column\n",
    "sns.displot(df['price'])"
   ]
  },
  {
   "cell_type": "code",
   "execution_count": 10,
   "id": "cab1048f",
   "metadata": {},
   "outputs": [
    {
     "data": {
      "text/plain": [
       "<Axes: xlabel='price'>"
      ]
     },
     "execution_count": 10,
     "metadata": {},
     "output_type": "execute_result"
    },
    {
     "data": {
      "image/png": "[encoded data removed]",
      "text/plain": [
       "<Figure size 640x480 with 1 Axes>"
      ]
     },
     "metadata": {},
     "output_type": "display_data"
    }
   ],
   "source": [
    "sns.boxplot(x=df['price'])"
   ]
  },
  {
   "cell_type": "code",
   "execution_count": 11,
   "id": "75fd0975",
   "metadata": {},
   "outputs": [
    {
     "data": {
      "text/plain": [
       "(624,\n",
       " count    624.000000\n",
       " mean       5.803942\n",
       " std        2.925587\n",
       " min        3.300000\n",
       " 25%        3.790000\n",
       " 50%        5.000000\n",
       " 75%        6.630000\n",
       " max       22.000000\n",
       " Name: price, dtype: float64)"
      ]
     },
     "execution_count": 11,
     "metadata": {},
     "output_type": "execute_result"
    }
   ],
   "source": [
    "# Calculate the IQR for the 'price' column\n",
    "Q1 = df['price'].quantile(0.25)\n",
    "Q3 = df['price'].quantile(0.75)\n",
    "IQR = Q3 - Q1\n",
    "\n",
    "# Define bounds for outliers\n",
    "lower_bound = Q1 - 1.5 * IQR\n",
    "upper_bound = Q3 + 1.5 * IQR\n",
    "\n",
    "# Identify outliers\n",
    "outliers = df[(df['price'] < lower_bound) | (df['price'] > upper_bound)]\n",
    "\n",
    "# Displaying the number of outliers and some statistics\n",
    "num_outliers = outliers.shape[0]\n",
    "outliers_price_stats = outliers['price'].describe()\n",
    "\n",
    "num_outliers, outliers_price_stats"
   ]
  },
  {
   "cell_type": "code",
   "execution_count": 12,
   "id": "d66fe7e5",
   "metadata": {},
   "outputs": [
    {
     "data": {
      "text/html": [
       "<div>\n",
       "<style scoped>\n",
       "    .dataframe tbody tr th:only-of-type {\n",
       "        vertical-align: middle;\n",
       "    }\n",
       "\n",
       "    .dataframe tbody tr th {\n",
       "        vertical-align: top;\n",
       "    }\n",
       "\n",
       "    .dataframe thead th {\n",
       "        text-align: right;\n",
       "    }\n",
       "</style>\n",
       "<table border=\"1\" class=\"dataframe\">\n",
       "  <thead>\n",
       "    <tr style=\"text-align: right;\">\n",
       "      <th></th>\n",
       "      <th>property_type</th>\n",
       "      <th>society</th>\n",
       "      <th>sector</th>\n",
       "      <th>price</th>\n",
       "      <th>price_per_sqft</th>\n",
       "      <th>area</th>\n",
       "      <th>areaWithType</th>\n",
       "      <th>bedRoom</th>\n",
       "      <th>bathroom</th>\n",
       "      <th>balcony</th>\n",
       "      <th>floorNum</th>\n",
       "      <th>facing</th>\n",
       "      <th>agePossession</th>\n",
       "      <th>super_built_up_area</th>\n",
       "      <th>built_up_area</th>\n",
       "      <th>carpet_area</th>\n",
       "      <th>study room</th>\n",
       "      <th>servant room</th>\n",
       "      <th>store room</th>\n",
       "      <th>pooja room</th>\n",
       "      <th>others</th>\n",
       "      <th>furnishing_type</th>\n",
       "      <th>luxury_score</th>\n",
       "    </tr>\n",
       "  </thead>\n",
       "  <tbody>\n",
       "    <tr>\n",
       "      <th>2621</th>\n",
       "      <td>house</td>\n",
       "      <td>anurita bungalows</td>\n",
       "      <td>thaltej</td>\n",
       "      <td>22.0</td>\n",
       "      <td>298507.0</td>\n",
       "      <td>737.0</td>\n",
       "      <td>Plot area 1100(102.19 sq.m.)Carpet area: 737 s...</td>\n",
       "      <td>4</td>\n",
       "      <td>4</td>\n",
       "      <td>3</td>\n",
       "      <td>2.0</td>\n",
       "      <td>East</td>\n",
       "      <td>Under Construction</td>\n",
       "      <td>NaN</td>\n",
       "      <td>NaN</td>\n",
       "      <td>737.0</td>\n",
       "      <td>1</td>\n",
       "      <td>0</td>\n",
       "      <td>1</td>\n",
       "      <td>1</td>\n",
       "      <td>0</td>\n",
       "      <td>0</td>\n",
       "      <td>200</td>\n",
       "    </tr>\n",
       "    <tr>\n",
       "      <th>3987</th>\n",
       "      <td>house</td>\n",
       "      <td>on request</td>\n",
       "      <td>science city</td>\n",
       "      <td>22.0</td>\n",
       "      <td>21256.0</td>\n",
       "      <td>10350.0</td>\n",
       "      <td>Plot area 1400(1170.58 sq.m.)Built Up area: 13...</td>\n",
       "      <td>5</td>\n",
       "      <td>4</td>\n",
       "      <td>3</td>\n",
       "      <td>2.0</td>\n",
       "      <td>North-East</td>\n",
       "      <td>Relatively New</td>\n",
       "      <td>NaN</td>\n",
       "      <td>1300.0</td>\n",
       "      <td>1150.0</td>\n",
       "      <td>1</td>\n",
       "      <td>1</td>\n",
       "      <td>1</td>\n",
       "      <td>1</td>\n",
       "      <td>0</td>\n",
       "      <td>1</td>\n",
       "      <td>96</td>\n",
       "    </tr>\n",
       "    <tr>\n",
       "      <th>1305</th>\n",
       "      <td>house</td>\n",
       "      <td>neelkanth greens villa</td>\n",
       "      <td>thaltej</td>\n",
       "      <td>20.0</td>\n",
       "      <td>12005.0</td>\n",
       "      <td>16660.0</td>\n",
       "      <td>Plot area 1851(1547.67 sq.m.)Built Up area: 70...</td>\n",
       "      <td>4</td>\n",
       "      <td>4</td>\n",
       "      <td>1</td>\n",
       "      <td>3.0</td>\n",
       "      <td>East</td>\n",
       "      <td>Moderately Old</td>\n",
       "      <td>NaN</td>\n",
       "      <td>700.0</td>\n",
       "      <td>NaN</td>\n",
       "      <td>0</td>\n",
       "      <td>0</td>\n",
       "      <td>1</td>\n",
       "      <td>1</td>\n",
       "      <td>0</td>\n",
       "      <td>1</td>\n",
       "      <td>105</td>\n",
       "    </tr>\n",
       "    <tr>\n",
       "      <th>5407</th>\n",
       "      <td>house</td>\n",
       "      <td>individual bunglow</td>\n",
       "      <td>science city</td>\n",
       "      <td>20.0</td>\n",
       "      <td>19324.0</td>\n",
       "      <td>10350.0</td>\n",
       "      <td>Plot area 1378(1152.18 sq.m.)Carpet area: 1150...</td>\n",
       "      <td>5</td>\n",
       "      <td>5</td>\n",
       "      <td>2</td>\n",
       "      <td>2.0</td>\n",
       "      <td>North</td>\n",
       "      <td>Relatively New</td>\n",
       "      <td>NaN</td>\n",
       "      <td>NaN</td>\n",
       "      <td>1150.0</td>\n",
       "      <td>1</td>\n",
       "      <td>1</td>\n",
       "      <td>1</td>\n",
       "      <td>1</td>\n",
       "      <td>0</td>\n",
       "      <td>1</td>\n",
       "      <td>98</td>\n",
       "    </tr>\n",
       "    <tr>\n",
       "      <th>4803</th>\n",
       "      <td>flat</td>\n",
       "      <td>ikebana</td>\n",
       "      <td>bodakdev</td>\n",
       "      <td>19.2</td>\n",
       "      <td>12000.0</td>\n",
       "      <td>16000.0</td>\n",
       "      <td>Super Built up area 16000(1486.45 sq.m.)</td>\n",
       "      <td>6</td>\n",
       "      <td>7</td>\n",
       "      <td>2</td>\n",
       "      <td>19.0</td>\n",
       "      <td>East</td>\n",
       "      <td>Under Construction</td>\n",
       "      <td>16000.0</td>\n",
       "      <td>NaN</td>\n",
       "      <td>NaN</td>\n",
       "      <td>1</td>\n",
       "      <td>1</td>\n",
       "      <td>1</td>\n",
       "      <td>1</td>\n",
       "      <td>0</td>\n",
       "      <td>0</td>\n",
       "      <td>253</td>\n",
       "    </tr>\n",
       "  </tbody>\n",
       "</table>\n",
       "</div>"
      ],
      "text/plain": [
       "     property_type                 society        sector  price  \\\n",
       "2621         house       anurita bungalows       thaltej   22.0   \n",
       "3987         house              on request  science city   22.0   \n",
       "1305         house  neelkanth greens villa       thaltej   20.0   \n",
       "5407         house      individual bunglow  science city   20.0   \n",
       "4803          flat                 ikebana      bodakdev   19.2   \n",
       "\n",
       "      price_per_sqft     area  \\\n",
       "2621        298507.0    737.0   \n",
       "3987         21256.0  10350.0   \n",
       "1305         12005.0  16660.0   \n",
       "5407         19324.0  10350.0   \n",
       "4803         12000.0  16000.0   \n",
       "\n",
       "                                           areaWithType  bedRoom  bathroom  \\\n",
       "2621  Plot area 1100(102.19 sq.m.)Carpet area: 737 s...        4         4   \n",
       "3987  Plot area 1400(1170.58 sq.m.)Built Up area: 13...        5         4   \n",
       "1305  Plot area 1851(1547.67 sq.m.)Built Up area: 70...        4         4   \n",
       "5407  Plot area 1378(1152.18 sq.m.)Carpet area: 1150...        5         5   \n",
       "4803           Super Built up area 16000(1486.45 sq.m.)        6         7   \n",
       "\n",
       "     balcony  floorNum      facing       agePossession  super_built_up_area  \\\n",
       "2621       3       2.0        East  Under Construction                  NaN   \n",
       "3987       3       2.0  North-East      Relatively New                  NaN   \n",
       "1305       1       3.0        East      Moderately Old                  NaN   \n",
       "5407       2       2.0       North      Relatively New                  NaN   \n",
       "4803       2      19.0        East  Under Construction              16000.0   \n",
       "\n",
       "      built_up_area  carpet_area  study room  servant room  store room  \\\n",
       "2621            NaN        737.0           1             0           1   \n",
       "3987         1300.0       1150.0           1             1           1   \n",
       "1305          700.0          NaN           0             0           1   \n",
       "5407            NaN       1150.0           1             1           1   \n",
       "4803            NaN          NaN           1             1           1   \n",
       "\n",
       "      pooja room  others  furnishing_type  luxury_score  \n",
       "2621           1       0                0           200  \n",
       "3987           1       0                1            96  \n",
       "1305           1       0                1           105  \n",
       "5407           1       0                1            98  \n",
       "4803           1       0                0           253  "
      ]
     },
     "execution_count": 12,
     "metadata": {},
     "output_type": "execute_result"
    }
   ],
   "source": [
    "outliers.sort_values('price',ascending=False).head()"
   ]
  },
  {
   "cell_type": "code",
   "execution_count": 13,
   "id": "cbe15399",
   "metadata": {},
   "outputs": [],
   "source": [
    "# on the basis of price col we can say that there are some genuine outliers but there are some data erros as well"
   ]
  },
  {
   "cell_type": "markdown",
   "id": "c1acb333",
   "metadata": {
    "heading_collapsed": true
   },
   "source": [
    "### Price_per_sqft"
   ]
  },
  {
   "cell_type": "code",
   "execution_count": 14,
   "id": "9167118e",
   "metadata": {
    "hidden": true
   },
   "outputs": [
    {
     "data": {
      "text/plain": [
       "<seaborn.axisgrid.FacetGrid at 0x2d190029990>"
      ]
     },
     "execution_count": 14,
     "metadata": {},
     "output_type": "execute_result"
    },
    {
     "data": {
      "image/png": "[encoded data removed]",
      "text/plain": [
       "<Figure size 500x500 with 1 Axes>"
      ]
     },
     "metadata": {},
     "output_type": "display_data"
    }
   ],
   "source": [
    "sns.displot(df['price_per_sqft'])"
   ]
  },
  {
   "cell_type": "code",
   "execution_count": 15,
   "id": "84ac753c",
   "metadata": {
    "hidden": true
   },
   "outputs": [
    {
     "data": {
      "text/plain": [
       "<Axes: xlabel='price_per_sqft'>"
      ]
     },
     "execution_count": 15,
     "metadata": {},
     "output_type": "execute_result"
    },
    {
     "data": {
      "image/png": "[encoded data removed]",
      "text/plain": [
       "<Figure size 640x480 with 1 Axes>"
      ]
     },
     "metadata": {},
     "output_type": "display_data"
    }
   ],
   "source": [
    "sns.boxplot(x=df['price_per_sqft'])"
   ]
  },
  {
   "cell_type": "code",
   "execution_count": 16,
   "id": "c9058596",
   "metadata": {
    "hidden": true
   },
   "outputs": [
    {
     "data": {
      "text/plain": [
       "(464,\n",
       " count    4.640000e+02\n",
       " mean     1.029562e+05\n",
       " std      5.326021e+05\n",
       " min      2.039400e+04\n",
       " 25%      2.896675e+04\n",
       " 50%      4.240350e+04\n",
       " 75%      7.402500e+04\n",
       " max      8.100000e+06\n",
       " Name: price_per_sqft, dtype: float64)"
      ]
     },
     "execution_count": 16,
     "metadata": {},
     "output_type": "execute_result"
    }
   ],
   "source": [
    "# Calculate the IQR for the 'price' column\n",
    "Q1 = df['price_per_sqft'].quantile(0.25)\n",
    "Q3 = df['price_per_sqft'].quantile(0.80)\n",
    "IQR = Q3 - Q1\n",
    "\n",
    "# Define bounds for outliers\n",
    "lower_bound = Q1 - 1.5 * IQR\n",
    "upper_bound = Q3 + 1.5 * IQR\n",
    "\n",
    "# Identify outliers\n",
    "outliers_sqft = df[(df['price_per_sqft'] < lower_bound) | (df['price_per_sqft'] > upper_bound)]\n",
    "\n",
    "# Displaying the number of outliers and some statistics\n",
    "num_outliers = outliers_sqft.shape[0]\n",
    "outliers_sqft_stats = outliers_sqft['price_per_sqft'].describe()\n",
    "\n",
    "num_outliers, outliers_sqft_stats"
   ]
  },
  {
   "cell_type": "code",
   "execution_count": 17,
   "id": "668d093b",
   "metadata": {
    "hidden": true
   },
   "outputs": [
    {
     "name": "stderr",
     "output_type": "stream",
     "text": [
      "C:\\Users\\Arpit\\AppData\\Local\\Temp\\ipykernel_6412\\3310256366.py:1: SettingWithCopyWarning: \n",
      "A value is trying to be set on a copy of a slice from a DataFrame.\n",
      "Try using .loc[row_indexer,col_indexer] = value instead\n",
      "\n",
      "See the caveats in the documentation: https://pandas.pydata.org/pandas-docs/stable/user_guide/indexing.html#returning-a-view-versus-a-copy\n",
      "  outliers_sqft['area'] = outliers_sqft['area'].apply(lambda x:x*9 if x<1200 else x)\n"
     ]
    }
   ],
   "source": [
    "outliers_sqft['area'] = outliers_sqft['area'].apply(lambda x:x*9 if x<1200 else x)"
   ]
  },
  {
   "cell_type": "code",
   "execution_count": 18,
   "id": "732717f3",
   "metadata": {
    "hidden": true
   },
   "outputs": [
    {
     "name": "stderr",
     "output_type": "stream",
     "text": [
      "C:\\Users\\Arpit\\AppData\\Local\\Temp\\ipykernel_6412\\3686006548.py:1: SettingWithCopyWarning: \n",
      "A value is trying to be set on a copy of a slice from a DataFrame.\n",
      "Try using .loc[row_indexer,col_indexer] = value instead\n",
      "\n",
      "See the caveats in the documentation: https://pandas.pydata.org/pandas-docs/stable/user_guide/indexing.html#returning-a-view-versus-a-copy\n",
      "  outliers_sqft['price_per_sqft'] = round((outliers_sqft['price']*10000000)/outliers_sqft['area'])\n"
     ]
    }
   ],
   "source": [
    "outliers_sqft['price_per_sqft'] = round((outliers_sqft['price']*10000000)/outliers_sqft['area'])"
   ]
  },
  {
   "cell_type": "code",
   "execution_count": 19,
   "id": "3cc18e5d",
   "metadata": {
    "hidden": true
   },
   "outputs": [
    {
     "data": {
      "text/plain": [
       "count       464.000000\n",
       "mean      13403.415948\n",
       "std       59684.446068\n",
       "min        2252.000000\n",
       "25%        3569.750000\n",
       "50%        5556.000000\n",
       "75%       10007.750000\n",
       "max      900000.000000\n",
       "Name: price_per_sqft, dtype: float64"
      ]
     },
     "execution_count": 19,
     "metadata": {},
     "output_type": "execute_result"
    }
   ],
   "source": [
    "outliers_sqft['price_per_sqft'].describe()"
   ]
  },
  {
   "cell_type": "code",
   "execution_count": 20,
   "id": "93e6a458",
   "metadata": {
    "hidden": true
   },
   "outputs": [],
   "source": [
    "df.update(outliers_sqft)"
   ]
  },
  {
   "cell_type": "code",
   "execution_count": 21,
   "id": "138866a3",
   "metadata": {
    "hidden": true
   },
   "outputs": [
    {
     "data": {
      "text/plain": [
       "<seaborn.axisgrid.FacetGrid at 0x2d1966af8d0>"
      ]
     },
     "execution_count": 21,
     "metadata": {},
     "output_type": "execute_result"
    },
    {
     "data": {
      "image/png": "[encoded data removed]",
      "text/plain": [
       "<Figure size 500x500 with 1 Axes>"
      ]
     },
     "metadata": {},
     "output_type": "display_data"
    }
   ],
   "source": [
    "sns.displot(df['price_per_sqft'])"
   ]
  },
  {
   "cell_type": "code",
   "execution_count": 22,
   "id": "50b71b61",
   "metadata": {
    "hidden": true
   },
   "outputs": [
    {
     "data": {
      "text/plain": [
       "<Axes: xlabel='price_per_sqft'>"
      ]
     },
     "execution_count": 22,
     "metadata": {},
     "output_type": "execute_result"
    },
    {
     "data": {
      "image/png": "[encoded data removed]",
      "text/plain": [
       "<Figure size 640x480 with 1 Axes>"
      ]
     },
     "metadata": {},
     "output_type": "display_data"
    }
   ],
   "source": [
    "sns.boxplot(x=df['price_per_sqft'])"
   ]
  },
  {
   "cell_type": "code",
   "execution_count": 23,
   "id": "a1729f57",
   "metadata": {
    "hidden": true
   },
   "outputs": [
    {
     "data": {
      "text/html": [
       "<div>\n",
       "<style scoped>\n",
       "    .dataframe tbody tr th:only-of-type {\n",
       "        vertical-align: middle;\n",
       "    }\n",
       "\n",
       "    .dataframe tbody tr th {\n",
       "        vertical-align: top;\n",
       "    }\n",
       "\n",
       "    .dataframe thead th {\n",
       "        text-align: right;\n",
       "    }\n",
       "</style>\n",
       "<table border=\"1\" class=\"dataframe\">\n",
       "  <thead>\n",
       "    <tr style=\"text-align: right;\">\n",
       "      <th></th>\n",
       "      <th>property_type</th>\n",
       "      <th>society</th>\n",
       "      <th>sector</th>\n",
       "      <th>price</th>\n",
       "      <th>price_per_sqft</th>\n",
       "      <th>area</th>\n",
       "      <th>areaWithType</th>\n",
       "      <th>bedRoom</th>\n",
       "      <th>bathroom</th>\n",
       "      <th>balcony</th>\n",
       "      <th>floorNum</th>\n",
       "      <th>facing</th>\n",
       "      <th>agePossession</th>\n",
       "      <th>super_built_up_area</th>\n",
       "      <th>built_up_area</th>\n",
       "      <th>carpet_area</th>\n",
       "      <th>study room</th>\n",
       "      <th>servant room</th>\n",
       "      <th>store room</th>\n",
       "      <th>pooja room</th>\n",
       "      <th>others</th>\n",
       "      <th>furnishing_type</th>\n",
       "      <th>luxury_score</th>\n",
       "    </tr>\n",
       "  </thead>\n",
       "  <tbody>\n",
       "    <tr>\n",
       "      <th>311</th>\n",
       "      <td>house</td>\n",
       "      <td>malhar bungalows</td>\n",
       "      <td>shilaj</td>\n",
       "      <td>17.00</td>\n",
       "      <td>124088.0</td>\n",
       "      <td>1370.0</td>\n",
       "      <td>Plot area 1370(127.28 sq.m.)</td>\n",
       "      <td>4.0</td>\n",
       "      <td>5.0</td>\n",
       "      <td>3+</td>\n",
       "      <td>3.0</td>\n",
       "      <td>East</td>\n",
       "      <td>New Property</td>\n",
       "      <td>NaN</td>\n",
       "      <td>1370.00</td>\n",
       "      <td>NaN</td>\n",
       "      <td>1.0</td>\n",
       "      <td>1.0</td>\n",
       "      <td>1.0</td>\n",
       "      <td>1.0</td>\n",
       "      <td>0.0</td>\n",
       "      <td>1.0</td>\n",
       "      <td>54.0</td>\n",
       "    </tr>\n",
       "    <tr>\n",
       "      <th>343</th>\n",
       "      <td>house</td>\n",
       "      <td>arth bunglow</td>\n",
       "      <td>prahlad nagar</td>\n",
       "      <td>1.70</td>\n",
       "      <td>157407.0</td>\n",
       "      <td>108.0</td>\n",
       "      <td>Plot area 1.35(1.13 sq.m.)</td>\n",
       "      <td>3.0</td>\n",
       "      <td>3.0</td>\n",
       "      <td>1</td>\n",
       "      <td>2.0</td>\n",
       "      <td>NaN</td>\n",
       "      <td>Moderately Old</td>\n",
       "      <td>NaN</td>\n",
       "      <td>12.15</td>\n",
       "      <td>NaN</td>\n",
       "      <td>0.0</td>\n",
       "      <td>0.0</td>\n",
       "      <td>0.0</td>\n",
       "      <td>0.0</td>\n",
       "      <td>1.0</td>\n",
       "      <td>1.0</td>\n",
       "      <td>56.0</td>\n",
       "    </tr>\n",
       "    <tr>\n",
       "      <th>403</th>\n",
       "      <td>house</td>\n",
       "      <td>independent</td>\n",
       "      <td>vastral</td>\n",
       "      <td>4.26</td>\n",
       "      <td>45079.0</td>\n",
       "      <td>945.0</td>\n",
       "      <td>Built Up area: 105 (9.75 sq.m.)</td>\n",
       "      <td>1.0</td>\n",
       "      <td>1.0</td>\n",
       "      <td>0</td>\n",
       "      <td>1.0</td>\n",
       "      <td>NaN</td>\n",
       "      <td>Undefined</td>\n",
       "      <td>NaN</td>\n",
       "      <td>105.00</td>\n",
       "      <td>NaN</td>\n",
       "      <td>0.0</td>\n",
       "      <td>0.0</td>\n",
       "      <td>0.0</td>\n",
       "      <td>0.0</td>\n",
       "      <td>0.0</td>\n",
       "      <td>0.0</td>\n",
       "      <td>0.0</td>\n",
       "    </tr>\n",
       "    <tr>\n",
       "      <th>843</th>\n",
       "      <td>house</td>\n",
       "      <td>the north park by adani realty</td>\n",
       "      <td>vaishnodevi circle</td>\n",
       "      <td>18.00</td>\n",
       "      <td>127298.0</td>\n",
       "      <td>1414.0</td>\n",
       "      <td>Plot area 1414(131.36 sq.m.)Built Up area: 105...</td>\n",
       "      <td>5.0</td>\n",
       "      <td>6.0</td>\n",
       "      <td>3</td>\n",
       "      <td>2.0</td>\n",
       "      <td>North-East</td>\n",
       "      <td>Under Construction</td>\n",
       "      <td>NaN</td>\n",
       "      <td>1050.00</td>\n",
       "      <td>990.0</td>\n",
       "      <td>1.0</td>\n",
       "      <td>1.0</td>\n",
       "      <td>0.0</td>\n",
       "      <td>1.0</td>\n",
       "      <td>1.0</td>\n",
       "      <td>0.0</td>\n",
       "      <td>147.0</td>\n",
       "    </tr>\n",
       "    <tr>\n",
       "      <th>850</th>\n",
       "      <td>flat</td>\n",
       "      <td>satya square</td>\n",
       "      <td>chandkheda</td>\n",
       "      <td>0.81</td>\n",
       "      <td>900000.0</td>\n",
       "      <td>9.0</td>\n",
       "      <td>Carpet area: 1 (0.09 sq.m.)</td>\n",
       "      <td>3.0</td>\n",
       "      <td>3.0</td>\n",
       "      <td>1</td>\n",
       "      <td>6.0</td>\n",
       "      <td>NaN</td>\n",
       "      <td>Moderately Old</td>\n",
       "      <td>NaN</td>\n",
       "      <td>NaN</td>\n",
       "      <td>1.0</td>\n",
       "      <td>1.0</td>\n",
       "      <td>1.0</td>\n",
       "      <td>0.0</td>\n",
       "      <td>1.0</td>\n",
       "      <td>0.0</td>\n",
       "      <td>0.0</td>\n",
       "      <td>0.0</td>\n",
       "    </tr>\n",
       "    <tr>\n",
       "      <th>2621</th>\n",
       "      <td>house</td>\n",
       "      <td>anurita bungalows</td>\n",
       "      <td>thaltej</td>\n",
       "      <td>22.00</td>\n",
       "      <td>33167.0</td>\n",
       "      <td>6633.0</td>\n",
       "      <td>Plot area 1100(102.19 sq.m.)Carpet area: 737 s...</td>\n",
       "      <td>4.0</td>\n",
       "      <td>4.0</td>\n",
       "      <td>3</td>\n",
       "      <td>2.0</td>\n",
       "      <td>East</td>\n",
       "      <td>Under Construction</td>\n",
       "      <td>NaN</td>\n",
       "      <td>NaN</td>\n",
       "      <td>737.0</td>\n",
       "      <td>1.0</td>\n",
       "      <td>0.0</td>\n",
       "      <td>1.0</td>\n",
       "      <td>1.0</td>\n",
       "      <td>0.0</td>\n",
       "      <td>0.0</td>\n",
       "      <td>200.0</td>\n",
       "    </tr>\n",
       "    <tr>\n",
       "      <th>3403</th>\n",
       "      <td>house</td>\n",
       "      <td>nishant ratnaakar verte</td>\n",
       "      <td>south bopal</td>\n",
       "      <td>3.00</td>\n",
       "      <td>833333.0</td>\n",
       "      <td>36.0</td>\n",
       "      <td>Plot area 4(0.37 sq.m.)</td>\n",
       "      <td>4.0</td>\n",
       "      <td>5.0</td>\n",
       "      <td>3+</td>\n",
       "      <td>4.0</td>\n",
       "      <td>NaN</td>\n",
       "      <td>New Property</td>\n",
       "      <td>NaN</td>\n",
       "      <td>4.00</td>\n",
       "      <td>NaN</td>\n",
       "      <td>0.0</td>\n",
       "      <td>0.0</td>\n",
       "      <td>0.0</td>\n",
       "      <td>0.0</td>\n",
       "      <td>0.0</td>\n",
       "      <td>0.0</td>\n",
       "      <td>0.0</td>\n",
       "    </tr>\n",
       "    <tr>\n",
       "      <th>3463</th>\n",
       "      <td>flat</td>\n",
       "      <td>swastik serenity</td>\n",
       "      <td>narol</td>\n",
       "      <td>0.20</td>\n",
       "      <td>111111.0</td>\n",
       "      <td>18.0</td>\n",
       "      <td>Carpet area: 2 (0.19 sq.m.)</td>\n",
       "      <td>2.0</td>\n",
       "      <td>1.0</td>\n",
       "      <td>2</td>\n",
       "      <td>7.0</td>\n",
       "      <td>South</td>\n",
       "      <td>Relatively New</td>\n",
       "      <td>NaN</td>\n",
       "      <td>NaN</td>\n",
       "      <td>2.0</td>\n",
       "      <td>0.0</td>\n",
       "      <td>0.0</td>\n",
       "      <td>0.0</td>\n",
       "      <td>0.0</td>\n",
       "      <td>0.0</td>\n",
       "      <td>0.0</td>\n",
       "      <td>41.0</td>\n",
       "    </tr>\n",
       "    <tr>\n",
       "      <th>3718</th>\n",
       "      <td>house</td>\n",
       "      <td>rachana society</td>\n",
       "      <td>satellite</td>\n",
       "      <td>6.51</td>\n",
       "      <td>40185.0</td>\n",
       "      <td>1620.0</td>\n",
       "      <td>Plot area 1620(150.5 sq.m.)Carpet area: 5760 s...</td>\n",
       "      <td>2.0</td>\n",
       "      <td>2.0</td>\n",
       "      <td>2</td>\n",
       "      <td>2.0</td>\n",
       "      <td>North-West</td>\n",
       "      <td>Old Property</td>\n",
       "      <td>NaN</td>\n",
       "      <td>NaN</td>\n",
       "      <td>5760.0</td>\n",
       "      <td>1.0</td>\n",
       "      <td>0.0</td>\n",
       "      <td>1.0</td>\n",
       "      <td>1.0</td>\n",
       "      <td>0.0</td>\n",
       "      <td>1.0</td>\n",
       "      <td>156.0</td>\n",
       "    </tr>\n",
       "    <tr>\n",
       "      <th>4748</th>\n",
       "      <td>house</td>\n",
       "      <td>independent</td>\n",
       "      <td>ctm</td>\n",
       "      <td>0.30</td>\n",
       "      <td>333333.0</td>\n",
       "      <td>9.0</td>\n",
       "      <td>Plot area 1(0.09 sq.m.)</td>\n",
       "      <td>1.0</td>\n",
       "      <td>1.0</td>\n",
       "      <td>1</td>\n",
       "      <td>1.0</td>\n",
       "      <td>NaN</td>\n",
       "      <td>Old Property</td>\n",
       "      <td>NaN</td>\n",
       "      <td>1.00</td>\n",
       "      <td>NaN</td>\n",
       "      <td>0.0</td>\n",
       "      <td>0.0</td>\n",
       "      <td>0.0</td>\n",
       "      <td>0.0</td>\n",
       "      <td>0.0</td>\n",
       "      <td>0.0</td>\n",
       "      <td>0.0</td>\n",
       "    </tr>\n",
       "  </tbody>\n",
       "</table>\n",
       "</div>"
      ],
      "text/plain": [
       "     property_type                         society              sector  price  \\\n",
       "311          house                malhar bungalows              shilaj  17.00   \n",
       "343          house                    arth bunglow       prahlad nagar   1.70   \n",
       "403          house                     independent             vastral   4.26   \n",
       "843          house  the north park by adani realty  vaishnodevi circle  18.00   \n",
       "850           flat                    satya square          chandkheda   0.81   \n",
       "2621         house               anurita bungalows             thaltej  22.00   \n",
       "3403         house         nishant ratnaakar verte         south bopal   3.00   \n",
       "3463          flat                swastik serenity               narol   0.20   \n",
       "3718         house                 rachana society           satellite   6.51   \n",
       "4748         house                     independent                 ctm   0.30   \n",
       "\n",
       "      price_per_sqft    area  \\\n",
       "311         124088.0  1370.0   \n",
       "343         157407.0   108.0   \n",
       "403          45079.0   945.0   \n",
       "843         127298.0  1414.0   \n",
       "850         900000.0     9.0   \n",
       "2621         33167.0  6633.0   \n",
       "3403        833333.0    36.0   \n",
       "3463        111111.0    18.0   \n",
       "3718         40185.0  1620.0   \n",
       "4748        333333.0     9.0   \n",
       "\n",
       "                                           areaWithType  bedRoom  bathroom  \\\n",
       "311                        Plot area 1370(127.28 sq.m.)      4.0       5.0   \n",
       "343                          Plot area 1.35(1.13 sq.m.)      3.0       3.0   \n",
       "403                     Built Up area: 105 (9.75 sq.m.)      1.0       1.0   \n",
       "843   Plot area 1414(131.36 sq.m.)Built Up area: 105...      5.0       6.0   \n",
       "850                         Carpet area: 1 (0.09 sq.m.)      3.0       3.0   \n",
       "2621  Plot area 1100(102.19 sq.m.)Carpet area: 737 s...      4.0       4.0   \n",
       "3403                            Plot area 4(0.37 sq.m.)      4.0       5.0   \n",
       "3463                        Carpet area: 2 (0.19 sq.m.)      2.0       1.0   \n",
       "3718  Plot area 1620(150.5 sq.m.)Carpet area: 5760 s...      2.0       2.0   \n",
       "4748                            Plot area 1(0.09 sq.m.)      1.0       1.0   \n",
       "\n",
       "     balcony  floorNum      facing       agePossession  super_built_up_area  \\\n",
       "311       3+       3.0        East        New Property                  NaN   \n",
       "343        1       2.0         NaN      Moderately Old                  NaN   \n",
       "403        0       1.0         NaN           Undefined                  NaN   \n",
       "843        3       2.0  North-East  Under Construction                  NaN   \n",
       "850        1       6.0         NaN      Moderately Old                  NaN   \n",
       "2621       3       2.0        East  Under Construction                  NaN   \n",
       "3403      3+       4.0         NaN        New Property                  NaN   \n",
       "3463       2       7.0       South      Relatively New                  NaN   \n",
       "3718       2       2.0  North-West        Old Property                  NaN   \n",
       "4748       1       1.0         NaN        Old Property                  NaN   \n",
       "\n",
       "      built_up_area  carpet_area  study room  servant room  store room  \\\n",
       "311         1370.00          NaN         1.0           1.0         1.0   \n",
       "343           12.15          NaN         0.0           0.0         0.0   \n",
       "403          105.00          NaN         0.0           0.0         0.0   \n",
       "843         1050.00        990.0         1.0           1.0         0.0   \n",
       "850             NaN          1.0         1.0           1.0         0.0   \n",
       "2621            NaN        737.0         1.0           0.0         1.0   \n",
       "3403           4.00          NaN         0.0           0.0         0.0   \n",
       "3463            NaN          2.0         0.0           0.0         0.0   \n",
       "3718            NaN       5760.0         1.0           0.0         1.0   \n",
       "4748           1.00          NaN         0.0           0.0         0.0   \n",
       "\n",
       "      pooja room  others  furnishing_type  luxury_score  \n",
       "311          1.0     0.0              1.0          54.0  \n",
       "343          0.0     1.0              1.0          56.0  \n",
       "403          0.0     0.0              0.0           0.0  \n",
       "843          1.0     1.0              0.0         147.0  \n",
       "850          1.0     0.0              0.0           0.0  \n",
       "2621         1.0     0.0              0.0         200.0  \n",
       "3403         0.0     0.0              0.0           0.0  \n",
       "3463         0.0     0.0              0.0          41.0  \n",
       "3718         1.0     0.0              1.0         156.0  \n",
       "4748         0.0     0.0              0.0           0.0  "
      ]
     },
     "execution_count": 23,
     "metadata": {},
     "output_type": "execute_result"
    }
   ],
   "source": [
    "df[df['price_per_sqft']>30000]"
   ]
  },
  {
   "cell_type": "code",
   "execution_count": 24,
   "id": "cb8fc890",
   "metadata": {
    "hidden": true
   },
   "outputs": [],
   "source": [
    "df = df[df['price_per_sqft'] <= 50000]"
   ]
  },
  {
   "cell_type": "code",
   "execution_count": 25,
   "id": "578c4ddd",
   "metadata": {
    "hidden": true
   },
   "outputs": [
    {
     "data": {
      "text/plain": [
       "<Axes: xlabel='price_per_sqft'>"
      ]
     },
     "execution_count": 25,
     "metadata": {},
     "output_type": "execute_result"
    },
    {
     "data": {
      "image/png": "[encoded data removed]",
      "text/plain": [
       "<Figure size 640x480 with 1 Axes>"
      ]
     },
     "metadata": {},
     "output_type": "display_data"
    }
   ],
   "source": [
    "sns.boxplot(x=df['price_per_sqft'])"
   ]
  },
  {
   "cell_type": "markdown",
   "id": "d7ada3bf",
   "metadata": {},
   "source": [
    "### Area"
   ]
  },
  {
   "cell_type": "code",
   "execution_count": 26,
   "id": "6f60a8d6",
   "metadata": {},
   "outputs": [
    {
     "data": {
      "text/plain": [
       "<seaborn.axisgrid.FacetGrid at 0x2d19b73cd10>"
      ]
     },
     "execution_count": 26,
     "metadata": {},
     "output_type": "execute_result"
    },
    {
     "data": {
      "image/png": "[encoded data removed]",
      "text/plain": [
       "<Figure size 500x500 with 1 Axes>"
      ]
     },
     "metadata": {},
     "output_type": "display_data"
    }
   ],
   "source": [
    "sns.displot(df['area'])"
   ]
  },
  {
   "cell_type": "code",
   "execution_count": 27,
   "id": "f8495a0f",
   "metadata": {},
   "outputs": [
    {
     "data": {
      "text/plain": [
       "<Axes: xlabel='area'>"
      ]
     },
     "execution_count": 27,
     "metadata": {},
     "output_type": "execute_result"
    },
    {
     "data": {
      "image/png": "[encoded data removed]",
      "text/plain": [
       "<Figure size 640x480 with 1 Axes>"
      ]
     },
     "metadata": {},
     "output_type": "display_data"
    }
   ],
   "source": [
    "sns.boxplot(x=df['area'])"
   ]
  },
  {
   "cell_type": "code",
   "execution_count": 28,
   "id": "a14cb24d",
   "metadata": {},
   "outputs": [
    {
     "data": {
      "text/plain": [
       "count    5.914000e+03\n",
       "mean     5.619527e+03\n",
       "std      1.463878e+05\n",
       "min      5.600000e+01\n",
       "25%      1.044000e+03\n",
       "50%      1.435000e+03\n",
       "75%      2.139750e+03\n",
       "max      9.800000e+06\n",
       "Name: area, dtype: float64"
      ]
     },
     "execution_count": 28,
     "metadata": {},
     "output_type": "execute_result"
    }
   ],
   "source": [
    "df['area'].describe()"
   ]
  },
  {
   "cell_type": "code",
   "execution_count": 29,
   "id": "38b290d2",
   "metadata": {},
   "outputs": [
    {
     "data": {
      "text/html": [
       "<div>\n",
       "<style scoped>\n",
       "    .dataframe tbody tr th:only-of-type {\n",
       "        vertical-align: middle;\n",
       "    }\n",
       "\n",
       "    .dataframe tbody tr th {\n",
       "        vertical-align: top;\n",
       "    }\n",
       "\n",
       "    .dataframe thead th {\n",
       "        text-align: right;\n",
       "    }\n",
       "</style>\n",
       "<table border=\"1\" class=\"dataframe\">\n",
       "  <thead>\n",
       "    <tr style=\"text-align: right;\">\n",
       "      <th></th>\n",
       "      <th>property_type</th>\n",
       "      <th>society</th>\n",
       "      <th>sector</th>\n",
       "      <th>price</th>\n",
       "      <th>price_per_sqft</th>\n",
       "      <th>area</th>\n",
       "      <th>areaWithType</th>\n",
       "      <th>bedRoom</th>\n",
       "      <th>bathroom</th>\n",
       "      <th>balcony</th>\n",
       "      <th>floorNum</th>\n",
       "      <th>facing</th>\n",
       "      <th>agePossession</th>\n",
       "      <th>super_built_up_area</th>\n",
       "      <th>built_up_area</th>\n",
       "      <th>carpet_area</th>\n",
       "      <th>study room</th>\n",
       "      <th>servant room</th>\n",
       "      <th>store room</th>\n",
       "      <th>pooja room</th>\n",
       "      <th>others</th>\n",
       "      <th>furnishing_type</th>\n",
       "      <th>luxury_score</th>\n",
       "    </tr>\n",
       "  </thead>\n",
       "  <tbody>\n",
       "    <tr>\n",
       "      <th>57</th>\n",
       "      <td>flat</td>\n",
       "      <td>aakruti aangan</td>\n",
       "      <td>vatva</td>\n",
       "      <td>0.15</td>\n",
       "      <td>6.0</td>\n",
       "      <td>250000.0</td>\n",
       "      <td>Carpet area: 23431</td>\n",
       "      <td>1.0</td>\n",
       "      <td>1.0</td>\n",
       "      <td>1</td>\n",
       "      <td>2.0</td>\n",
       "      <td>North-East</td>\n",
       "      <td>Moderately Old</td>\n",
       "      <td>NaN</td>\n",
       "      <td>NaN</td>\n",
       "      <td>2.343100e+04</td>\n",
       "      <td>0.0</td>\n",
       "      <td>0.0</td>\n",
       "      <td>0.0</td>\n",
       "      <td>0.0</td>\n",
       "      <td>0.0</td>\n",
       "      <td>0.0</td>\n",
       "      <td>46.0</td>\n",
       "    </tr>\n",
       "    <tr>\n",
       "      <th>137</th>\n",
       "      <td>flat</td>\n",
       "      <td>parshwanath metrocity</td>\n",
       "      <td>chandkheda</td>\n",
       "      <td>0.98</td>\n",
       "      <td>1.0</td>\n",
       "      <td>9800000.0</td>\n",
       "      <td>Super Built up area 1665210(1392327.64 sq.m.)</td>\n",
       "      <td>3.0</td>\n",
       "      <td>3.0</td>\n",
       "      <td>3</td>\n",
       "      <td>1.0</td>\n",
       "      <td>North</td>\n",
       "      <td>Moderately Old</td>\n",
       "      <td>1665210.0</td>\n",
       "      <td>NaN</td>\n",
       "      <td>NaN</td>\n",
       "      <td>0.0</td>\n",
       "      <td>0.0</td>\n",
       "      <td>0.0</td>\n",
       "      <td>0.0</td>\n",
       "      <td>1.0</td>\n",
       "      <td>0.0</td>\n",
       "      <td>31.0</td>\n",
       "    </tr>\n",
       "    <tr>\n",
       "      <th>140</th>\n",
       "      <td>house</td>\n",
       "      <td>sudama homes 2</td>\n",
       "      <td>nana chiloda</td>\n",
       "      <td>1.50</td>\n",
       "      <td>115.0</td>\n",
       "      <td>130435.0</td>\n",
       "      <td>Plot area 3(12140.58 sq.m.)</td>\n",
       "      <td>4.0</td>\n",
       "      <td>4.0</td>\n",
       "      <td>2</td>\n",
       "      <td>1.0</td>\n",
       "      <td>NaN</td>\n",
       "      <td>Relatively New</td>\n",
       "      <td>NaN</td>\n",
       "      <td>3.0</td>\n",
       "      <td>NaN</td>\n",
       "      <td>0.0</td>\n",
       "      <td>0.0</td>\n",
       "      <td>0.0</td>\n",
       "      <td>0.0</td>\n",
       "      <td>0.0</td>\n",
       "      <td>0.0</td>\n",
       "      <td>0.0</td>\n",
       "    </tr>\n",
       "    <tr>\n",
       "      <th>634</th>\n",
       "      <td>flat</td>\n",
       "      <td>vision madhuvan glory</td>\n",
       "      <td>nava naroda</td>\n",
       "      <td>0.32</td>\n",
       "      <td>24.0</td>\n",
       "      <td>133333.0</td>\n",
       "      <td>Super Built up area 125(12500 sq.m.)Built Up a...</td>\n",
       "      <td>2.0</td>\n",
       "      <td>2.0</td>\n",
       "      <td>3</td>\n",
       "      <td>2.0</td>\n",
       "      <td>West</td>\n",
       "      <td>Moderately Old</td>\n",
       "      <td>125.0</td>\n",
       "      <td>120.0</td>\n",
       "      <td>9.000000e+01</td>\n",
       "      <td>0.0</td>\n",
       "      <td>0.0</td>\n",
       "      <td>0.0</td>\n",
       "      <td>1.0</td>\n",
       "      <td>0.0</td>\n",
       "      <td>0.0</td>\n",
       "      <td>23.0</td>\n",
       "    </tr>\n",
       "    <tr>\n",
       "      <th>1997</th>\n",
       "      <td>flat</td>\n",
       "      <td>avirat silver habitat</td>\n",
       "      <td>odhav</td>\n",
       "      <td>0.30</td>\n",
       "      <td>1.0</td>\n",
       "      <td>3000000.0</td>\n",
       "      <td>Carpet area: 121 (489670.06 sq.m.)</td>\n",
       "      <td>2.0</td>\n",
       "      <td>2.0</td>\n",
       "      <td>1</td>\n",
       "      <td>2.0</td>\n",
       "      <td>NaN</td>\n",
       "      <td>Relatively New</td>\n",
       "      <td>NaN</td>\n",
       "      <td>NaN</td>\n",
       "      <td>1.210000e+02</td>\n",
       "      <td>0.0</td>\n",
       "      <td>0.0</td>\n",
       "      <td>0.0</td>\n",
       "      <td>0.0</td>\n",
       "      <td>0.0</td>\n",
       "      <td>0.0</td>\n",
       "      <td>22.0</td>\n",
       "    </tr>\n",
       "    <tr>\n",
       "      <th>2161</th>\n",
       "      <td>flat</td>\n",
       "      <td>jeevan pran residency</td>\n",
       "      <td>nava naroda</td>\n",
       "      <td>0.35</td>\n",
       "      <td>29.0</td>\n",
       "      <td>120690.0</td>\n",
       "      <td>Built Up area: 113 (11300 sq.m.)</td>\n",
       "      <td>2.0</td>\n",
       "      <td>2.0</td>\n",
       "      <td>1</td>\n",
       "      <td>2.0</td>\n",
       "      <td>East</td>\n",
       "      <td>Moderately Old</td>\n",
       "      <td>NaN</td>\n",
       "      <td>113.0</td>\n",
       "      <td>NaN</td>\n",
       "      <td>0.0</td>\n",
       "      <td>0.0</td>\n",
       "      <td>0.0</td>\n",
       "      <td>0.0</td>\n",
       "      <td>0.0</td>\n",
       "      <td>0.0</td>\n",
       "      <td>31.0</td>\n",
       "    </tr>\n",
       "    <tr>\n",
       "      <th>3162</th>\n",
       "      <td>flat</td>\n",
       "      <td>vision madhuvan glory</td>\n",
       "      <td>nava naroda</td>\n",
       "      <td>0.30</td>\n",
       "      <td>22.0</td>\n",
       "      <td>136364.0</td>\n",
       "      <td>Super Built up area 125(12500 sq.m.)Built Up a...</td>\n",
       "      <td>2.0</td>\n",
       "      <td>2.0</td>\n",
       "      <td>3</td>\n",
       "      <td>2.0</td>\n",
       "      <td>East</td>\n",
       "      <td>Moderately Old</td>\n",
       "      <td>125.0</td>\n",
       "      <td>110.0</td>\n",
       "      <td>1.000000e+02</td>\n",
       "      <td>0.0</td>\n",
       "      <td>0.0</td>\n",
       "      <td>0.0</td>\n",
       "      <td>1.0</td>\n",
       "      <td>0.0</td>\n",
       "      <td>0.0</td>\n",
       "      <td>54.0</td>\n",
       "    </tr>\n",
       "    <tr>\n",
       "      <th>3204</th>\n",
       "      <td>flat</td>\n",
       "      <td>507 nandanvan recidency aslali highway</td>\n",
       "      <td>narol</td>\n",
       "      <td>0.25</td>\n",
       "      <td>1.0</td>\n",
       "      <td>2500000.0</td>\n",
       "      <td>Carpet area: 2000000 (185806.08 sq.m.)</td>\n",
       "      <td>1.0</td>\n",
       "      <td>2.0</td>\n",
       "      <td>1</td>\n",
       "      <td>5.0</td>\n",
       "      <td>NaN</td>\n",
       "      <td>Relatively New</td>\n",
       "      <td>NaN</td>\n",
       "      <td>NaN</td>\n",
       "      <td>2.000000e+06</td>\n",
       "      <td>0.0</td>\n",
       "      <td>0.0</td>\n",
       "      <td>0.0</td>\n",
       "      <td>0.0</td>\n",
       "      <td>0.0</td>\n",
       "      <td>0.0</td>\n",
       "      <td>0.0</td>\n",
       "    </tr>\n",
       "    <tr>\n",
       "      <th>3387</th>\n",
       "      <td>flat</td>\n",
       "      <td>olive greens</td>\n",
       "      <td>gota</td>\n",
       "      <td>1.25</td>\n",
       "      <td>114.0</td>\n",
       "      <td>109649.0</td>\n",
       "      <td>Carpet area: 109524 (10175.11 sq.m.)</td>\n",
       "      <td>3.0</td>\n",
       "      <td>3.0</td>\n",
       "      <td>1</td>\n",
       "      <td>6.0</td>\n",
       "      <td>West</td>\n",
       "      <td>Relatively New</td>\n",
       "      <td>NaN</td>\n",
       "      <td>NaN</td>\n",
       "      <td>1.095240e+05</td>\n",
       "      <td>1.0</td>\n",
       "      <td>1.0</td>\n",
       "      <td>0.0</td>\n",
       "      <td>1.0</td>\n",
       "      <td>1.0</td>\n",
       "      <td>0.0</td>\n",
       "      <td>53.0</td>\n",
       "    </tr>\n",
       "    <tr>\n",
       "      <th>3532</th>\n",
       "      <td>house</td>\n",
       "      <td>independent</td>\n",
       "      <td>sarkhej</td>\n",
       "      <td>0.70</td>\n",
       "      <td>2.0</td>\n",
       "      <td>3500000.0</td>\n",
       "      <td>Plot area 99(400639.14 sq.m.)</td>\n",
       "      <td>3.0</td>\n",
       "      <td>3.0</td>\n",
       "      <td>1</td>\n",
       "      <td>1.0</td>\n",
       "      <td>South-West</td>\n",
       "      <td>New Property</td>\n",
       "      <td>NaN</td>\n",
       "      <td>99.0</td>\n",
       "      <td>NaN</td>\n",
       "      <td>0.0</td>\n",
       "      <td>0.0</td>\n",
       "      <td>0.0</td>\n",
       "      <td>0.0</td>\n",
       "      <td>0.0</td>\n",
       "      <td>0.0</td>\n",
       "      <td>0.0</td>\n",
       "    </tr>\n",
       "    <tr>\n",
       "      <th>3617</th>\n",
       "      <td>flat</td>\n",
       "      <td>vision madhuvan glory</td>\n",
       "      <td>nava naroda</td>\n",
       "      <td>0.32</td>\n",
       "      <td>25.0</td>\n",
       "      <td>128000.0</td>\n",
       "      <td>Super Built up area 120(12000 sq.m.)Built Up a...</td>\n",
       "      <td>2.0</td>\n",
       "      <td>2.0</td>\n",
       "      <td>3</td>\n",
       "      <td>2.0</td>\n",
       "      <td>NaN</td>\n",
       "      <td>Moderately Old</td>\n",
       "      <td>120.0</td>\n",
       "      <td>100.0</td>\n",
       "      <td>9.000000e+01</td>\n",
       "      <td>0.0</td>\n",
       "      <td>0.0</td>\n",
       "      <td>0.0</td>\n",
       "      <td>1.0</td>\n",
       "      <td>0.0</td>\n",
       "      <td>0.0</td>\n",
       "      <td>31.0</td>\n",
       "    </tr>\n",
       "    <tr>\n",
       "      <th>5174</th>\n",
       "      <td>flat</td>\n",
       "      <td>mahadev shreenand city 6</td>\n",
       "      <td>new maninagar</td>\n",
       "      <td>0.39</td>\n",
       "      <td>21.0</td>\n",
       "      <td>185714.0</td>\n",
       "      <td>Carpet area: 75.77 (16894.25 sq.m.)</td>\n",
       "      <td>2.0</td>\n",
       "      <td>2.0</td>\n",
       "      <td>2</td>\n",
       "      <td>5.0</td>\n",
       "      <td>NaN</td>\n",
       "      <td>Moderately Old</td>\n",
       "      <td>NaN</td>\n",
       "      <td>NaN</td>\n",
       "      <td>1.818480e+05</td>\n",
       "      <td>0.0</td>\n",
       "      <td>0.0</td>\n",
       "      <td>0.0</td>\n",
       "      <td>0.0</td>\n",
       "      <td>0.0</td>\n",
       "      <td>2.0</td>\n",
       "      <td>16.0</td>\n",
       "    </tr>\n",
       "    <tr>\n",
       "      <th>5561</th>\n",
       "      <td>house</td>\n",
       "      <td>a/50, bhagwati society</td>\n",
       "      <td>chandkheda</td>\n",
       "      <td>0.75</td>\n",
       "      <td>31.0</td>\n",
       "      <td>241935.0</td>\n",
       "      <td>Plot area 100(22296.75 sq.m.)</td>\n",
       "      <td>1.0</td>\n",
       "      <td>1.0</td>\n",
       "      <td>0</td>\n",
       "      <td>1.0</td>\n",
       "      <td>NaN</td>\n",
       "      <td>Old Property</td>\n",
       "      <td>NaN</td>\n",
       "      <td>100.0</td>\n",
       "      <td>NaN</td>\n",
       "      <td>0.0</td>\n",
       "      <td>0.0</td>\n",
       "      <td>0.0</td>\n",
       "      <td>0.0</td>\n",
       "      <td>0.0</td>\n",
       "      <td>0.0</td>\n",
       "      <td>8.0</td>\n",
       "    </tr>\n",
       "    <tr>\n",
       "      <th>5789</th>\n",
       "      <td>house</td>\n",
       "      <td>independent</td>\n",
       "      <td>sarkhej</td>\n",
       "      <td>0.35</td>\n",
       "      <td>2.0</td>\n",
       "      <td>1750000.0</td>\n",
       "      <td>Plot area 2000(200000 sq.m.)</td>\n",
       "      <td>5.0</td>\n",
       "      <td>2.0</td>\n",
       "      <td>3+</td>\n",
       "      <td>1.0</td>\n",
       "      <td>NaN</td>\n",
       "      <td>Old Property</td>\n",
       "      <td>NaN</td>\n",
       "      <td>2000.0</td>\n",
       "      <td>NaN</td>\n",
       "      <td>0.0</td>\n",
       "      <td>0.0</td>\n",
       "      <td>0.0</td>\n",
       "      <td>1.0</td>\n",
       "      <td>0.0</td>\n",
       "      <td>0.0</td>\n",
       "      <td>0.0</td>\n",
       "    </tr>\n",
       "  </tbody>\n",
       "</table>\n",
       "</div>"
      ],
      "text/plain": [
       "     property_type                                 society         sector  \\\n",
       "57            flat                          aakruti aangan          vatva   \n",
       "137           flat                   parshwanath metrocity     chandkheda   \n",
       "140          house                          sudama homes 2   nana chiloda   \n",
       "634           flat                   vision madhuvan glory    nava naroda   \n",
       "1997          flat                   avirat silver habitat          odhav   \n",
       "2161          flat                   jeevan pran residency    nava naroda   \n",
       "3162          flat                   vision madhuvan glory    nava naroda   \n",
       "3204          flat  507 nandanvan recidency aslali highway          narol   \n",
       "3387          flat                            olive greens           gota   \n",
       "3532         house                             independent        sarkhej   \n",
       "3617          flat                   vision madhuvan glory    nava naroda   \n",
       "5174          flat                mahadev shreenand city 6  new maninagar   \n",
       "5561         house                  a/50, bhagwati society     chandkheda   \n",
       "5789         house                             independent        sarkhej   \n",
       "\n",
       "      price  price_per_sqft       area  \\\n",
       "57     0.15             6.0   250000.0   \n",
       "137    0.98             1.0  9800000.0   \n",
       "140    1.50           115.0   130435.0   \n",
       "634    0.32            24.0   133333.0   \n",
       "1997   0.30             1.0  3000000.0   \n",
       "2161   0.35            29.0   120690.0   \n",
       "3162   0.30            22.0   136364.0   \n",
       "3204   0.25             1.0  2500000.0   \n",
       "3387   1.25           114.0   109649.0   \n",
       "3532   0.70             2.0  3500000.0   \n",
       "3617   0.32            25.0   128000.0   \n",
       "5174   0.39            21.0   185714.0   \n",
       "5561   0.75            31.0   241935.0   \n",
       "5789   0.35             2.0  1750000.0   \n",
       "\n",
       "                                           areaWithType  bedRoom  bathroom  \\\n",
       "57                                   Carpet area: 23431      1.0       1.0   \n",
       "137       Super Built up area 1665210(1392327.64 sq.m.)      3.0       3.0   \n",
       "140                         Plot area 3(12140.58 sq.m.)      4.0       4.0   \n",
       "634   Super Built up area 125(12500 sq.m.)Built Up a...      2.0       2.0   \n",
       "1997                 Carpet area: 121 (489670.06 sq.m.)      2.0       2.0   \n",
       "2161                   Built Up area: 113 (11300 sq.m.)      2.0       2.0   \n",
       "3162  Super Built up area 125(12500 sq.m.)Built Up a...      2.0       2.0   \n",
       "3204             Carpet area: 2000000 (185806.08 sq.m.)      1.0       2.0   \n",
       "3387               Carpet area: 109524 (10175.11 sq.m.)      3.0       3.0   \n",
       "3532                      Plot area 99(400639.14 sq.m.)      3.0       3.0   \n",
       "3617  Super Built up area 120(12000 sq.m.)Built Up a...      2.0       2.0   \n",
       "5174                Carpet area: 75.77 (16894.25 sq.m.)      2.0       2.0   \n",
       "5561                      Plot area 100(22296.75 sq.m.)      1.0       1.0   \n",
       "5789                       Plot area 2000(200000 sq.m.)      5.0       2.0   \n",
       "\n",
       "     balcony  floorNum      facing   agePossession  super_built_up_area  \\\n",
       "57         1       2.0  North-East  Moderately Old                  NaN   \n",
       "137        3       1.0       North  Moderately Old            1665210.0   \n",
       "140        2       1.0         NaN  Relatively New                  NaN   \n",
       "634        3       2.0        West  Moderately Old                125.0   \n",
       "1997       1       2.0         NaN  Relatively New                  NaN   \n",
       "2161       1       2.0        East  Moderately Old                  NaN   \n",
       "3162       3       2.0        East  Moderately Old                125.0   \n",
       "3204       1       5.0         NaN  Relatively New                  NaN   \n",
       "3387       1       6.0        West  Relatively New                  NaN   \n",
       "3532       1       1.0  South-West    New Property                  NaN   \n",
       "3617       3       2.0         NaN  Moderately Old                120.0   \n",
       "5174       2       5.0         NaN  Moderately Old                  NaN   \n",
       "5561       0       1.0         NaN    Old Property                  NaN   \n",
       "5789      3+       1.0         NaN    Old Property                  NaN   \n",
       "\n",
       "      built_up_area   carpet_area  study room  servant room  store room  \\\n",
       "57              NaN  2.343100e+04         0.0           0.0         0.0   \n",
       "137             NaN           NaN         0.0           0.0         0.0   \n",
       "140             3.0           NaN         0.0           0.0         0.0   \n",
       "634           120.0  9.000000e+01         0.0           0.0         0.0   \n",
       "1997            NaN  1.210000e+02         0.0           0.0         0.0   \n",
       "2161          113.0           NaN         0.0           0.0         0.0   \n",
       "3162          110.0  1.000000e+02         0.0           0.0         0.0   \n",
       "3204            NaN  2.000000e+06         0.0           0.0         0.0   \n",
       "3387            NaN  1.095240e+05         1.0           1.0         0.0   \n",
       "3532           99.0           NaN         0.0           0.0         0.0   \n",
       "3617          100.0  9.000000e+01         0.0           0.0         0.0   \n",
       "5174            NaN  1.818480e+05         0.0           0.0         0.0   \n",
       "5561          100.0           NaN         0.0           0.0         0.0   \n",
       "5789         2000.0           NaN         0.0           0.0         0.0   \n",
       "\n",
       "      pooja room  others  furnishing_type  luxury_score  \n",
       "57           0.0     0.0              0.0          46.0  \n",
       "137          0.0     1.0              0.0          31.0  \n",
       "140          0.0     0.0              0.0           0.0  \n",
       "634          1.0     0.0              0.0          23.0  \n",
       "1997         0.0     0.0              0.0          22.0  \n",
       "2161         0.0     0.0              0.0          31.0  \n",
       "3162         1.0     0.0              0.0          54.0  \n",
       "3204         0.0     0.0              0.0           0.0  \n",
       "3387         1.0     1.0              0.0          53.0  \n",
       "3532         0.0     0.0              0.0           0.0  \n",
       "3617         1.0     0.0              0.0          31.0  \n",
       "5174         0.0     0.0              2.0          16.0  \n",
       "5561         0.0     0.0              0.0           8.0  \n",
       "5789         1.0     0.0              0.0           0.0  "
      ]
     },
     "execution_count": 29,
     "metadata": {},
     "output_type": "execute_result"
    }
   ],
   "source": [
    "df[df['area'] > 100000]"
   ]
  },
  {
   "cell_type": "code",
   "execution_count": 30,
   "id": "846b8150",
   "metadata": {},
   "outputs": [],
   "source": [
    "df = df[df['area'] < 100000]"
   ]
  },
  {
   "cell_type": "code",
   "execution_count": 31,
   "id": "bf7b6abb",
   "metadata": {},
   "outputs": [
    {
     "data": {
      "text/plain": [
       "<seaborn.axisgrid.FacetGrid at 0x2d1cfc37e10>"
      ]
     },
     "execution_count": 31,
     "metadata": {},
     "output_type": "execute_result"
    },
    {
     "data": {
      "image/png": "[encoded data removed]",
      "text/plain": [
       "<Figure size 500x500 with 1 Axes>"
      ]
     },
     "metadata": {},
     "output_type": "display_data"
    }
   ],
   "source": [
    "sns.displot(df['area'])"
   ]
  },
  {
   "cell_type": "code",
   "execution_count": 32,
   "id": "ddb83055",
   "metadata": {},
   "outputs": [
    {
     "data": {
      "text/plain": [
       "<Axes: xlabel='area'>"
      ]
     },
     "execution_count": 32,
     "metadata": {},
     "output_type": "execute_result"
    },
    {
     "data": {
      "image/png": "[encoded data removed]",
      "text/plain": [
       "<Figure size 640x480 with 1 Axes>"
      ]
     },
     "metadata": {},
     "output_type": "display_data"
    }
   ],
   "source": [
    "sns.boxplot(x=df['area'])"
   ]
  },
  {
   "cell_type": "code",
   "execution_count": 33,
   "id": "b1ba734c",
   "metadata": {},
   "outputs": [
    {
     "data": {
      "text/html": [
       "<div>\n",
       "<style scoped>\n",
       "    .dataframe tbody tr th:only-of-type {\n",
       "        vertical-align: middle;\n",
       "    }\n",
       "\n",
       "    .dataframe tbody tr th {\n",
       "        vertical-align: top;\n",
       "    }\n",
       "\n",
       "    .dataframe thead th {\n",
       "        text-align: right;\n",
       "    }\n",
       "</style>\n",
       "<table border=\"1\" class=\"dataframe\">\n",
       "  <thead>\n",
       "    <tr style=\"text-align: right;\">\n",
       "      <th></th>\n",
       "      <th>property_type</th>\n",
       "      <th>society</th>\n",
       "      <th>sector</th>\n",
       "      <th>price</th>\n",
       "      <th>price_per_sqft</th>\n",
       "      <th>area</th>\n",
       "      <th>areaWithType</th>\n",
       "      <th>bedRoom</th>\n",
       "      <th>bathroom</th>\n",
       "      <th>balcony</th>\n",
       "      <th>floorNum</th>\n",
       "      <th>facing</th>\n",
       "      <th>agePossession</th>\n",
       "      <th>super_built_up_area</th>\n",
       "      <th>built_up_area</th>\n",
       "      <th>carpet_area</th>\n",
       "      <th>study room</th>\n",
       "      <th>servant room</th>\n",
       "      <th>store room</th>\n",
       "      <th>pooja room</th>\n",
       "      <th>others</th>\n",
       "      <th>furnishing_type</th>\n",
       "      <th>luxury_score</th>\n",
       "    </tr>\n",
       "  </thead>\n",
       "  <tbody>\n",
       "    <tr>\n",
       "      <th>1776</th>\n",
       "      <td>flat</td>\n",
       "      <td>amogha by adani realty</td>\n",
       "      <td>vaishnodevi circle</td>\n",
       "      <td>0.80</td>\n",
       "      <td>96.0</td>\n",
       "      <td>83333.0</td>\n",
       "      <td>Carpet area: 82613 (7675 sq.m.)</td>\n",
       "      <td>3.0</td>\n",
       "      <td>3.0</td>\n",
       "      <td>1</td>\n",
       "      <td>14.0</td>\n",
       "      <td>NaN</td>\n",
       "      <td>New Property</td>\n",
       "      <td>NaN</td>\n",
       "      <td>NaN</td>\n",
       "      <td>82613.0</td>\n",
       "      <td>0.0</td>\n",
       "      <td>0.0</td>\n",
       "      <td>0.0</td>\n",
       "      <td>0.0</td>\n",
       "      <td>0.0</td>\n",
       "      <td>0.0</td>\n",
       "      <td>110.0</td>\n",
       "    </tr>\n",
       "    <tr>\n",
       "      <th>237</th>\n",
       "      <td>house</td>\n",
       "      <td>rajeshwari society</td>\n",
       "      <td>ctm</td>\n",
       "      <td>0.32</td>\n",
       "      <td>96.0</td>\n",
       "      <td>33333.0</td>\n",
       "      <td>Built Up area: 33189 (3083.36 sq.m.)</td>\n",
       "      <td>1.0</td>\n",
       "      <td>1.0</td>\n",
       "      <td>1</td>\n",
       "      <td>2.0</td>\n",
       "      <td>East</td>\n",
       "      <td>Old Property</td>\n",
       "      <td>NaN</td>\n",
       "      <td>33189.0</td>\n",
       "      <td>NaN</td>\n",
       "      <td>0.0</td>\n",
       "      <td>0.0</td>\n",
       "      <td>0.0</td>\n",
       "      <td>0.0</td>\n",
       "      <td>1.0</td>\n",
       "      <td>0.0</td>\n",
       "      <td>8.0</td>\n",
       "    </tr>\n",
       "    <tr>\n",
       "      <th>5134</th>\n",
       "      <td>house</td>\n",
       "      <td>independent</td>\n",
       "      <td>nana chiloda</td>\n",
       "      <td>1.80</td>\n",
       "      <td>720.0</td>\n",
       "      <td>25000.0</td>\n",
       "      <td>Plot area 25000(2322.58 sq.m.)</td>\n",
       "      <td>4.0</td>\n",
       "      <td>2.0</td>\n",
       "      <td>2</td>\n",
       "      <td>1.0</td>\n",
       "      <td>East</td>\n",
       "      <td>Old Property</td>\n",
       "      <td>NaN</td>\n",
       "      <td>25000.0</td>\n",
       "      <td>NaN</td>\n",
       "      <td>0.0</td>\n",
       "      <td>0.0</td>\n",
       "      <td>0.0</td>\n",
       "      <td>0.0</td>\n",
       "      <td>0.0</td>\n",
       "      <td>0.0</td>\n",
       "      <td>8.0</td>\n",
       "    </tr>\n",
       "    <tr>\n",
       "      <th>5380</th>\n",
       "      <td>flat</td>\n",
       "      <td>s r shivalay heights</td>\n",
       "      <td>motera</td>\n",
       "      <td>7.83</td>\n",
       "      <td>3672.0</td>\n",
       "      <td>21324.0</td>\n",
       "      <td>Carpet area: 21333 (1981.9 sq.m.)</td>\n",
       "      <td>2.0</td>\n",
       "      <td>2.0</td>\n",
       "      <td>1</td>\n",
       "      <td>1.0</td>\n",
       "      <td>NaN</td>\n",
       "      <td>New Property</td>\n",
       "      <td>NaN</td>\n",
       "      <td>NaN</td>\n",
       "      <td>21333.0</td>\n",
       "      <td>0.0</td>\n",
       "      <td>0.0</td>\n",
       "      <td>0.0</td>\n",
       "      <td>0.0</td>\n",
       "      <td>0.0</td>\n",
       "      <td>0.0</td>\n",
       "      <td>0.0</td>\n",
       "    </tr>\n",
       "    <tr>\n",
       "      <th>1752</th>\n",
       "      <td>house</td>\n",
       "      <td>independent</td>\n",
       "      <td>nava naroda</td>\n",
       "      <td>2.25</td>\n",
       "      <td>1087.0</td>\n",
       "      <td>20699.0</td>\n",
       "      <td>Plot area 2300(1923.09 sq.m.)</td>\n",
       "      <td>4.0</td>\n",
       "      <td>5.0</td>\n",
       "      <td>2</td>\n",
       "      <td>3.0</td>\n",
       "      <td>NaN</td>\n",
       "      <td>Moderately Old</td>\n",
       "      <td>NaN</td>\n",
       "      <td>20700.0</td>\n",
       "      <td>NaN</td>\n",
       "      <td>0.0</td>\n",
       "      <td>0.0</td>\n",
       "      <td>0.0</td>\n",
       "      <td>0.0</td>\n",
       "      <td>0.0</td>\n",
       "      <td>0.0</td>\n",
       "      <td>0.0</td>\n",
       "    </tr>\n",
       "    <tr>\n",
       "      <th>454</th>\n",
       "      <td>flat</td>\n",
       "      <td>status 55</td>\n",
       "      <td>science city</td>\n",
       "      <td>1.66</td>\n",
       "      <td>878.0</td>\n",
       "      <td>18907.0</td>\n",
       "      <td>Built Up area: 2376 (1986.64 sq.m.)Carpet area...</td>\n",
       "      <td>3.0</td>\n",
       "      <td>3.0</td>\n",
       "      <td>3</td>\n",
       "      <td>8.0</td>\n",
       "      <td>West</td>\n",
       "      <td>New Property</td>\n",
       "      <td>NaN</td>\n",
       "      <td>2376.0</td>\n",
       "      <td>2100.0</td>\n",
       "      <td>1.0</td>\n",
       "      <td>0.0</td>\n",
       "      <td>1.0</td>\n",
       "      <td>1.0</td>\n",
       "      <td>0.0</td>\n",
       "      <td>0.0</td>\n",
       "      <td>204.0</td>\n",
       "    </tr>\n",
       "    <tr>\n",
       "      <th>3899</th>\n",
       "      <td>flat</td>\n",
       "      <td>vishnudhara garden</td>\n",
       "      <td>gota</td>\n",
       "      <td>1.00</td>\n",
       "      <td>566.0</td>\n",
       "      <td>17668.0</td>\n",
       "      <td>Carpet area: 1962 (1640.48 sq.m.)</td>\n",
       "      <td>3.0</td>\n",
       "      <td>2.0</td>\n",
       "      <td>2</td>\n",
       "      <td>1.0</td>\n",
       "      <td>North</td>\n",
       "      <td>New Property</td>\n",
       "      <td>NaN</td>\n",
       "      <td>NaN</td>\n",
       "      <td>1962.0</td>\n",
       "      <td>1.0</td>\n",
       "      <td>0.0</td>\n",
       "      <td>1.0</td>\n",
       "      <td>1.0</td>\n",
       "      <td>0.0</td>\n",
       "      <td>0.0</td>\n",
       "      <td>169.0</td>\n",
       "    </tr>\n",
       "    <tr>\n",
       "      <th>2353</th>\n",
       "      <td>house</td>\n",
       "      <td>independent</td>\n",
       "      <td>thaltej</td>\n",
       "      <td>2.50</td>\n",
       "      <td>1456.0</td>\n",
       "      <td>17170.0</td>\n",
       "      <td>Plot area 1908(1595.33 sq.m.)</td>\n",
       "      <td>4.0</td>\n",
       "      <td>4.0</td>\n",
       "      <td>1</td>\n",
       "      <td>1.0</td>\n",
       "      <td>East</td>\n",
       "      <td>Relatively New</td>\n",
       "      <td>NaN</td>\n",
       "      <td>17172.0</td>\n",
       "      <td>NaN</td>\n",
       "      <td>1.0</td>\n",
       "      <td>0.0</td>\n",
       "      <td>1.0</td>\n",
       "      <td>1.0</td>\n",
       "      <td>0.0</td>\n",
       "      <td>2.0</td>\n",
       "      <td>104.0</td>\n",
       "    </tr>\n",
       "    <tr>\n",
       "      <th>1305</th>\n",
       "      <td>house</td>\n",
       "      <td>neelkanth greens villa</td>\n",
       "      <td>thaltej</td>\n",
       "      <td>20.00</td>\n",
       "      <td>12005.0</td>\n",
       "      <td>16660.0</td>\n",
       "      <td>Plot area 1851(1547.67 sq.m.)Built Up area: 70...</td>\n",
       "      <td>4.0</td>\n",
       "      <td>4.0</td>\n",
       "      <td>1</td>\n",
       "      <td>3.0</td>\n",
       "      <td>East</td>\n",
       "      <td>Moderately Old</td>\n",
       "      <td>NaN</td>\n",
       "      <td>700.0</td>\n",
       "      <td>NaN</td>\n",
       "      <td>0.0</td>\n",
       "      <td>0.0</td>\n",
       "      <td>1.0</td>\n",
       "      <td>1.0</td>\n",
       "      <td>0.0</td>\n",
       "      <td>1.0</td>\n",
       "      <td>105.0</td>\n",
       "    </tr>\n",
       "    <tr>\n",
       "      <th>4409</th>\n",
       "      <td>flat</td>\n",
       "      <td>avirat silver harmony 2</td>\n",
       "      <td>gota</td>\n",
       "      <td>1.08</td>\n",
       "      <td>663.0</td>\n",
       "      <td>16290.0</td>\n",
       "      <td>Built Up area: 2115 Carpet area: 1515 sq.m.</td>\n",
       "      <td>3.0</td>\n",
       "      <td>3.0</td>\n",
       "      <td>2</td>\n",
       "      <td>3.0</td>\n",
       "      <td>West</td>\n",
       "      <td>Under Construction</td>\n",
       "      <td>NaN</td>\n",
       "      <td>2115.0</td>\n",
       "      <td>1515.0</td>\n",
       "      <td>1.0</td>\n",
       "      <td>0.0</td>\n",
       "      <td>0.0</td>\n",
       "      <td>1.0</td>\n",
       "      <td>0.0</td>\n",
       "      <td>0.0</td>\n",
       "      <td>124.0</td>\n",
       "    </tr>\n",
       "  </tbody>\n",
       "</table>\n",
       "</div>"
      ],
      "text/plain": [
       "     property_type                  society              sector  price  \\\n",
       "1776          flat   amogha by adani realty  vaishnodevi circle   0.80   \n",
       "237          house       rajeshwari society                 ctm   0.32   \n",
       "5134         house              independent        nana chiloda   1.80   \n",
       "5380          flat     s r shivalay heights              motera   7.83   \n",
       "1752         house              independent         nava naroda   2.25   \n",
       "454           flat                status 55        science city   1.66   \n",
       "3899          flat       vishnudhara garden                gota   1.00   \n",
       "2353         house              independent             thaltej   2.50   \n",
       "1305         house   neelkanth greens villa             thaltej  20.00   \n",
       "4409          flat  avirat silver harmony 2                gota   1.08   \n",
       "\n",
       "      price_per_sqft     area  \\\n",
       "1776            96.0  83333.0   \n",
       "237             96.0  33333.0   \n",
       "5134           720.0  25000.0   \n",
       "5380          3672.0  21324.0   \n",
       "1752          1087.0  20699.0   \n",
       "454            878.0  18907.0   \n",
       "3899           566.0  17668.0   \n",
       "2353          1456.0  17170.0   \n",
       "1305         12005.0  16660.0   \n",
       "4409           663.0  16290.0   \n",
       "\n",
       "                                           areaWithType  bedRoom  bathroom  \\\n",
       "1776                    Carpet area: 82613 (7675 sq.m.)      3.0       3.0   \n",
       "237                Built Up area: 33189 (3083.36 sq.m.)      1.0       1.0   \n",
       "5134                     Plot area 25000(2322.58 sq.m.)      4.0       2.0   \n",
       "5380                  Carpet area: 21333 (1981.9 sq.m.)      2.0       2.0   \n",
       "1752                      Plot area 2300(1923.09 sq.m.)      4.0       5.0   \n",
       "454   Built Up area: 2376 (1986.64 sq.m.)Carpet area...      3.0       3.0   \n",
       "3899                  Carpet area: 1962 (1640.48 sq.m.)      3.0       2.0   \n",
       "2353                      Plot area 1908(1595.33 sq.m.)      4.0       4.0   \n",
       "1305  Plot area 1851(1547.67 sq.m.)Built Up area: 70...      4.0       4.0   \n",
       "4409        Built Up area: 2115 Carpet area: 1515 sq.m.      3.0       3.0   \n",
       "\n",
       "     balcony  floorNum facing       agePossession  super_built_up_area  \\\n",
       "1776       1      14.0    NaN        New Property                  NaN   \n",
       "237        1       2.0   East        Old Property                  NaN   \n",
       "5134       2       1.0   East        Old Property                  NaN   \n",
       "5380       1       1.0    NaN        New Property                  NaN   \n",
       "1752       2       3.0    NaN      Moderately Old                  NaN   \n",
       "454        3       8.0   West        New Property                  NaN   \n",
       "3899       2       1.0  North        New Property                  NaN   \n",
       "2353       1       1.0   East      Relatively New                  NaN   \n",
       "1305       1       3.0   East      Moderately Old                  NaN   \n",
       "4409       2       3.0   West  Under Construction                  NaN   \n",
       "\n",
       "      built_up_area  carpet_area  study room  servant room  store room  \\\n",
       "1776            NaN      82613.0         0.0           0.0         0.0   \n",
       "237         33189.0          NaN         0.0           0.0         0.0   \n",
       "5134        25000.0          NaN         0.0           0.0         0.0   \n",
       "5380            NaN      21333.0         0.0           0.0         0.0   \n",
       "1752        20700.0          NaN         0.0           0.0         0.0   \n",
       "454          2376.0       2100.0         1.0           0.0         1.0   \n",
       "3899            NaN       1962.0         1.0           0.0         1.0   \n",
       "2353        17172.0          NaN         1.0           0.0         1.0   \n",
       "1305          700.0          NaN         0.0           0.0         1.0   \n",
       "4409         2115.0       1515.0         1.0           0.0         0.0   \n",
       "\n",
       "      pooja room  others  furnishing_type  luxury_score  \n",
       "1776         0.0     0.0              0.0         110.0  \n",
       "237          0.0     1.0              0.0           8.0  \n",
       "5134         0.0     0.0              0.0           8.0  \n",
       "5380         0.0     0.0              0.0           0.0  \n",
       "1752         0.0     0.0              0.0           0.0  \n",
       "454          1.0     0.0              0.0         204.0  \n",
       "3899         1.0     0.0              0.0         169.0  \n",
       "2353         1.0     0.0              2.0         104.0  \n",
       "1305         1.0     0.0              1.0         105.0  \n",
       "4409         1.0     0.0              0.0         124.0  "
      ]
     },
     "execution_count": 33,
     "metadata": {},
     "output_type": "execute_result"
    }
   ],
   "source": [
    "df[df['area'] > 10000].sort_values('area',ascending=False).head(10)"
   ]
  },
  {
   "cell_type": "code",
   "execution_count": 34,
   "id": "df95b529",
   "metadata": {},
   "outputs": [
    {
     "data": {
      "text/html": [
       "<div>\n",
       "<style scoped>\n",
       "    .dataframe tbody tr th:only-of-type {\n",
       "        vertical-align: middle;\n",
       "    }\n",
       "\n",
       "    .dataframe tbody tr th {\n",
       "        vertical-align: top;\n",
       "    }\n",
       "\n",
       "    .dataframe thead th {\n",
       "        text-align: right;\n",
       "    }\n",
       "</style>\n",
       "<table border=\"1\" class=\"dataframe\">\n",
       "  <thead>\n",
       "    <tr style=\"text-align: right;\">\n",
       "      <th></th>\n",
       "      <th>price</th>\n",
       "      <th>area</th>\n",
       "      <th>super_built_up_area</th>\n",
       "      <th>built_up_area</th>\n",
       "      <th>carpet_area</th>\n",
       "      <th>areaWithType</th>\n",
       "    </tr>\n",
       "  </thead>\n",
       "  <tbody>\n",
       "    <tr>\n",
       "      <th>1776</th>\n",
       "      <td>0.80</td>\n",
       "      <td>83333.0</td>\n",
       "      <td>NaN</td>\n",
       "      <td>NaN</td>\n",
       "      <td>82613.0</td>\n",
       "      <td>Carpet area: 82613 (7675 sq.m.)</td>\n",
       "    </tr>\n",
       "    <tr>\n",
       "      <th>237</th>\n",
       "      <td>0.32</td>\n",
       "      <td>33333.0</td>\n",
       "      <td>NaN</td>\n",
       "      <td>33189.0</td>\n",
       "      <td>NaN</td>\n",
       "      <td>Built Up area: 33189 (3083.36 sq.m.)</td>\n",
       "    </tr>\n",
       "    <tr>\n",
       "      <th>5134</th>\n",
       "      <td>1.80</td>\n",
       "      <td>25000.0</td>\n",
       "      <td>NaN</td>\n",
       "      <td>25000.0</td>\n",
       "      <td>NaN</td>\n",
       "      <td>Plot area 25000(2322.58 sq.m.)</td>\n",
       "    </tr>\n",
       "    <tr>\n",
       "      <th>5380</th>\n",
       "      <td>7.83</td>\n",
       "      <td>21324.0</td>\n",
       "      <td>NaN</td>\n",
       "      <td>NaN</td>\n",
       "      <td>21333.0</td>\n",
       "      <td>Carpet area: 21333 (1981.9 sq.m.)</td>\n",
       "    </tr>\n",
       "    <tr>\n",
       "      <th>1752</th>\n",
       "      <td>2.25</td>\n",
       "      <td>20699.0</td>\n",
       "      <td>NaN</td>\n",
       "      <td>20700.0</td>\n",
       "      <td>NaN</td>\n",
       "      <td>Plot area 2300(1923.09 sq.m.)</td>\n",
       "    </tr>\n",
       "    <tr>\n",
       "      <th>454</th>\n",
       "      <td>1.66</td>\n",
       "      <td>18907.0</td>\n",
       "      <td>NaN</td>\n",
       "      <td>2376.0</td>\n",
       "      <td>2100.0</td>\n",
       "      <td>Built Up area: 2376 (1986.64 sq.m.)Carpet area...</td>\n",
       "    </tr>\n",
       "    <tr>\n",
       "      <th>3899</th>\n",
       "      <td>1.00</td>\n",
       "      <td>17668.0</td>\n",
       "      <td>NaN</td>\n",
       "      <td>NaN</td>\n",
       "      <td>1962.0</td>\n",
       "      <td>Carpet area: 1962 (1640.48 sq.m.)</td>\n",
       "    </tr>\n",
       "    <tr>\n",
       "      <th>2353</th>\n",
       "      <td>2.50</td>\n",
       "      <td>17170.0</td>\n",
       "      <td>NaN</td>\n",
       "      <td>17172.0</td>\n",
       "      <td>NaN</td>\n",
       "      <td>Plot area 1908(1595.33 sq.m.)</td>\n",
       "    </tr>\n",
       "    <tr>\n",
       "      <th>1305</th>\n",
       "      <td>20.00</td>\n",
       "      <td>16660.0</td>\n",
       "      <td>NaN</td>\n",
       "      <td>700.0</td>\n",
       "      <td>NaN</td>\n",
       "      <td>Plot area 1851(1547.67 sq.m.)Built Up area: 70...</td>\n",
       "    </tr>\n",
       "    <tr>\n",
       "      <th>4409</th>\n",
       "      <td>1.08</td>\n",
       "      <td>16290.0</td>\n",
       "      <td>NaN</td>\n",
       "      <td>2115.0</td>\n",
       "      <td>1515.0</td>\n",
       "      <td>Built Up area: 2115 Carpet area: 1515 sq.m.</td>\n",
       "    </tr>\n",
       "    <tr>\n",
       "      <th>4803</th>\n",
       "      <td>19.20</td>\n",
       "      <td>16000.0</td>\n",
       "      <td>16000.0</td>\n",
       "      <td>NaN</td>\n",
       "      <td>NaN</td>\n",
       "      <td>Super Built up area 16000(1486.45 sq.m.)</td>\n",
       "    </tr>\n",
       "    <tr>\n",
       "      <th>2988</th>\n",
       "      <td>0.62</td>\n",
       "      <td>15385.0</td>\n",
       "      <td>NaN</td>\n",
       "      <td>NaN</td>\n",
       "      <td>1710.0</td>\n",
       "      <td>Carpet area: 1710 (1429.78 sq.m.)</td>\n",
       "    </tr>\n",
       "    <tr>\n",
       "      <th>3389</th>\n",
       "      <td>9.51</td>\n",
       "      <td>14473.0</td>\n",
       "      <td>NaN</td>\n",
       "      <td>750.0</td>\n",
       "      <td>NaN</td>\n",
       "      <td>Plot area 1608(1344.49 sq.m.)Built Up area: 75...</td>\n",
       "    </tr>\n",
       "    <tr>\n",
       "      <th>2047</th>\n",
       "      <td>9.25</td>\n",
       "      <td>14399.0</td>\n",
       "      <td>NaN</td>\n",
       "      <td>14400.0</td>\n",
       "      <td>NaN</td>\n",
       "      <td>Plot area 1600(1337.8 sq.m.)</td>\n",
       "    </tr>\n",
       "    <tr>\n",
       "      <th>1254</th>\n",
       "      <td>14.70</td>\n",
       "      <td>14000.0</td>\n",
       "      <td>NaN</td>\n",
       "      <td>NaN</td>\n",
       "      <td>14000.0</td>\n",
       "      <td>Carpet area: 14000 (1300.64 sq.m.)</td>\n",
       "    </tr>\n",
       "    <tr>\n",
       "      <th>4356</th>\n",
       "      <td>11.50</td>\n",
       "      <td>13642.0</td>\n",
       "      <td>NaN</td>\n",
       "      <td>13641.0</td>\n",
       "      <td>NaN</td>\n",
       "      <td>Plot area 13641(1267.29 sq.m.)</td>\n",
       "    </tr>\n",
       "    <tr>\n",
       "      <th>2813</th>\n",
       "      <td>18.75</td>\n",
       "      <td>13500.0</td>\n",
       "      <td>NaN</td>\n",
       "      <td>560.0</td>\n",
       "      <td>NaN</td>\n",
       "      <td>Plot area 1500(1254.19 sq.m.)Built Up area: 56...</td>\n",
       "    </tr>\n",
       "    <tr>\n",
       "      <th>5384</th>\n",
       "      <td>16.50</td>\n",
       "      <td>13199.0</td>\n",
       "      <td>NaN</td>\n",
       "      <td>870.0</td>\n",
       "      <td>800.0</td>\n",
       "      <td>Plot area 1111(928.94 sq.m.)Built Up area: 870...</td>\n",
       "    </tr>\n",
       "    <tr>\n",
       "      <th>5915</th>\n",
       "      <td>0.41</td>\n",
       "      <td>13183.0</td>\n",
       "      <td>1213.0</td>\n",
       "      <td>NaN</td>\n",
       "      <td>NaN</td>\n",
       "      <td>Super Built up area 1213</td>\n",
       "    </tr>\n",
       "    <tr>\n",
       "      <th>2254</th>\n",
       "      <td>0.41</td>\n",
       "      <td>13183.0</td>\n",
       "      <td>1215.0</td>\n",
       "      <td>NaN</td>\n",
       "      <td>NaN</td>\n",
       "      <td>Super Built up area 1215</td>\n",
       "    </tr>\n",
       "    <tr>\n",
       "      <th>3746</th>\n",
       "      <td>3.55</td>\n",
       "      <td>12994.0</td>\n",
       "      <td>NaN</td>\n",
       "      <td>NaN</td>\n",
       "      <td>1444.0</td>\n",
       "      <td>Carpet area: 1444 (1207.37 sq.m.)</td>\n",
       "    </tr>\n",
       "    <tr>\n",
       "      <th>2645</th>\n",
       "      <td>16.00</td>\n",
       "      <td>12600.0</td>\n",
       "      <td>NaN</td>\n",
       "      <td>1400.0</td>\n",
       "      <td>NaN</td>\n",
       "      <td>Built Up area: 1400 (1170.58 sq.m.)</td>\n",
       "    </tr>\n",
       "    <tr>\n",
       "      <th>4762</th>\n",
       "      <td>0.65</td>\n",
       "      <td>11927.0</td>\n",
       "      <td>1107.0</td>\n",
       "      <td>NaN</td>\n",
       "      <td>722.0</td>\n",
       "      <td>Super Built up area 1107Carpet area: 722 sq.m.</td>\n",
       "    </tr>\n",
       "    <tr>\n",
       "      <th>4690</th>\n",
       "      <td>0.62</td>\n",
       "      <td>11742.0</td>\n",
       "      <td>1305.0</td>\n",
       "      <td>NaN</td>\n",
       "      <td>NaN</td>\n",
       "      <td>Super Built up area 1305(1091.15 sq.m.)</td>\n",
       "    </tr>\n",
       "    <tr>\n",
       "      <th>5191</th>\n",
       "      <td>0.36</td>\n",
       "      <td>11576.0</td>\n",
       "      <td>1069.0</td>\n",
       "      <td>NaN</td>\n",
       "      <td>NaN</td>\n",
       "      <td>Super Built up area 1069</td>\n",
       "    </tr>\n",
       "    <tr>\n",
       "      <th>3207</th>\n",
       "      <td>0.36</td>\n",
       "      <td>11576.0</td>\n",
       "      <td>1069.0</td>\n",
       "      <td>NaN</td>\n",
       "      <td>NaN</td>\n",
       "      <td>Super Built up area 1069</td>\n",
       "    </tr>\n",
       "    <tr>\n",
       "      <th>2464</th>\n",
       "      <td>15.00</td>\n",
       "      <td>11000.0</td>\n",
       "      <td>11000.0</td>\n",
       "      <td>7000.0</td>\n",
       "      <td>6600.0</td>\n",
       "      <td>Super Built up area 11000(1021.93 sq.m.)Built ...</td>\n",
       "    </tr>\n",
       "    <tr>\n",
       "      <th>2882</th>\n",
       "      <td>16.50</td>\n",
       "      <td>11000.0</td>\n",
       "      <td>11000.0</td>\n",
       "      <td>10000.0</td>\n",
       "      <td>NaN</td>\n",
       "      <td>Super Built up area 11000(1021.93 sq.m.)Built ...</td>\n",
       "    </tr>\n",
       "    <tr>\n",
       "      <th>5682</th>\n",
       "      <td>10.00</td>\n",
       "      <td>10800.0</td>\n",
       "      <td>NaN</td>\n",
       "      <td>10800.0</td>\n",
       "      <td>NaN</td>\n",
       "      <td>Plot area 1200(1003.35 sq.m.)</td>\n",
       "    </tr>\n",
       "    <tr>\n",
       "      <th>3731</th>\n",
       "      <td>13.00</td>\n",
       "      <td>10620.0</td>\n",
       "      <td>NaN</td>\n",
       "      <td>NaN</td>\n",
       "      <td>1180.0</td>\n",
       "      <td>Plot area 1200(111.48 sq.m.)Carpet area: 1180 ...</td>\n",
       "    </tr>\n",
       "    <tr>\n",
       "      <th>3987</th>\n",
       "      <td>22.00</td>\n",
       "      <td>10350.0</td>\n",
       "      <td>NaN</td>\n",
       "      <td>1300.0</td>\n",
       "      <td>1150.0</td>\n",
       "      <td>Plot area 1400(1170.58 sq.m.)Built Up area: 13...</td>\n",
       "    </tr>\n",
       "    <tr>\n",
       "      <th>5407</th>\n",
       "      <td>20.00</td>\n",
       "      <td>10350.0</td>\n",
       "      <td>NaN</td>\n",
       "      <td>NaN</td>\n",
       "      <td>1150.0</td>\n",
       "      <td>Plot area 1378(1152.18 sq.m.)Carpet area: 1150...</td>\n",
       "    </tr>\n",
       "    <tr>\n",
       "      <th>2330</th>\n",
       "      <td>16.00</td>\n",
       "      <td>10170.0</td>\n",
       "      <td>NaN</td>\n",
       "      <td>1130.0</td>\n",
       "      <td>NaN</td>\n",
       "      <td>Plot area 1130(104.98 sq.m.)</td>\n",
       "    </tr>\n",
       "  </tbody>\n",
       "</table>\n",
       "</div>"
      ],
      "text/plain": [
       "      price     area  super_built_up_area  built_up_area  carpet_area  \\\n",
       "1776   0.80  83333.0                  NaN            NaN      82613.0   \n",
       "237    0.32  33333.0                  NaN        33189.0          NaN   \n",
       "5134   1.80  25000.0                  NaN        25000.0          NaN   \n",
       "5380   7.83  21324.0                  NaN            NaN      21333.0   \n",
       "1752   2.25  20699.0                  NaN        20700.0          NaN   \n",
       "454    1.66  18907.0                  NaN         2376.0       2100.0   \n",
       "3899   1.00  17668.0                  NaN            NaN       1962.0   \n",
       "2353   2.50  17170.0                  NaN        17172.0          NaN   \n",
       "1305  20.00  16660.0                  NaN          700.0          NaN   \n",
       "4409   1.08  16290.0                  NaN         2115.0       1515.0   \n",
       "4803  19.20  16000.0              16000.0            NaN          NaN   \n",
       "2988   0.62  15385.0                  NaN            NaN       1710.0   \n",
       "3389   9.51  14473.0                  NaN          750.0          NaN   \n",
       "2047   9.25  14399.0                  NaN        14400.0          NaN   \n",
       "1254  14.70  14000.0                  NaN            NaN      14000.0   \n",
       "4356  11.50  13642.0                  NaN        13641.0          NaN   \n",
       "2813  18.75  13500.0                  NaN          560.0          NaN   \n",
       "5384  16.50  13199.0                  NaN          870.0        800.0   \n",
       "5915   0.41  13183.0               1213.0            NaN          NaN   \n",
       "2254   0.41  13183.0               1215.0            NaN          NaN   \n",
       "3746   3.55  12994.0                  NaN            NaN       1444.0   \n",
       "2645  16.00  12600.0                  NaN         1400.0          NaN   \n",
       "4762   0.65  11927.0               1107.0            NaN        722.0   \n",
       "4690   0.62  11742.0               1305.0            NaN          NaN   \n",
       "5191   0.36  11576.0               1069.0            NaN          NaN   \n",
       "3207   0.36  11576.0               1069.0            NaN          NaN   \n",
       "2464  15.00  11000.0              11000.0         7000.0       6600.0   \n",
       "2882  16.50  11000.0              11000.0        10000.0          NaN   \n",
       "5682  10.00  10800.0                  NaN        10800.0          NaN   \n",
       "3731  13.00  10620.0                  NaN            NaN       1180.0   \n",
       "3987  22.00  10350.0                  NaN         1300.0       1150.0   \n",
       "5407  20.00  10350.0                  NaN            NaN       1150.0   \n",
       "2330  16.00  10170.0                  NaN         1130.0          NaN   \n",
       "\n",
       "                                           areaWithType  \n",
       "1776                    Carpet area: 82613 (7675 sq.m.)  \n",
       "237                Built Up area: 33189 (3083.36 sq.m.)  \n",
       "5134                     Plot area 25000(2322.58 sq.m.)  \n",
       "5380                  Carpet area: 21333 (1981.9 sq.m.)  \n",
       "1752                      Plot area 2300(1923.09 sq.m.)  \n",
       "454   Built Up area: 2376 (1986.64 sq.m.)Carpet area...  \n",
       "3899                  Carpet area: 1962 (1640.48 sq.m.)  \n",
       "2353                      Plot area 1908(1595.33 sq.m.)  \n",
       "1305  Plot area 1851(1547.67 sq.m.)Built Up area: 70...  \n",
       "4409        Built Up area: 2115 Carpet area: 1515 sq.m.  \n",
       "4803           Super Built up area 16000(1486.45 sq.m.)  \n",
       "2988                  Carpet area: 1710 (1429.78 sq.m.)  \n",
       "3389  Plot area 1608(1344.49 sq.m.)Built Up area: 75...  \n",
       "2047                       Plot area 1600(1337.8 sq.m.)  \n",
       "1254                 Carpet area: 14000 (1300.64 sq.m.)  \n",
       "4356                     Plot area 13641(1267.29 sq.m.)  \n",
       "2813  Plot area 1500(1254.19 sq.m.)Built Up area: 56...  \n",
       "5384  Plot area 1111(928.94 sq.m.)Built Up area: 870...  \n",
       "5915                           Super Built up area 1213  \n",
       "2254                           Super Built up area 1215  \n",
       "3746                  Carpet area: 1444 (1207.37 sq.m.)  \n",
       "2645                Built Up area: 1400 (1170.58 sq.m.)  \n",
       "4762     Super Built up area 1107Carpet area: 722 sq.m.  \n",
       "4690            Super Built up area 1305(1091.15 sq.m.)  \n",
       "5191                           Super Built up area 1069  \n",
       "3207                           Super Built up area 1069  \n",
       "2464  Super Built up area 11000(1021.93 sq.m.)Built ...  \n",
       "2882  Super Built up area 11000(1021.93 sq.m.)Built ...  \n",
       "5682                      Plot area 1200(1003.35 sq.m.)  \n",
       "3731  Plot area 1200(111.48 sq.m.)Carpet area: 1180 ...  \n",
       "3987  Plot area 1400(1170.58 sq.m.)Built Up area: 13...  \n",
       "5407  Plot area 1378(1152.18 sq.m.)Carpet area: 1150...  \n",
       "2330                       Plot area 1130(104.98 sq.m.)  "
      ]
     },
     "execution_count": 34,
     "metadata": {},
     "output_type": "execute_result"
    }
   ],
   "source": [
    "temp = df[df['area'] > 10000].sort_values('area',ascending=False)\n",
    "temp[['price','area','super_built_up_area','built_up_area','carpet_area','areaWithType']]"
   ]
  },
  {
   "cell_type": "code",
   "execution_count": 35,
   "id": "d2b878b5",
   "metadata": {},
   "outputs": [],
   "source": [
    "df = df[~((df['price']<5) & (df['area']>10000))]"
   ]
  },
  {
   "cell_type": "code",
   "execution_count": 36,
   "id": "2a53b43a",
   "metadata": {},
   "outputs": [],
   "source": [
    "df = df[df['area']<17000]"
   ]
  },
  {
   "cell_type": "code",
   "execution_count": 37,
   "id": "92e3c0f5",
   "metadata": {},
   "outputs": [
    {
     "data": {
      "text/plain": [
       "<seaborn.axisgrid.FacetGrid at 0x2d1cfe80ed0>"
      ]
     },
     "execution_count": 37,
     "metadata": {},
     "output_type": "execute_result"
    },
    {
     "data": {
      "image/png": "[encoded data removed]",
      "text/plain": [
       "<Figure size 500x500 with 1 Axes>"
      ]
     },
     "metadata": {},
     "output_type": "display_data"
    }
   ],
   "source": [
    "sns.displot(df['area'])"
   ]
  },
  {
   "cell_type": "code",
   "execution_count": 38,
   "id": "28600c9d",
   "metadata": {},
   "outputs": [
    {
     "data": {
      "text/plain": [
       "<Axes: xlabel='area'>"
      ]
     },
     "execution_count": 38,
     "metadata": {},
     "output_type": "execute_result"
    },
    {
     "data": {
      "image/png": "[encoded data removed]",
      "text/plain": [
       "<Figure size 640x480 with 1 Axes>"
      ]
     },
     "metadata": {},
     "output_type": "display_data"
    }
   ],
   "source": [
    "sns.boxplot(x=df['area'])"
   ]
  },
  {
   "cell_type": "code",
   "execution_count": 39,
   "id": "ed8c4357",
   "metadata": {},
   "outputs": [
    {
     "data": {
      "text/plain": [
       "count     5883.000000\n",
       "mean      1851.516573\n",
       "std       1428.634581\n",
       "min         56.000000\n",
       "25%       1043.000000\n",
       "50%       1430.000000\n",
       "75%       2115.000000\n",
       "max      16660.000000\n",
       "Name: area, dtype: float64"
      ]
     },
     "execution_count": 39,
     "metadata": {},
     "output_type": "execute_result"
    }
   ],
   "source": [
    "df['area'].describe()"
   ]
  },
  {
   "cell_type": "markdown",
   "id": "cf6575e8",
   "metadata": {},
   "source": [
    "### Bedroom"
   ]
  },
  {
   "cell_type": "code",
   "execution_count": 40,
   "id": "87e717d7",
   "metadata": {},
   "outputs": [
    {
     "data": {
      "text/plain": [
       "<seaborn.axisgrid.FacetGrid at 0x2d1d144fa90>"
      ]
     },
     "execution_count": 40,
     "metadata": {},
     "output_type": "execute_result"
    },
    {
     "data": {
      "image/png": "[encoded data removed]",
      "text/plain": [
       "<Figure size 500x500 with 1 Axes>"
      ]
     },
     "metadata": {},
     "output_type": "display_data"
    }
   ],
   "source": [
    "sns.displot(df['bedRoom'])"
   ]
  },
  {
   "cell_type": "code",
   "execution_count": 41,
   "id": "c5edebd9",
   "metadata": {},
   "outputs": [
    {
     "data": {
      "text/plain": [
       "<Axes: xlabel='bedRoom'>"
      ]
     },
     "execution_count": 41,
     "metadata": {},
     "output_type": "execute_result"
    },
    {
     "data": {
      "image/png": "[encoded data removed]",
      "text/plain": [
       "<Figure size 640x480 with 1 Axes>"
      ]
     },
     "metadata": {},
     "output_type": "display_data"
    }
   ],
   "source": [
    "sns.boxplot(x=df['bedRoom'])"
   ]
  },
  {
   "cell_type": "code",
   "execution_count": 42,
   "id": "a278ec8f",
   "metadata": {},
   "outputs": [
    {
     "data": {
      "text/plain": [
       "count    5883.000000\n",
       "mean        2.831209\n",
       "std         1.062913\n",
       "min         1.000000\n",
       "25%         2.000000\n",
       "50%         3.000000\n",
       "75%         3.000000\n",
       "max        16.000000\n",
       "Name: bedRoom, dtype: float64"
      ]
     },
     "execution_count": 42,
     "metadata": {},
     "output_type": "execute_result"
    }
   ],
   "source": [
    "df['bedRoom'].describe()"
   ]
  },
  {
   "cell_type": "code",
   "execution_count": 43,
   "id": "ea171210",
   "metadata": {},
   "outputs": [
    {
     "data": {
      "text/html": [
       "<div>\n",
       "<style scoped>\n",
       "    .dataframe tbody tr th:only-of-type {\n",
       "        vertical-align: middle;\n",
       "    }\n",
       "\n",
       "    .dataframe tbody tr th {\n",
       "        vertical-align: top;\n",
       "    }\n",
       "\n",
       "    .dataframe thead th {\n",
       "        text-align: right;\n",
       "    }\n",
       "</style>\n",
       "<table border=\"1\" class=\"dataframe\">\n",
       "  <thead>\n",
       "    <tr style=\"text-align: right;\">\n",
       "      <th></th>\n",
       "      <th>property_type</th>\n",
       "      <th>society</th>\n",
       "      <th>sector</th>\n",
       "      <th>price</th>\n",
       "      <th>price_per_sqft</th>\n",
       "      <th>area</th>\n",
       "      <th>areaWithType</th>\n",
       "      <th>bedRoom</th>\n",
       "      <th>bathroom</th>\n",
       "      <th>balcony</th>\n",
       "      <th>floorNum</th>\n",
       "      <th>facing</th>\n",
       "      <th>agePossession</th>\n",
       "      <th>super_built_up_area</th>\n",
       "      <th>built_up_area</th>\n",
       "      <th>carpet_area</th>\n",
       "      <th>study room</th>\n",
       "      <th>servant room</th>\n",
       "      <th>store room</th>\n",
       "      <th>pooja room</th>\n",
       "      <th>others</th>\n",
       "      <th>furnishing_type</th>\n",
       "      <th>luxury_score</th>\n",
       "    </tr>\n",
       "  </thead>\n",
       "  <tbody>\n",
       "    <tr>\n",
       "      <th>5340</th>\n",
       "      <td>house</td>\n",
       "      <td>independent</td>\n",
       "      <td>sarkhej</td>\n",
       "      <td>2.0</td>\n",
       "      <td>11111.0</td>\n",
       "      <td>1800.0</td>\n",
       "      <td>Plot area 1800(167.23 sq.m.)</td>\n",
       "      <td>16.0</td>\n",
       "      <td>16.0</td>\n",
       "      <td>3+</td>\n",
       "      <td>3.0</td>\n",
       "      <td>South-West</td>\n",
       "      <td>Old Property</td>\n",
       "      <td>NaN</td>\n",
       "      <td>1800.0</td>\n",
       "      <td>NaN</td>\n",
       "      <td>1.0</td>\n",
       "      <td>1.0</td>\n",
       "      <td>0.0</td>\n",
       "      <td>1.0</td>\n",
       "      <td>1.0</td>\n",
       "      <td>1.0</td>\n",
       "      <td>55.0</td>\n",
       "    </tr>\n",
       "    <tr>\n",
       "      <th>5132</th>\n",
       "      <td>flat</td>\n",
       "      <td>mangalam flats</td>\n",
       "      <td>bapunagar</td>\n",
       "      <td>1.1</td>\n",
       "      <td>4074.0</td>\n",
       "      <td>2700.0</td>\n",
       "      <td>Carpet area: 300 (27.87 sq.m.)</td>\n",
       "      <td>11.0</td>\n",
       "      <td>7.0</td>\n",
       "      <td>3</td>\n",
       "      <td>0.0</td>\n",
       "      <td>North-East</td>\n",
       "      <td>Old Property</td>\n",
       "      <td>NaN</td>\n",
       "      <td>NaN</td>\n",
       "      <td>300.0</td>\n",
       "      <td>0.0</td>\n",
       "      <td>0.0</td>\n",
       "      <td>0.0</td>\n",
       "      <td>0.0</td>\n",
       "      <td>0.0</td>\n",
       "      <td>0.0</td>\n",
       "      <td>38.0</td>\n",
       "    </tr>\n",
       "  </tbody>\n",
       "</table>\n",
       "</div>"
      ],
      "text/plain": [
       "     property_type         society     sector  price  price_per_sqft    area  \\\n",
       "5340         house     independent    sarkhej    2.0         11111.0  1800.0   \n",
       "5132          flat  mangalam flats  bapunagar    1.1          4074.0  2700.0   \n",
       "\n",
       "                        areaWithType  bedRoom  bathroom balcony  floorNum  \\\n",
       "5340    Plot area 1800(167.23 sq.m.)     16.0      16.0      3+       3.0   \n",
       "5132  Carpet area: 300 (27.87 sq.m.)     11.0       7.0       3       0.0   \n",
       "\n",
       "          facing agePossession  super_built_up_area  built_up_area  \\\n",
       "5340  South-West  Old Property                  NaN         1800.0   \n",
       "5132  North-East  Old Property                  NaN            NaN   \n",
       "\n",
       "      carpet_area  study room  servant room  store room  pooja room  others  \\\n",
       "5340          NaN         1.0           1.0         0.0         1.0     1.0   \n",
       "5132        300.0         0.0           0.0         0.0         0.0     0.0   \n",
       "\n",
       "      furnishing_type  luxury_score  \n",
       "5340              1.0          55.0  \n",
       "5132              0.0          38.0  "
      ]
     },
     "execution_count": 43,
     "metadata": {},
     "output_type": "execute_result"
    }
   ],
   "source": [
    "df[df['bedRoom'] > 10].sort_values('bedRoom',ascending=False)"
   ]
  },
  {
   "cell_type": "code",
   "execution_count": 44,
   "id": "22d643df",
   "metadata": {},
   "outputs": [],
   "source": [
    "df = df[df['bedRoom'] <= 10]"
   ]
  },
  {
   "cell_type": "code",
   "execution_count": 45,
   "id": "c4c2ec66",
   "metadata": {},
   "outputs": [
    {
     "data": {
      "text/plain": [
       "(5881, 23)"
      ]
     },
     "execution_count": 45,
     "metadata": {},
     "output_type": "execute_result"
    }
   ],
   "source": [
    "df.shape"
   ]
  },
  {
   "cell_type": "code",
   "execution_count": 46,
   "id": "7520137c",
   "metadata": {},
   "outputs": [
    {
     "data": {
      "text/plain": [
       "<seaborn.axisgrid.FacetGrid at 0x2d1d1414dd0>"
      ]
     },
     "execution_count": 46,
     "metadata": {},
     "output_type": "execute_result"
    },
    {
     "data": {
      "image/png": "[encoded data removed]",
      "text/plain": [
       "<Figure size 500x500 with 1 Axes>"
      ]
     },
     "metadata": {},
     "output_type": "display_data"
    }
   ],
   "source": [
    "sns.displot(df['bedRoom'])"
   ]
  },
  {
   "cell_type": "code",
   "execution_count": 47,
   "id": "234fac52",
   "metadata": {},
   "outputs": [
    {
     "data": {
      "text/plain": [
       "<Axes: xlabel='bedRoom'>"
      ]
     },
     "execution_count": 47,
     "metadata": {},
     "output_type": "execute_result"
    },
    {
     "data": {
      "image/png": "[encoded data removed]",
      "text/plain": [
       "<Figure size 640x480 with 1 Axes>"
      ]
     },
     "metadata": {},
     "output_type": "display_data"
    }
   ],
   "source": [
    "sns.boxplot(x=df['bedRoom'])"
   ]
  },
  {
   "cell_type": "code",
   "execution_count": 48,
   "id": "6e687ce3",
   "metadata": {},
   "outputs": [
    {
     "data": {
      "text/plain": [
       "count    5881.000000\n",
       "mean        2.827580\n",
       "std         1.043702\n",
       "min         1.000000\n",
       "25%         2.000000\n",
       "50%         3.000000\n",
       "75%         3.000000\n",
       "max        10.000000\n",
       "Name: bedRoom, dtype: float64"
      ]
     },
     "execution_count": 48,
     "metadata": {},
     "output_type": "execute_result"
    }
   ],
   "source": [
    "df['bedRoom'].describe()"
   ]
  },
  {
   "cell_type": "markdown",
   "id": "a884bd68",
   "metadata": {},
   "source": [
    "### Bathroom"
   ]
  },
  {
   "cell_type": "code",
   "execution_count": 49,
   "id": "34883ecc",
   "metadata": {},
   "outputs": [
    {
     "data": {
      "text/plain": [
       "<seaborn.axisgrid.FacetGrid at 0x2d1d1759310>"
      ]
     },
     "execution_count": 49,
     "metadata": {},
     "output_type": "execute_result"
    },
    {
     "data": {
      "image/png": "[encoded data removed]",
      "text/plain": [
       "<Figure size 500x500 with 1 Axes>"
      ]
     },
     "metadata": {},
     "output_type": "display_data"
    }
   ],
   "source": [
    "sns.displot(df['bathroom'])"
   ]
  },
  {
   "cell_type": "code",
   "execution_count": 50,
   "id": "44b1648e",
   "metadata": {},
   "outputs": [
    {
     "data": {
      "text/plain": [
       "<Axes: xlabel='bathroom'>"
      ]
     },
     "execution_count": 50,
     "metadata": {},
     "output_type": "execute_result"
    },
    {
     "data": {
      "image/png": "[encoded data removed]",
      "text/plain": [
       "<Figure size 640x480 with 1 Axes>"
      ]
     },
     "metadata": {},
     "output_type": "display_data"
    }
   ],
   "source": [
    "sns.boxplot(x=df['bathroom'])"
   ]
  },
  {
   "cell_type": "code",
   "execution_count": 51,
   "id": "b8c4cca0",
   "metadata": {},
   "outputs": [
    {
     "data": {
      "text/html": [
       "<div>\n",
       "<style scoped>\n",
       "    .dataframe tbody tr th:only-of-type {\n",
       "        vertical-align: middle;\n",
       "    }\n",
       "\n",
       "    .dataframe tbody tr th {\n",
       "        vertical-align: top;\n",
       "    }\n",
       "\n",
       "    .dataframe thead th {\n",
       "        text-align: right;\n",
       "    }\n",
       "</style>\n",
       "<table border=\"1\" class=\"dataframe\">\n",
       "  <thead>\n",
       "    <tr style=\"text-align: right;\">\n",
       "      <th></th>\n",
       "      <th>property_type</th>\n",
       "      <th>society</th>\n",
       "      <th>sector</th>\n",
       "      <th>price</th>\n",
       "      <th>price_per_sqft</th>\n",
       "      <th>area</th>\n",
       "      <th>areaWithType</th>\n",
       "      <th>bedRoom</th>\n",
       "      <th>bathroom</th>\n",
       "      <th>balcony</th>\n",
       "      <th>floorNum</th>\n",
       "      <th>facing</th>\n",
       "      <th>agePossession</th>\n",
       "      <th>super_built_up_area</th>\n",
       "      <th>built_up_area</th>\n",
       "      <th>carpet_area</th>\n",
       "      <th>study room</th>\n",
       "      <th>servant room</th>\n",
       "      <th>store room</th>\n",
       "      <th>pooja room</th>\n",
       "      <th>others</th>\n",
       "      <th>furnishing_type</th>\n",
       "      <th>luxury_score</th>\n",
       "    </tr>\n",
       "  </thead>\n",
       "  <tbody>\n",
       "  </tbody>\n",
       "</table>\n",
       "</div>"
      ],
      "text/plain": [
       "Empty DataFrame\n",
       "Columns: [property_type, society, sector, price, price_per_sqft, area, areaWithType, bedRoom, bathroom, balcony, floorNum, facing, agePossession, super_built_up_area, built_up_area, carpet_area, study room, servant room, store room, pooja room, others, furnishing_type, luxury_score]\n",
       "Index: []"
      ]
     },
     "execution_count": 51,
     "metadata": {},
     "output_type": "execute_result"
    }
   ],
   "source": [
    "df[df['bathroom'] > 10].sort_values('bathroom',ascending=False)"
   ]
  },
  {
   "cell_type": "code",
   "execution_count": 52,
   "id": "29dacd30",
   "metadata": {},
   "outputs": [
    {
     "data": {
      "text/html": [
       "<div>\n",
       "<style scoped>\n",
       "    .dataframe tbody tr th:only-of-type {\n",
       "        vertical-align: middle;\n",
       "    }\n",
       "\n",
       "    .dataframe tbody tr th {\n",
       "        vertical-align: top;\n",
       "    }\n",
       "\n",
       "    .dataframe thead th {\n",
       "        text-align: right;\n",
       "    }\n",
       "</style>\n",
       "<table border=\"1\" class=\"dataframe\">\n",
       "  <thead>\n",
       "    <tr style=\"text-align: right;\">\n",
       "      <th></th>\n",
       "      <th>property_type</th>\n",
       "      <th>society</th>\n",
       "      <th>sector</th>\n",
       "      <th>price</th>\n",
       "      <th>price_per_sqft</th>\n",
       "      <th>area</th>\n",
       "      <th>areaWithType</th>\n",
       "      <th>bedRoom</th>\n",
       "      <th>bathroom</th>\n",
       "      <th>balcony</th>\n",
       "      <th>floorNum</th>\n",
       "      <th>facing</th>\n",
       "      <th>agePossession</th>\n",
       "      <th>super_built_up_area</th>\n",
       "      <th>built_up_area</th>\n",
       "      <th>carpet_area</th>\n",
       "      <th>study room</th>\n",
       "      <th>servant room</th>\n",
       "      <th>store room</th>\n",
       "      <th>pooja room</th>\n",
       "      <th>others</th>\n",
       "      <th>furnishing_type</th>\n",
       "      <th>luxury_score</th>\n",
       "    </tr>\n",
       "  </thead>\n",
       "  <tbody>\n",
       "    <tr>\n",
       "      <th>0</th>\n",
       "      <td>house</td>\n",
       "      <td>independent</td>\n",
       "      <td>gurukul</td>\n",
       "      <td>2.40</td>\n",
       "      <td>11111.0</td>\n",
       "      <td>2160.0</td>\n",
       "      <td>Plot area 240(200.67 sq.m.)</td>\n",
       "      <td>3.0</td>\n",
       "      <td>3.0</td>\n",
       "      <td>3</td>\n",
       "      <td>3.0</td>\n",
       "      <td>North</td>\n",
       "      <td>Relatively New</td>\n",
       "      <td>NaN</td>\n",
       "      <td>2160.0</td>\n",
       "      <td>NaN</td>\n",
       "      <td>0.0</td>\n",
       "      <td>0.0</td>\n",
       "      <td>1.0</td>\n",
       "      <td>1.0</td>\n",
       "      <td>0.0</td>\n",
       "      <td>0.0</td>\n",
       "      <td>86.0</td>\n",
       "    </tr>\n",
       "    <tr>\n",
       "      <th>1</th>\n",
       "      <td>house</td>\n",
       "      <td>omkar bunglows</td>\n",
       "      <td>thaltej</td>\n",
       "      <td>4.75</td>\n",
       "      <td>15079.0</td>\n",
       "      <td>3150.0</td>\n",
       "      <td>Plot area 350(292.64 sq.m.)Built Up area: 315 ...</td>\n",
       "      <td>4.0</td>\n",
       "      <td>4.0</td>\n",
       "      <td>1</td>\n",
       "      <td>2.0</td>\n",
       "      <td>East</td>\n",
       "      <td>Old Property</td>\n",
       "      <td>NaN</td>\n",
       "      <td>315.0</td>\n",
       "      <td>NaN</td>\n",
       "      <td>0.0</td>\n",
       "      <td>0.0</td>\n",
       "      <td>1.0</td>\n",
       "      <td>1.0</td>\n",
       "      <td>0.0</td>\n",
       "      <td>1.0</td>\n",
       "      <td>161.0</td>\n",
       "    </tr>\n",
       "    <tr>\n",
       "      <th>2</th>\n",
       "      <td>flat</td>\n",
       "      <td>sheeva amardeep enclave</td>\n",
       "      <td>nava naroda</td>\n",
       "      <td>0.27</td>\n",
       "      <td>2400.0</td>\n",
       "      <td>1125.0</td>\n",
       "      <td>Built Up area: 125 (11.61 sq.m.)Carpet area: 1...</td>\n",
       "      <td>2.0</td>\n",
       "      <td>2.0</td>\n",
       "      <td>1</td>\n",
       "      <td>3.0</td>\n",
       "      <td>NaN</td>\n",
       "      <td>Undefined</td>\n",
       "      <td>NaN</td>\n",
       "      <td>125.0</td>\n",
       "      <td>115.0</td>\n",
       "      <td>0.0</td>\n",
       "      <td>0.0</td>\n",
       "      <td>0.0</td>\n",
       "      <td>0.0</td>\n",
       "      <td>0.0</td>\n",
       "      <td>0.0</td>\n",
       "      <td>0.0</td>\n",
       "    </tr>\n",
       "    <tr>\n",
       "      <th>3</th>\n",
       "      <td>flat</td>\n",
       "      <td>arizona river heights</td>\n",
       "      <td>usmanpura</td>\n",
       "      <td>2.10</td>\n",
       "      <td>8909.0</td>\n",
       "      <td>2357.0</td>\n",
       "      <td>Super Built up area 2357(218.97 sq.m.)Carpet a...</td>\n",
       "      <td>3.0</td>\n",
       "      <td>3.0</td>\n",
       "      <td>2</td>\n",
       "      <td>11.0</td>\n",
       "      <td>East</td>\n",
       "      <td>Moderately Old</td>\n",
       "      <td>2357.0</td>\n",
       "      <td>NaN</td>\n",
       "      <td>1415.0</td>\n",
       "      <td>0.0</td>\n",
       "      <td>0.0</td>\n",
       "      <td>0.0</td>\n",
       "      <td>1.0</td>\n",
       "      <td>1.0</td>\n",
       "      <td>1.0</td>\n",
       "      <td>54.0</td>\n",
       "    </tr>\n",
       "    <tr>\n",
       "      <th>4</th>\n",
       "      <td>flat</td>\n",
       "      <td>avirat silver harmony</td>\n",
       "      <td>gota</td>\n",
       "      <td>0.98</td>\n",
       "      <td>4839.0</td>\n",
       "      <td>2025.0</td>\n",
       "      <td>Super Built up area 2025(188.13 sq.m.)</td>\n",
       "      <td>3.0</td>\n",
       "      <td>3.0</td>\n",
       "      <td>1</td>\n",
       "      <td>9.0</td>\n",
       "      <td>East</td>\n",
       "      <td>Moderately Old</td>\n",
       "      <td>2025.0</td>\n",
       "      <td>NaN</td>\n",
       "      <td>NaN</td>\n",
       "      <td>0.0</td>\n",
       "      <td>0.0</td>\n",
       "      <td>1.0</td>\n",
       "      <td>0.0</td>\n",
       "      <td>0.0</td>\n",
       "      <td>0.0</td>\n",
       "      <td>75.0</td>\n",
       "    </tr>\n",
       "  </tbody>\n",
       "</table>\n",
       "</div>"
      ],
      "text/plain": [
       "  property_type                  society       sector  price  price_per_sqft  \\\n",
       "0         house              independent      gurukul   2.40         11111.0   \n",
       "1         house           omkar bunglows      thaltej   4.75         15079.0   \n",
       "2          flat  sheeva amardeep enclave  nava naroda   0.27          2400.0   \n",
       "3          flat    arizona river heights    usmanpura   2.10          8909.0   \n",
       "4          flat    avirat silver harmony         gota   0.98          4839.0   \n",
       "\n",
       "     area                                       areaWithType  bedRoom  \\\n",
       "0  2160.0                        Plot area 240(200.67 sq.m.)      3.0   \n",
       "1  3150.0  Plot area 350(292.64 sq.m.)Built Up area: 315 ...      4.0   \n",
       "2  1125.0  Built Up area: 125 (11.61 sq.m.)Carpet area: 1...      2.0   \n",
       "3  2357.0  Super Built up area 2357(218.97 sq.m.)Carpet a...      3.0   \n",
       "4  2025.0             Super Built up area 2025(188.13 sq.m.)      3.0   \n",
       "\n",
       "   bathroom balcony  floorNum facing   agePossession  super_built_up_area  \\\n",
       "0       3.0       3       3.0  North  Relatively New                  NaN   \n",
       "1       4.0       1       2.0   East    Old Property                  NaN   \n",
       "2       2.0       1       3.0    NaN       Undefined                  NaN   \n",
       "3       3.0       2      11.0   East  Moderately Old               2357.0   \n",
       "4       3.0       1       9.0   East  Moderately Old               2025.0   \n",
       "\n",
       "   built_up_area  carpet_area  study room  servant room  store room  \\\n",
       "0         2160.0          NaN         0.0           0.0         1.0   \n",
       "1          315.0          NaN         0.0           0.0         1.0   \n",
       "2          125.0        115.0         0.0           0.0         0.0   \n",
       "3            NaN       1415.0         0.0           0.0         0.0   \n",
       "4            NaN          NaN         0.0           0.0         1.0   \n",
       "\n",
       "   pooja room  others  furnishing_type  luxury_score  \n",
       "0         1.0     0.0              0.0          86.0  \n",
       "1         1.0     0.0              1.0         161.0  \n",
       "2         0.0     0.0              0.0           0.0  \n",
       "3         1.0     1.0              1.0          54.0  \n",
       "4         0.0     0.0              0.0          75.0  "
      ]
     },
     "execution_count": 52,
     "metadata": {},
     "output_type": "execute_result"
    }
   ],
   "source": [
    "df.head()"
   ]
  },
  {
   "cell_type": "markdown",
   "id": "3bdca50b",
   "metadata": {},
   "source": [
    "### super built up area"
   ]
  },
  {
   "cell_type": "code",
   "execution_count": 53,
   "id": "28989343",
   "metadata": {},
   "outputs": [
    {
     "data": {
      "text/plain": [
       "<seaborn.axisgrid.FacetGrid at 0x2d1d28e1490>"
      ]
     },
     "execution_count": 53,
     "metadata": {},
     "output_type": "execute_result"
    },
    {
     "data": {
      "image/png": "[encoded data removed]",
      "text/plain": [
       "<Figure size 500x500 with 1 Axes>"
      ]
     },
     "metadata": {},
     "output_type": "display_data"
    }
   ],
   "source": [
    "sns.displot(df['super_built_up_area'])"
   ]
  },
  {
   "cell_type": "code",
   "execution_count": 54,
   "id": "52a7a4b2",
   "metadata": {},
   "outputs": [
    {
     "data": {
      "text/plain": [
       "<Axes: xlabel='super_built_up_area'>"
      ]
     },
     "execution_count": 54,
     "metadata": {},
     "output_type": "execute_result"
    },
    {
     "data": {
      "image/png": "[encoded data removed]",
      "text/plain": [
       "<Figure size 640x480 with 1 Axes>"
      ]
     },
     "metadata": {},
     "output_type": "display_data"
    }
   ],
   "source": [
    "sns.boxplot(x=df['super_built_up_area'])"
   ]
  },
  {
   "cell_type": "code",
   "execution_count": 55,
   "id": "37f884dd",
   "metadata": {},
   "outputs": [
    {
     "data": {
      "text/plain": [
       "count     2505.000000\n",
       "mean      1549.509190\n",
       "std       1341.418723\n",
       "min         30.000000\n",
       "25%        680.000000\n",
       "50%       1350.000000\n",
       "75%       1918.000000\n",
       "max      16000.000000\n",
       "Name: super_built_up_area, dtype: float64"
      ]
     },
     "execution_count": 55,
     "metadata": {},
     "output_type": "execute_result"
    }
   ],
   "source": [
    "df['super_built_up_area'].describe()"
   ]
  },
  {
   "cell_type": "code",
   "execution_count": 56,
   "id": "a45fcee5",
   "metadata": {
    "scrolled": false
   },
   "outputs": [
    {
     "data": {
      "text/html": [
       "<div>\n",
       "<style scoped>\n",
       "    .dataframe tbody tr th:only-of-type {\n",
       "        vertical-align: middle;\n",
       "    }\n",
       "\n",
       "    .dataframe tbody tr th {\n",
       "        vertical-align: top;\n",
       "    }\n",
       "\n",
       "    .dataframe thead th {\n",
       "        text-align: right;\n",
       "    }\n",
       "</style>\n",
       "<table border=\"1\" class=\"dataframe\">\n",
       "  <thead>\n",
       "    <tr style=\"text-align: right;\">\n",
       "      <th></th>\n",
       "      <th>property_type</th>\n",
       "      <th>society</th>\n",
       "      <th>sector</th>\n",
       "      <th>price</th>\n",
       "      <th>price_per_sqft</th>\n",
       "      <th>area</th>\n",
       "      <th>areaWithType</th>\n",
       "      <th>bedRoom</th>\n",
       "      <th>bathroom</th>\n",
       "      <th>balcony</th>\n",
       "      <th>floorNum</th>\n",
       "      <th>facing</th>\n",
       "      <th>agePossession</th>\n",
       "      <th>super_built_up_area</th>\n",
       "      <th>built_up_area</th>\n",
       "      <th>carpet_area</th>\n",
       "      <th>study room</th>\n",
       "      <th>servant room</th>\n",
       "      <th>store room</th>\n",
       "      <th>pooja room</th>\n",
       "      <th>others</th>\n",
       "      <th>furnishing_type</th>\n",
       "      <th>luxury_score</th>\n",
       "    </tr>\n",
       "  </thead>\n",
       "  <tbody>\n",
       "    <tr>\n",
       "      <th>146</th>\n",
       "      <td>flat</td>\n",
       "      <td>shreem umang vatva</td>\n",
       "      <td>vatva</td>\n",
       "      <td>0.15</td>\n",
       "      <td>2564.0</td>\n",
       "      <td>585.0</td>\n",
       "      <td>Super Built up area 65(54.35 sq.m.)</td>\n",
       "      <td>1.0</td>\n",
       "      <td>1.0</td>\n",
       "      <td>0</td>\n",
       "      <td>3.0</td>\n",
       "      <td>NaN</td>\n",
       "      <td>Moderately Old</td>\n",
       "      <td>65.00</td>\n",
       "      <td>NaN</td>\n",
       "      <td>NaN</td>\n",
       "      <td>0.0</td>\n",
       "      <td>0.0</td>\n",
       "      <td>0.0</td>\n",
       "      <td>0.0</td>\n",
       "      <td>0.0</td>\n",
       "      <td>0.0</td>\n",
       "      <td>17.0</td>\n",
       "    </tr>\n",
       "    <tr>\n",
       "      <th>215</th>\n",
       "      <td>flat</td>\n",
       "      <td>satkar homes</td>\n",
       "      <td>narol</td>\n",
       "      <td>0.14</td>\n",
       "      <td>1941.0</td>\n",
       "      <td>721.0</td>\n",
       "      <td>Super Built up area 83(69.4 sq.m.)Built Up are...</td>\n",
       "      <td>1.0</td>\n",
       "      <td>1.0</td>\n",
       "      <td>2</td>\n",
       "      <td>4.0</td>\n",
       "      <td>East</td>\n",
       "      <td>Moderately Old</td>\n",
       "      <td>83.00</td>\n",
       "      <td>80.0</td>\n",
       "      <td>75.00</td>\n",
       "      <td>0.0</td>\n",
       "      <td>0.0</td>\n",
       "      <td>0.0</td>\n",
       "      <td>0.0</td>\n",
       "      <td>1.0</td>\n",
       "      <td>0.0</td>\n",
       "      <td>47.0</td>\n",
       "    </tr>\n",
       "    <tr>\n",
       "      <th>295</th>\n",
       "      <td>flat</td>\n",
       "      <td>ample tulsi residency</td>\n",
       "      <td>nava naroda</td>\n",
       "      <td>0.30</td>\n",
       "      <td>6173.0</td>\n",
       "      <td>486.0</td>\n",
       "      <td>Super Built up area 53.55(4.97 sq.m.)Carpet ar...</td>\n",
       "      <td>2.0</td>\n",
       "      <td>2.0</td>\n",
       "      <td>2</td>\n",
       "      <td>2.0</td>\n",
       "      <td>NaN</td>\n",
       "      <td>Relatively New</td>\n",
       "      <td>53.55</td>\n",
       "      <td>NaN</td>\n",
       "      <td>48.46</td>\n",
       "      <td>0.0</td>\n",
       "      <td>0.0</td>\n",
       "      <td>0.0</td>\n",
       "      <td>0.0</td>\n",
       "      <td>1.0</td>\n",
       "      <td>0.0</td>\n",
       "      <td>47.0</td>\n",
       "    </tr>\n",
       "    <tr>\n",
       "      <th>312</th>\n",
       "      <td>flat</td>\n",
       "      <td>tulsi pavan residency</td>\n",
       "      <td>chandkheda</td>\n",
       "      <td>0.32</td>\n",
       "      <td>4134.0</td>\n",
       "      <td>774.0</td>\n",
       "      <td>Super Built up area 86(71.91 sq.m.)</td>\n",
       "      <td>1.0</td>\n",
       "      <td>1.0</td>\n",
       "      <td>0</td>\n",
       "      <td>1.0</td>\n",
       "      <td>NaN</td>\n",
       "      <td>Moderately Old</td>\n",
       "      <td>86.00</td>\n",
       "      <td>NaN</td>\n",
       "      <td>NaN</td>\n",
       "      <td>0.0</td>\n",
       "      <td>0.0</td>\n",
       "      <td>0.0</td>\n",
       "      <td>0.0</td>\n",
       "      <td>0.0</td>\n",
       "      <td>2.0</td>\n",
       "      <td>35.0</td>\n",
       "    </tr>\n",
       "    <tr>\n",
       "      <th>430</th>\n",
       "      <td>flat</td>\n",
       "      <td>samor residency</td>\n",
       "      <td>vatva</td>\n",
       "      <td>0.11</td>\n",
       "      <td>1528.0</td>\n",
       "      <td>720.0</td>\n",
       "      <td>Super Built up area 80(66.89 sq.m.)</td>\n",
       "      <td>1.0</td>\n",
       "      <td>2.0</td>\n",
       "      <td>1</td>\n",
       "      <td>7.0</td>\n",
       "      <td>NaN</td>\n",
       "      <td>Relatively New</td>\n",
       "      <td>80.00</td>\n",
       "      <td>NaN</td>\n",
       "      <td>NaN</td>\n",
       "      <td>0.0</td>\n",
       "      <td>0.0</td>\n",
       "      <td>0.0</td>\n",
       "      <td>0.0</td>\n",
       "      <td>0.0</td>\n",
       "      <td>0.0</td>\n",
       "      <td>0.0</td>\n",
       "    </tr>\n",
       "  </tbody>\n",
       "</table>\n",
       "</div>"
      ],
      "text/plain": [
       "    property_type                society       sector  price  price_per_sqft  \\\n",
       "146          flat     shreem umang vatva        vatva   0.15          2564.0   \n",
       "215          flat           satkar homes        narol   0.14          1941.0   \n",
       "295          flat  ample tulsi residency  nava naroda   0.30          6173.0   \n",
       "312          flat  tulsi pavan residency   chandkheda   0.32          4134.0   \n",
       "430          flat        samor residency        vatva   0.11          1528.0   \n",
       "\n",
       "      area                                       areaWithType  bedRoom  \\\n",
       "146  585.0                Super Built up area 65(54.35 sq.m.)      1.0   \n",
       "215  721.0  Super Built up area 83(69.4 sq.m.)Built Up are...      1.0   \n",
       "295  486.0  Super Built up area 53.55(4.97 sq.m.)Carpet ar...      2.0   \n",
       "312  774.0                Super Built up area 86(71.91 sq.m.)      1.0   \n",
       "430  720.0                Super Built up area 80(66.89 sq.m.)      1.0   \n",
       "\n",
       "     bathroom balcony  floorNum facing   agePossession  super_built_up_area  \\\n",
       "146       1.0       0       3.0    NaN  Moderately Old                65.00   \n",
       "215       1.0       2       4.0   East  Moderately Old                83.00   \n",
       "295       2.0       2       2.0    NaN  Relatively New                53.55   \n",
       "312       1.0       0       1.0    NaN  Moderately Old                86.00   \n",
       "430       2.0       1       7.0    NaN  Relatively New                80.00   \n",
       "\n",
       "     built_up_area  carpet_area  study room  servant room  store room  \\\n",
       "146            NaN          NaN         0.0           0.0         0.0   \n",
       "215           80.0        75.00         0.0           0.0         0.0   \n",
       "295            NaN        48.46         0.0           0.0         0.0   \n",
       "312            NaN          NaN         0.0           0.0         0.0   \n",
       "430            NaN          NaN         0.0           0.0         0.0   \n",
       "\n",
       "     pooja room  others  furnishing_type  luxury_score  \n",
       "146         0.0     0.0              0.0          17.0  \n",
       "215         0.0     1.0              0.0          47.0  \n",
       "295         0.0     1.0              0.0          47.0  \n",
       "312         0.0     0.0              2.0          35.0  \n",
       "430         0.0     0.0              0.0           0.0  "
      ]
     },
     "execution_count": 56,
     "metadata": {},
     "output_type": "execute_result"
    }
   ],
   "source": [
    "df[df['super_built_up_area'] <100].head()"
   ]
  },
  {
   "cell_type": "code",
   "execution_count": 57,
   "id": "2f555f6c",
   "metadata": {},
   "outputs": [
    {
     "data": {
      "text/plain": [
       "<Axes: xlabel='built_up_area', ylabel='super_built_up_area'>"
      ]
     },
     "execution_count": 57,
     "metadata": {},
     "output_type": "execute_result"
    },
    {
     "data": {
      "image/png": "[encoded data removed]",
      "text/plain": [
       "<Figure size 640x480 with 1 Axes>"
      ]
     },
     "metadata": {},
     "output_type": "display_data"
    }
   ],
   "source": [
    "sns.scatterplot(df,x='built_up_area',y='super_built_up_area')"
   ]
  },
  {
   "cell_type": "markdown",
   "id": "b05a4bce",
   "metadata": {},
   "source": [
    "### built up area"
   ]
  },
  {
   "cell_type": "code",
   "execution_count": 58,
   "id": "4873a02f",
   "metadata": {},
   "outputs": [
    {
     "data": {
      "text/plain": [
       "<seaborn.axisgrid.FacetGrid at 0x2d1d2ae41d0>"
      ]
     },
     "execution_count": 58,
     "metadata": {},
     "output_type": "execute_result"
    },
    {
     "data": {
      "image/png": "[encoded data removed]",
      "text/plain": [
       "<Figure size 500x500 with 1 Axes>"
      ]
     },
     "metadata": {},
     "output_type": "display_data"
    }
   ],
   "source": [
    "sns.displot(df['built_up_area'])"
   ]
  },
  {
   "cell_type": "code",
   "execution_count": 59,
   "id": "bbb28d31",
   "metadata": {},
   "outputs": [
    {
     "data": {
      "text/plain": [
       "<Axes: xlabel='built_up_area'>"
      ]
     },
     "execution_count": 59,
     "metadata": {},
     "output_type": "execute_result"
    },
    {
     "data": {
      "image/png": "[encoded data removed]",
      "text/plain": [
       "<Figure size 640x480 with 1 Axes>"
      ]
     },
     "metadata": {},
     "output_type": "display_data"
    }
   ],
   "source": [
    "sns.boxplot(x=df['built_up_area'])"
   ]
  },
  {
   "cell_type": "code",
   "execution_count": 60,
   "id": "1e022b5f",
   "metadata": {},
   "outputs": [
    {
     "data": {
      "text/html": [
       "<div>\n",
       "<style scoped>\n",
       "    .dataframe tbody tr th:only-of-type {\n",
       "        vertical-align: middle;\n",
       "    }\n",
       "\n",
       "    .dataframe tbody tr th {\n",
       "        vertical-align: top;\n",
       "    }\n",
       "\n",
       "    .dataframe thead th {\n",
       "        text-align: right;\n",
       "    }\n",
       "</style>\n",
       "<table border=\"1\" class=\"dataframe\">\n",
       "  <thead>\n",
       "    <tr style=\"text-align: right;\">\n",
       "      <th></th>\n",
       "      <th>property_type</th>\n",
       "      <th>society</th>\n",
       "      <th>sector</th>\n",
       "      <th>price</th>\n",
       "      <th>price_per_sqft</th>\n",
       "      <th>area</th>\n",
       "      <th>areaWithType</th>\n",
       "      <th>bedRoom</th>\n",
       "      <th>bathroom</th>\n",
       "      <th>balcony</th>\n",
       "      <th>floorNum</th>\n",
       "      <th>facing</th>\n",
       "      <th>agePossession</th>\n",
       "      <th>super_built_up_area</th>\n",
       "      <th>built_up_area</th>\n",
       "      <th>carpet_area</th>\n",
       "      <th>study room</th>\n",
       "      <th>servant room</th>\n",
       "      <th>store room</th>\n",
       "      <th>pooja room</th>\n",
       "      <th>others</th>\n",
       "      <th>furnishing_type</th>\n",
       "      <th>luxury_score</th>\n",
       "    </tr>\n",
       "  </thead>\n",
       "  <tbody>\n",
       "    <tr>\n",
       "      <th>653</th>\n",
       "      <td>flat</td>\n",
       "      <td>upcoming new project</td>\n",
       "      <td>bodakdev</td>\n",
       "      <td>13.34</td>\n",
       "      <td>19090.0</td>\n",
       "      <td>6988.0</td>\n",
       "      <td>Built Up area: 12700 (1179.87 sq.m.)Carpet are...</td>\n",
       "      <td>5.0</td>\n",
       "      <td>5.0</td>\n",
       "      <td>2</td>\n",
       "      <td>6.0</td>\n",
       "      <td>East</td>\n",
       "      <td>Under Construction</td>\n",
       "      <td>NaN</td>\n",
       "      <td>12700.0</td>\n",
       "      <td>6985.0</td>\n",
       "      <td>1.0</td>\n",
       "      <td>1.0</td>\n",
       "      <td>1.0</td>\n",
       "      <td>1.0</td>\n",
       "      <td>0.0</td>\n",
       "      <td>0.0</td>\n",
       "      <td>213.0</td>\n",
       "    </tr>\n",
       "    <tr>\n",
       "      <th>2047</th>\n",
       "      <td>house</td>\n",
       "      <td>bakeri serendeep mansion</td>\n",
       "      <td>ghuma</td>\n",
       "      <td>9.25</td>\n",
       "      <td>6424.0</td>\n",
       "      <td>14399.0</td>\n",
       "      <td>Plot area 1600(1337.8 sq.m.)</td>\n",
       "      <td>4.0</td>\n",
       "      <td>4.0</td>\n",
       "      <td>2</td>\n",
       "      <td>4.0</td>\n",
       "      <td>East</td>\n",
       "      <td>Moderately Old</td>\n",
       "      <td>NaN</td>\n",
       "      <td>14400.0</td>\n",
       "      <td>NaN</td>\n",
       "      <td>1.0</td>\n",
       "      <td>1.0</td>\n",
       "      <td>1.0</td>\n",
       "      <td>1.0</td>\n",
       "      <td>0.0</td>\n",
       "      <td>0.0</td>\n",
       "      <td>39.0</td>\n",
       "    </tr>\n",
       "    <tr>\n",
       "      <th>4356</th>\n",
       "      <td>house</td>\n",
       "      <td>independent</td>\n",
       "      <td>shela</td>\n",
       "      <td>11.50</td>\n",
       "      <td>8430.0</td>\n",
       "      <td>13642.0</td>\n",
       "      <td>Plot area 13641(1267.29 sq.m.)</td>\n",
       "      <td>3.0</td>\n",
       "      <td>3.0</td>\n",
       "      <td>1</td>\n",
       "      <td>1.0</td>\n",
       "      <td>North</td>\n",
       "      <td>Moderately Old</td>\n",
       "      <td>NaN</td>\n",
       "      <td>13641.0</td>\n",
       "      <td>NaN</td>\n",
       "      <td>0.0</td>\n",
       "      <td>0.0</td>\n",
       "      <td>1.0</td>\n",
       "      <td>1.0</td>\n",
       "      <td>0.0</td>\n",
       "      <td>2.0</td>\n",
       "      <td>82.0</td>\n",
       "    </tr>\n",
       "    <tr>\n",
       "      <th>5682</th>\n",
       "      <td>house</td>\n",
       "      <td>independentdanbag bunglow</td>\n",
       "      <td>shela</td>\n",
       "      <td>10.00</td>\n",
       "      <td>9259.0</td>\n",
       "      <td>10800.0</td>\n",
       "      <td>Plot area 1200(1003.35 sq.m.)</td>\n",
       "      <td>4.0</td>\n",
       "      <td>4.0</td>\n",
       "      <td>2</td>\n",
       "      <td>2.0</td>\n",
       "      <td>North-East</td>\n",
       "      <td>Old Property</td>\n",
       "      <td>NaN</td>\n",
       "      <td>10800.0</td>\n",
       "      <td>NaN</td>\n",
       "      <td>1.0</td>\n",
       "      <td>1.0</td>\n",
       "      <td>0.0</td>\n",
       "      <td>1.0</td>\n",
       "      <td>0.0</td>\n",
       "      <td>2.0</td>\n",
       "      <td>95.0</td>\n",
       "    </tr>\n",
       "  </tbody>\n",
       "</table>\n",
       "</div>"
      ],
      "text/plain": [
       "     property_type                    society    sector  price  \\\n",
       "653           flat       upcoming new project  bodakdev  13.34   \n",
       "2047         house   bakeri serendeep mansion     ghuma   9.25   \n",
       "4356         house                independent     shela  11.50   \n",
       "5682         house  independentdanbag bunglow     shela  10.00   \n",
       "\n",
       "      price_per_sqft     area  \\\n",
       "653          19090.0   6988.0   \n",
       "2047          6424.0  14399.0   \n",
       "4356          8430.0  13642.0   \n",
       "5682          9259.0  10800.0   \n",
       "\n",
       "                                           areaWithType  bedRoom  bathroom  \\\n",
       "653   Built Up area: 12700 (1179.87 sq.m.)Carpet are...      5.0       5.0   \n",
       "2047                       Plot area 1600(1337.8 sq.m.)      4.0       4.0   \n",
       "4356                     Plot area 13641(1267.29 sq.m.)      3.0       3.0   \n",
       "5682                      Plot area 1200(1003.35 sq.m.)      4.0       4.0   \n",
       "\n",
       "     balcony  floorNum      facing       agePossession  super_built_up_area  \\\n",
       "653        2       6.0        East  Under Construction                  NaN   \n",
       "2047       2       4.0        East      Moderately Old                  NaN   \n",
       "4356       1       1.0       North      Moderately Old                  NaN   \n",
       "5682       2       2.0  North-East        Old Property                  NaN   \n",
       "\n",
       "      built_up_area  carpet_area  study room  servant room  store room  \\\n",
       "653         12700.0       6985.0         1.0           1.0         1.0   \n",
       "2047        14400.0          NaN         1.0           1.0         1.0   \n",
       "4356        13641.0          NaN         0.0           0.0         1.0   \n",
       "5682        10800.0          NaN         1.0           1.0         0.0   \n",
       "\n",
       "      pooja room  others  furnishing_type  luxury_score  \n",
       "653          1.0     0.0              0.0         213.0  \n",
       "2047         1.0     0.0              0.0          39.0  \n",
       "4356         1.0     0.0              2.0          82.0  \n",
       "5682         1.0     0.0              2.0          95.0  "
      ]
     },
     "execution_count": 60,
     "metadata": {},
     "output_type": "execute_result"
    }
   ],
   "source": [
    "df[df['built_up_area'] > 10000]"
   ]
  },
  {
   "cell_type": "markdown",
   "id": "ebe0a386",
   "metadata": {},
   "source": [
    "### carpet area"
   ]
  },
  {
   "cell_type": "code",
   "execution_count": 61,
   "id": "e35cd4fc",
   "metadata": {},
   "outputs": [
    {
     "data": {
      "text/plain": [
       "<seaborn.axisgrid.FacetGrid at 0x2d1d2da6a90>"
      ]
     },
     "execution_count": 61,
     "metadata": {},
     "output_type": "execute_result"
    },
    {
     "data": {
      "image/png": "[encoded data removed]",
      "text/plain": [
       "<Figure size 500x500 with 1 Axes>"
      ]
     },
     "metadata": {},
     "output_type": "display_data"
    }
   ],
   "source": [
    "sns.displot(df['carpet_area'])"
   ]
  },
  {
   "cell_type": "code",
   "execution_count": 62,
   "id": "4ccacf81",
   "metadata": {},
   "outputs": [
    {
     "data": {
      "text/plain": [
       "<Axes: xlabel='carpet_area'>"
      ]
     },
     "execution_count": 62,
     "metadata": {},
     "output_type": "execute_result"
    },
    {
     "data": {
      "image/png": "[encoded data removed]",
      "text/plain": [
       "<Figure size 640x480 with 1 Axes>"
      ]
     },
     "metadata": {},
     "output_type": "display_data"
    }
   ],
   "source": [
    "sns.boxplot(x=df['carpet_area'])"
   ]
  },
  {
   "cell_type": "code",
   "execution_count": 63,
   "id": "0b4569cd",
   "metadata": {},
   "outputs": [
    {
     "data": {
      "text/html": [
       "<div>\n",
       "<style scoped>\n",
       "    .dataframe tbody tr th:only-of-type {\n",
       "        vertical-align: middle;\n",
       "    }\n",
       "\n",
       "    .dataframe tbody tr th {\n",
       "        vertical-align: top;\n",
       "    }\n",
       "\n",
       "    .dataframe thead th {\n",
       "        text-align: right;\n",
       "    }\n",
       "</style>\n",
       "<table border=\"1\" class=\"dataframe\">\n",
       "  <thead>\n",
       "    <tr style=\"text-align: right;\">\n",
       "      <th></th>\n",
       "      <th>property_type</th>\n",
       "      <th>society</th>\n",
       "      <th>sector</th>\n",
       "      <th>price</th>\n",
       "      <th>price_per_sqft</th>\n",
       "      <th>area</th>\n",
       "      <th>areaWithType</th>\n",
       "      <th>bedRoom</th>\n",
       "      <th>bathroom</th>\n",
       "      <th>balcony</th>\n",
       "      <th>floorNum</th>\n",
       "      <th>facing</th>\n",
       "      <th>agePossession</th>\n",
       "      <th>super_built_up_area</th>\n",
       "      <th>built_up_area</th>\n",
       "      <th>carpet_area</th>\n",
       "      <th>study room</th>\n",
       "      <th>servant room</th>\n",
       "      <th>store room</th>\n",
       "      <th>pooja room</th>\n",
       "      <th>others</th>\n",
       "      <th>furnishing_type</th>\n",
       "      <th>luxury_score</th>\n",
       "    </tr>\n",
       "  </thead>\n",
       "  <tbody>\n",
       "    <tr>\n",
       "      <th>1254</th>\n",
       "      <td>flat</td>\n",
       "      <td>ikebana</td>\n",
       "      <td>bodakdev</td>\n",
       "      <td>14.7</td>\n",
       "      <td>10500.0</td>\n",
       "      <td>14000.0</td>\n",
       "      <td>Carpet area: 14000 (1300.64 sq.m.)</td>\n",
       "      <td>6.0</td>\n",
       "      <td>7.0</td>\n",
       "      <td>2</td>\n",
       "      <td>16.0</td>\n",
       "      <td>East</td>\n",
       "      <td>Under Construction</td>\n",
       "      <td>NaN</td>\n",
       "      <td>NaN</td>\n",
       "      <td>14000.0</td>\n",
       "      <td>1.0</td>\n",
       "      <td>1.0</td>\n",
       "      <td>1.0</td>\n",
       "      <td>1.0</td>\n",
       "      <td>0.0</td>\n",
       "      <td>0.0</td>\n",
       "      <td>253.0</td>\n",
       "    </tr>\n",
       "  </tbody>\n",
       "</table>\n",
       "</div>"
      ],
      "text/plain": [
       "     property_type  society    sector  price  price_per_sqft     area  \\\n",
       "1254          flat  ikebana  bodakdev   14.7         10500.0  14000.0   \n",
       "\n",
       "                            areaWithType  bedRoom  bathroom balcony  floorNum  \\\n",
       "1254  Carpet area: 14000 (1300.64 sq.m.)      6.0       7.0       2      16.0   \n",
       "\n",
       "     facing       agePossession  super_built_up_area  built_up_area  \\\n",
       "1254   East  Under Construction                  NaN            NaN   \n",
       "\n",
       "      carpet_area  study room  servant room  store room  pooja room  others  \\\n",
       "1254      14000.0         1.0           1.0         1.0         1.0     0.0   \n",
       "\n",
       "      furnishing_type  luxury_score  \n",
       "1254              0.0         253.0  "
      ]
     },
     "execution_count": 63,
     "metadata": {},
     "output_type": "execute_result"
    }
   ],
   "source": [
    "df[df['carpet_area'] > 10000]"
   ]
  },
  {
   "cell_type": "code",
   "execution_count": 64,
   "id": "12d95c6c",
   "metadata": {},
   "outputs": [],
   "source": [
    "df.loc[1254,'carpet_area'] = 5000\n",
    "df.loc[1254,'area'] = 5000"
   ]
  },
  {
   "cell_type": "code",
   "execution_count": 65,
   "id": "ee79b41d",
   "metadata": {},
   "outputs": [
    {
     "data": {
      "text/html": [
       "<div>\n",
       "<style scoped>\n",
       "    .dataframe tbody tr th:only-of-type {\n",
       "        vertical-align: middle;\n",
       "    }\n",
       "\n",
       "    .dataframe tbody tr th {\n",
       "        vertical-align: top;\n",
       "    }\n",
       "\n",
       "    .dataframe thead th {\n",
       "        text-align: right;\n",
       "    }\n",
       "</style>\n",
       "<table border=\"1\" class=\"dataframe\">\n",
       "  <thead>\n",
       "    <tr style=\"text-align: right;\">\n",
       "      <th></th>\n",
       "      <th>property_type</th>\n",
       "      <th>society</th>\n",
       "      <th>sector</th>\n",
       "      <th>price</th>\n",
       "      <th>price_per_sqft</th>\n",
       "      <th>area</th>\n",
       "      <th>areaWithType</th>\n",
       "      <th>bedRoom</th>\n",
       "      <th>bathroom</th>\n",
       "      <th>balcony</th>\n",
       "      <th>floorNum</th>\n",
       "      <th>facing</th>\n",
       "      <th>agePossession</th>\n",
       "      <th>super_built_up_area</th>\n",
       "      <th>built_up_area</th>\n",
       "      <th>carpet_area</th>\n",
       "      <th>study room</th>\n",
       "      <th>servant room</th>\n",
       "      <th>store room</th>\n",
       "      <th>pooja room</th>\n",
       "      <th>others</th>\n",
       "      <th>furnishing_type</th>\n",
       "      <th>luxury_score</th>\n",
       "    </tr>\n",
       "  </thead>\n",
       "  <tbody>\n",
       "    <tr>\n",
       "      <th>0</th>\n",
       "      <td>house</td>\n",
       "      <td>independent</td>\n",
       "      <td>gurukul</td>\n",
       "      <td>2.40</td>\n",
       "      <td>11111.0</td>\n",
       "      <td>2160.0</td>\n",
       "      <td>Plot area 240(200.67 sq.m.)</td>\n",
       "      <td>3.0</td>\n",
       "      <td>3.0</td>\n",
       "      <td>3</td>\n",
       "      <td>3.0</td>\n",
       "      <td>North</td>\n",
       "      <td>Relatively New</td>\n",
       "      <td>NaN</td>\n",
       "      <td>2160.0</td>\n",
       "      <td>NaN</td>\n",
       "      <td>0.0</td>\n",
       "      <td>0.0</td>\n",
       "      <td>1.0</td>\n",
       "      <td>1.0</td>\n",
       "      <td>0.0</td>\n",
       "      <td>0.0</td>\n",
       "      <td>86.0</td>\n",
       "    </tr>\n",
       "    <tr>\n",
       "      <th>1</th>\n",
       "      <td>house</td>\n",
       "      <td>omkar bunglows</td>\n",
       "      <td>thaltej</td>\n",
       "      <td>4.75</td>\n",
       "      <td>15079.0</td>\n",
       "      <td>3150.0</td>\n",
       "      <td>Plot area 350(292.64 sq.m.)Built Up area: 315 ...</td>\n",
       "      <td>4.0</td>\n",
       "      <td>4.0</td>\n",
       "      <td>1</td>\n",
       "      <td>2.0</td>\n",
       "      <td>East</td>\n",
       "      <td>Old Property</td>\n",
       "      <td>NaN</td>\n",
       "      <td>315.0</td>\n",
       "      <td>NaN</td>\n",
       "      <td>0.0</td>\n",
       "      <td>0.0</td>\n",
       "      <td>1.0</td>\n",
       "      <td>1.0</td>\n",
       "      <td>0.0</td>\n",
       "      <td>1.0</td>\n",
       "      <td>161.0</td>\n",
       "    </tr>\n",
       "    <tr>\n",
       "      <th>2</th>\n",
       "      <td>flat</td>\n",
       "      <td>sheeva amardeep enclave</td>\n",
       "      <td>nava naroda</td>\n",
       "      <td>0.27</td>\n",
       "      <td>2400.0</td>\n",
       "      <td>1125.0</td>\n",
       "      <td>Built Up area: 125 (11.61 sq.m.)Carpet area: 1...</td>\n",
       "      <td>2.0</td>\n",
       "      <td>2.0</td>\n",
       "      <td>1</td>\n",
       "      <td>3.0</td>\n",
       "      <td>NaN</td>\n",
       "      <td>Undefined</td>\n",
       "      <td>NaN</td>\n",
       "      <td>125.0</td>\n",
       "      <td>115.0</td>\n",
       "      <td>0.0</td>\n",
       "      <td>0.0</td>\n",
       "      <td>0.0</td>\n",
       "      <td>0.0</td>\n",
       "      <td>0.0</td>\n",
       "      <td>0.0</td>\n",
       "      <td>0.0</td>\n",
       "    </tr>\n",
       "    <tr>\n",
       "      <th>3</th>\n",
       "      <td>flat</td>\n",
       "      <td>arizona river heights</td>\n",
       "      <td>usmanpura</td>\n",
       "      <td>2.10</td>\n",
       "      <td>8909.0</td>\n",
       "      <td>2357.0</td>\n",
       "      <td>Super Built up area 2357(218.97 sq.m.)Carpet a...</td>\n",
       "      <td>3.0</td>\n",
       "      <td>3.0</td>\n",
       "      <td>2</td>\n",
       "      <td>11.0</td>\n",
       "      <td>East</td>\n",
       "      <td>Moderately Old</td>\n",
       "      <td>2357.0</td>\n",
       "      <td>NaN</td>\n",
       "      <td>1415.0</td>\n",
       "      <td>0.0</td>\n",
       "      <td>0.0</td>\n",
       "      <td>0.0</td>\n",
       "      <td>1.0</td>\n",
       "      <td>1.0</td>\n",
       "      <td>1.0</td>\n",
       "      <td>54.0</td>\n",
       "    </tr>\n",
       "    <tr>\n",
       "      <th>4</th>\n",
       "      <td>flat</td>\n",
       "      <td>avirat silver harmony</td>\n",
       "      <td>gota</td>\n",
       "      <td>0.98</td>\n",
       "      <td>4839.0</td>\n",
       "      <td>2025.0</td>\n",
       "      <td>Super Built up area 2025(188.13 sq.m.)</td>\n",
       "      <td>3.0</td>\n",
       "      <td>3.0</td>\n",
       "      <td>1</td>\n",
       "      <td>9.0</td>\n",
       "      <td>East</td>\n",
       "      <td>Moderately Old</td>\n",
       "      <td>2025.0</td>\n",
       "      <td>NaN</td>\n",
       "      <td>NaN</td>\n",
       "      <td>0.0</td>\n",
       "      <td>0.0</td>\n",
       "      <td>1.0</td>\n",
       "      <td>0.0</td>\n",
       "      <td>0.0</td>\n",
       "      <td>0.0</td>\n",
       "      <td>75.0</td>\n",
       "    </tr>\n",
       "  </tbody>\n",
       "</table>\n",
       "</div>"
      ],
      "text/plain": [
       "  property_type                  society       sector  price  price_per_sqft  \\\n",
       "0         house              independent      gurukul   2.40         11111.0   \n",
       "1         house           omkar bunglows      thaltej   4.75         15079.0   \n",
       "2          flat  sheeva amardeep enclave  nava naroda   0.27          2400.0   \n",
       "3          flat    arizona river heights    usmanpura   2.10          8909.0   \n",
       "4          flat    avirat silver harmony         gota   0.98          4839.0   \n",
       "\n",
       "     area                                       areaWithType  bedRoom  \\\n",
       "0  2160.0                        Plot area 240(200.67 sq.m.)      3.0   \n",
       "1  3150.0  Plot area 350(292.64 sq.m.)Built Up area: 315 ...      4.0   \n",
       "2  1125.0  Built Up area: 125 (11.61 sq.m.)Carpet area: 1...      2.0   \n",
       "3  2357.0  Super Built up area 2357(218.97 sq.m.)Carpet a...      3.0   \n",
       "4  2025.0             Super Built up area 2025(188.13 sq.m.)      3.0   \n",
       "\n",
       "   bathroom balcony  floorNum facing   agePossession  super_built_up_area  \\\n",
       "0       3.0       3       3.0  North  Relatively New                  NaN   \n",
       "1       4.0       1       2.0   East    Old Property                  NaN   \n",
       "2       2.0       1       3.0    NaN       Undefined                  NaN   \n",
       "3       3.0       2      11.0   East  Moderately Old               2357.0   \n",
       "4       3.0       1       9.0   East  Moderately Old               2025.0   \n",
       "\n",
       "   built_up_area  carpet_area  study room  servant room  store room  \\\n",
       "0         2160.0          NaN         0.0           0.0         1.0   \n",
       "1          315.0          NaN         0.0           0.0         1.0   \n",
       "2          125.0        115.0         0.0           0.0         0.0   \n",
       "3            NaN       1415.0         0.0           0.0         0.0   \n",
       "4            NaN          NaN         0.0           0.0         1.0   \n",
       "\n",
       "   pooja room  others  furnishing_type  luxury_score  \n",
       "0         1.0     0.0              0.0          86.0  \n",
       "1         1.0     0.0              1.0         161.0  \n",
       "2         0.0     0.0              0.0           0.0  \n",
       "3         1.0     1.0              1.0          54.0  \n",
       "4         0.0     0.0              0.0          75.0  "
      ]
     },
     "execution_count": 65,
     "metadata": {},
     "output_type": "execute_result"
    }
   ],
   "source": [
    "df.head()"
   ]
  },
  {
   "cell_type": "code",
   "execution_count": 66,
   "id": "71134d59",
   "metadata": {},
   "outputs": [
    {
     "data": {
      "text/plain": [
       "<seaborn.axisgrid.FacetGrid at 0x2d1d2ce6110>"
      ]
     },
     "execution_count": 66,
     "metadata": {},
     "output_type": "execute_result"
    },
    {
     "data": {
      "image/png": "[encoded data removed]",
      "text/plain": [
       "<Figure size 500x500 with 1 Axes>"
      ]
     },
     "metadata": {},
     "output_type": "display_data"
    }
   ],
   "source": [
    "sns.displot(df['luxury_score'])"
   ]
  },
  {
   "cell_type": "code",
   "execution_count": 67,
   "id": "152b568e",
   "metadata": {},
   "outputs": [
    {
     "data": {
      "text/plain": [
       "<Axes: >"
      ]
     },
     "execution_count": 67,
     "metadata": {},
     "output_type": "execute_result"
    },
    {
     "data": {
      "image/png": "[encoded data removed]",
      "text/plain": [
       "<Figure size 640x480 with 1 Axes>"
      ]
     },
     "metadata": {},
     "output_type": "display_data"
    }
   ],
   "source": [
    "sns.boxplot(df['luxury_score'])"
   ]
  },
  {
   "cell_type": "code",
   "execution_count": 68,
   "id": "2cd54fc0",
   "metadata": {},
   "outputs": [
    {
     "data": {
      "text/plain": [
       "(5881, 23)"
      ]
     },
     "execution_count": 68,
     "metadata": {},
     "output_type": "execute_result"
    }
   ],
   "source": [
    "df.shape"
   ]
  },
  {
   "cell_type": "code",
   "execution_count": 69,
   "id": "de67d03f",
   "metadata": {},
   "outputs": [],
   "source": [
    "df['price_per_sqft'] = round((df['price']*10000000)/df['area'])"
   ]
  },
  {
   "cell_type": "code",
   "execution_count": 70,
   "id": "cb765c6a",
   "metadata": {},
   "outputs": [
    {
     "data": {
      "text/html": [
       "<div>\n",
       "<style scoped>\n",
       "    .dataframe tbody tr th:only-of-type {\n",
       "        vertical-align: middle;\n",
       "    }\n",
       "\n",
       "    .dataframe tbody tr th {\n",
       "        vertical-align: top;\n",
       "    }\n",
       "\n",
       "    .dataframe thead th {\n",
       "        text-align: right;\n",
       "    }\n",
       "</style>\n",
       "<table border=\"1\" class=\"dataframe\">\n",
       "  <thead>\n",
       "    <tr style=\"text-align: right;\">\n",
       "      <th></th>\n",
       "      <th>property_type</th>\n",
       "      <th>society</th>\n",
       "      <th>sector</th>\n",
       "      <th>price</th>\n",
       "      <th>price_per_sqft</th>\n",
       "      <th>area</th>\n",
       "      <th>areaWithType</th>\n",
       "      <th>bedRoom</th>\n",
       "      <th>bathroom</th>\n",
       "      <th>balcony</th>\n",
       "      <th>floorNum</th>\n",
       "      <th>facing</th>\n",
       "      <th>agePossession</th>\n",
       "      <th>super_built_up_area</th>\n",
       "      <th>built_up_area</th>\n",
       "      <th>carpet_area</th>\n",
       "      <th>study room</th>\n",
       "      <th>servant room</th>\n",
       "      <th>store room</th>\n",
       "      <th>pooja room</th>\n",
       "      <th>others</th>\n",
       "      <th>furnishing_type</th>\n",
       "      <th>luxury_score</th>\n",
       "    </tr>\n",
       "  </thead>\n",
       "  <tbody>\n",
       "    <tr>\n",
       "      <th>0</th>\n",
       "      <td>house</td>\n",
       "      <td>independent</td>\n",
       "      <td>gurukul</td>\n",
       "      <td>2.40</td>\n",
       "      <td>11111.0</td>\n",
       "      <td>2160.0</td>\n",
       "      <td>Plot area 240(200.67 sq.m.)</td>\n",
       "      <td>3.0</td>\n",
       "      <td>3.0</td>\n",
       "      <td>3</td>\n",
       "      <td>3.0</td>\n",
       "      <td>North</td>\n",
       "      <td>Relatively New</td>\n",
       "      <td>NaN</td>\n",
       "      <td>2160.0</td>\n",
       "      <td>NaN</td>\n",
       "      <td>0.0</td>\n",
       "      <td>0.0</td>\n",
       "      <td>1.0</td>\n",
       "      <td>1.0</td>\n",
       "      <td>0.0</td>\n",
       "      <td>0.0</td>\n",
       "      <td>86.0</td>\n",
       "    </tr>\n",
       "    <tr>\n",
       "      <th>1</th>\n",
       "      <td>house</td>\n",
       "      <td>omkar bunglows</td>\n",
       "      <td>thaltej</td>\n",
       "      <td>4.75</td>\n",
       "      <td>15079.0</td>\n",
       "      <td>3150.0</td>\n",
       "      <td>Plot area 350(292.64 sq.m.)Built Up area: 315 ...</td>\n",
       "      <td>4.0</td>\n",
       "      <td>4.0</td>\n",
       "      <td>1</td>\n",
       "      <td>2.0</td>\n",
       "      <td>East</td>\n",
       "      <td>Old Property</td>\n",
       "      <td>NaN</td>\n",
       "      <td>315.0</td>\n",
       "      <td>NaN</td>\n",
       "      <td>0.0</td>\n",
       "      <td>0.0</td>\n",
       "      <td>1.0</td>\n",
       "      <td>1.0</td>\n",
       "      <td>0.0</td>\n",
       "      <td>1.0</td>\n",
       "      <td>161.0</td>\n",
       "    </tr>\n",
       "    <tr>\n",
       "      <th>2</th>\n",
       "      <td>flat</td>\n",
       "      <td>sheeva amardeep enclave</td>\n",
       "      <td>nava naroda</td>\n",
       "      <td>0.27</td>\n",
       "      <td>2400.0</td>\n",
       "      <td>1125.0</td>\n",
       "      <td>Built Up area: 125 (11.61 sq.m.)Carpet area: 1...</td>\n",
       "      <td>2.0</td>\n",
       "      <td>2.0</td>\n",
       "      <td>1</td>\n",
       "      <td>3.0</td>\n",
       "      <td>NaN</td>\n",
       "      <td>Undefined</td>\n",
       "      <td>NaN</td>\n",
       "      <td>125.0</td>\n",
       "      <td>115.0</td>\n",
       "      <td>0.0</td>\n",
       "      <td>0.0</td>\n",
       "      <td>0.0</td>\n",
       "      <td>0.0</td>\n",
       "      <td>0.0</td>\n",
       "      <td>0.0</td>\n",
       "      <td>0.0</td>\n",
       "    </tr>\n",
       "    <tr>\n",
       "      <th>3</th>\n",
       "      <td>flat</td>\n",
       "      <td>arizona river heights</td>\n",
       "      <td>usmanpura</td>\n",
       "      <td>2.10</td>\n",
       "      <td>8910.0</td>\n",
       "      <td>2357.0</td>\n",
       "      <td>Super Built up area 2357(218.97 sq.m.)Carpet a...</td>\n",
       "      <td>3.0</td>\n",
       "      <td>3.0</td>\n",
       "      <td>2</td>\n",
       "      <td>11.0</td>\n",
       "      <td>East</td>\n",
       "      <td>Moderately Old</td>\n",
       "      <td>2357.0</td>\n",
       "      <td>NaN</td>\n",
       "      <td>1415.0</td>\n",
       "      <td>0.0</td>\n",
       "      <td>0.0</td>\n",
       "      <td>0.0</td>\n",
       "      <td>1.0</td>\n",
       "      <td>1.0</td>\n",
       "      <td>1.0</td>\n",
       "      <td>54.0</td>\n",
       "    </tr>\n",
       "    <tr>\n",
       "      <th>4</th>\n",
       "      <td>flat</td>\n",
       "      <td>avirat silver harmony</td>\n",
       "      <td>gota</td>\n",
       "      <td>0.98</td>\n",
       "      <td>4840.0</td>\n",
       "      <td>2025.0</td>\n",
       "      <td>Super Built up area 2025(188.13 sq.m.)</td>\n",
       "      <td>3.0</td>\n",
       "      <td>3.0</td>\n",
       "      <td>1</td>\n",
       "      <td>9.0</td>\n",
       "      <td>East</td>\n",
       "      <td>Moderately Old</td>\n",
       "      <td>2025.0</td>\n",
       "      <td>NaN</td>\n",
       "      <td>NaN</td>\n",
       "      <td>0.0</td>\n",
       "      <td>0.0</td>\n",
       "      <td>1.0</td>\n",
       "      <td>0.0</td>\n",
       "      <td>0.0</td>\n",
       "      <td>0.0</td>\n",
       "      <td>75.0</td>\n",
       "    </tr>\n",
       "  </tbody>\n",
       "</table>\n",
       "</div>"
      ],
      "text/plain": [
       "  property_type                  society       sector  price  price_per_sqft  \\\n",
       "0         house              independent      gurukul   2.40         11111.0   \n",
       "1         house           omkar bunglows      thaltej   4.75         15079.0   \n",
       "2          flat  sheeva amardeep enclave  nava naroda   0.27          2400.0   \n",
       "3          flat    arizona river heights    usmanpura   2.10          8910.0   \n",
       "4          flat    avirat silver harmony         gota   0.98          4840.0   \n",
       "\n",
       "     area                                       areaWithType  bedRoom  \\\n",
       "0  2160.0                        Plot area 240(200.67 sq.m.)      3.0   \n",
       "1  3150.0  Plot area 350(292.64 sq.m.)Built Up area: 315 ...      4.0   \n",
       "2  1125.0  Built Up area: 125 (11.61 sq.m.)Carpet area: 1...      2.0   \n",
       "3  2357.0  Super Built up area 2357(218.97 sq.m.)Carpet a...      3.0   \n",
       "4  2025.0             Super Built up area 2025(188.13 sq.m.)      3.0   \n",
       "\n",
       "   bathroom balcony  floorNum facing   agePossession  super_built_up_area  \\\n",
       "0       3.0       3       3.0  North  Relatively New                  NaN   \n",
       "1       4.0       1       2.0   East    Old Property                  NaN   \n",
       "2       2.0       1       3.0    NaN       Undefined                  NaN   \n",
       "3       3.0       2      11.0   East  Moderately Old               2357.0   \n",
       "4       3.0       1       9.0   East  Moderately Old               2025.0   \n",
       "\n",
       "   built_up_area  carpet_area  study room  servant room  store room  \\\n",
       "0         2160.0          NaN         0.0           0.0         1.0   \n",
       "1          315.0          NaN         0.0           0.0         1.0   \n",
       "2          125.0        115.0         0.0           0.0         0.0   \n",
       "3            NaN       1415.0         0.0           0.0         0.0   \n",
       "4            NaN          NaN         0.0           0.0         1.0   \n",
       "\n",
       "   pooja room  others  furnishing_type  luxury_score  \n",
       "0         1.0     0.0              0.0          86.0  \n",
       "1         1.0     0.0              1.0         161.0  \n",
       "2         0.0     0.0              0.0           0.0  \n",
       "3         1.0     1.0              1.0          54.0  \n",
       "4         0.0     0.0              0.0          75.0  "
      ]
     },
     "execution_count": 70,
     "metadata": {},
     "output_type": "execute_result"
    }
   ],
   "source": [
    "df.head()"
   ]
  },
  {
   "cell_type": "code",
   "execution_count": 71,
   "id": "e759c526",
   "metadata": {},
   "outputs": [
    {
     "data": {
      "text/plain": [
       "<seaborn.axisgrid.FacetGrid at 0x2d1d3f1b190>"
      ]
     },
     "execution_count": 71,
     "metadata": {},
     "output_type": "execute_result"
    },
    {
     "data": {
      "image/png": "[encoded data removed]",
      "text/plain": [
       "<Figure size 500x500 with 1 Axes>"
      ]
     },
     "metadata": {},
     "output_type": "display_data"
    }
   ],
   "source": [
    "sns.displot(df['price_per_sqft'])"
   ]
  },
  {
   "cell_type": "code",
   "execution_count": 72,
   "id": "3e450384",
   "metadata": {},
   "outputs": [
    {
     "data": {
      "text/plain": [
       "<Axes: >"
      ]
     },
     "execution_count": 72,
     "metadata": {},
     "output_type": "execute_result"
    },
    {
     "data": {
      "image/png": "[encoded data removed]",
      "text/plain": [
       "<Figure size 640x480 with 1 Axes>"
      ]
     },
     "metadata": {},
     "output_type": "display_data"
    }
   ],
   "source": [
    "sns.boxplot(df['price_per_sqft'])"
   ]
  },
  {
   "cell_type": "code",
   "execution_count": 73,
   "id": "d124ee4a",
   "metadata": {},
   "outputs": [
    {
     "data": {
      "text/html": [
       "<div>\n",
       "<style scoped>\n",
       "    .dataframe tbody tr th:only-of-type {\n",
       "        vertical-align: middle;\n",
       "    }\n",
       "\n",
       "    .dataframe tbody tr th {\n",
       "        vertical-align: top;\n",
       "    }\n",
       "\n",
       "    .dataframe thead th {\n",
       "        text-align: right;\n",
       "    }\n",
       "</style>\n",
       "<table border=\"1\" class=\"dataframe\">\n",
       "  <thead>\n",
       "    <tr style=\"text-align: right;\">\n",
       "      <th></th>\n",
       "      <th>property_type</th>\n",
       "      <th>society</th>\n",
       "      <th>sector</th>\n",
       "      <th>price</th>\n",
       "      <th>price_per_sqft</th>\n",
       "      <th>area</th>\n",
       "      <th>areaWithType</th>\n",
       "      <th>bedRoom</th>\n",
       "      <th>bathroom</th>\n",
       "      <th>balcony</th>\n",
       "      <th>floorNum</th>\n",
       "      <th>facing</th>\n",
       "      <th>agePossession</th>\n",
       "      <th>super_built_up_area</th>\n",
       "      <th>built_up_area</th>\n",
       "      <th>carpet_area</th>\n",
       "      <th>study room</th>\n",
       "      <th>servant room</th>\n",
       "      <th>store room</th>\n",
       "      <th>pooja room</th>\n",
       "      <th>others</th>\n",
       "      <th>furnishing_type</th>\n",
       "      <th>luxury_score</th>\n",
       "    </tr>\n",
       "  </thead>\n",
       "  <tbody>\n",
       "    <tr>\n",
       "      <th>403</th>\n",
       "      <td>house</td>\n",
       "      <td>independent</td>\n",
       "      <td>vastral</td>\n",
       "      <td>4.26</td>\n",
       "      <td>45079.0</td>\n",
       "      <td>945.0</td>\n",
       "      <td>Built Up area: 105 (9.75 sq.m.)</td>\n",
       "      <td>1.0</td>\n",
       "      <td>1.0</td>\n",
       "      <td>0</td>\n",
       "      <td>1.0</td>\n",
       "      <td>NaN</td>\n",
       "      <td>Undefined</td>\n",
       "      <td>NaN</td>\n",
       "      <td>105.0</td>\n",
       "      <td>NaN</td>\n",
       "      <td>0.0</td>\n",
       "      <td>0.0</td>\n",
       "      <td>0.0</td>\n",
       "      <td>0.0</td>\n",
       "      <td>0.0</td>\n",
       "      <td>0.0</td>\n",
       "      <td>0.0</td>\n",
       "    </tr>\n",
       "    <tr>\n",
       "      <th>3718</th>\n",
       "      <td>house</td>\n",
       "      <td>rachana society</td>\n",
       "      <td>satellite</td>\n",
       "      <td>6.51</td>\n",
       "      <td>40185.0</td>\n",
       "      <td>1620.0</td>\n",
       "      <td>Plot area 1620(150.5 sq.m.)Carpet area: 5760 s...</td>\n",
       "      <td>2.0</td>\n",
       "      <td>2.0</td>\n",
       "      <td>2</td>\n",
       "      <td>2.0</td>\n",
       "      <td>North-West</td>\n",
       "      <td>Old Property</td>\n",
       "      <td>NaN</td>\n",
       "      <td>NaN</td>\n",
       "      <td>5760.0</td>\n",
       "      <td>1.0</td>\n",
       "      <td>0.0</td>\n",
       "      <td>1.0</td>\n",
       "      <td>1.0</td>\n",
       "      <td>0.0</td>\n",
       "      <td>1.0</td>\n",
       "      <td>156.0</td>\n",
       "    </tr>\n",
       "  </tbody>\n",
       "</table>\n",
       "</div>"
      ],
      "text/plain": [
       "     property_type          society     sector  price  price_per_sqft    area  \\\n",
       "403          house      independent    vastral   4.26         45079.0   945.0   \n",
       "3718         house  rachana society  satellite   6.51         40185.0  1620.0   \n",
       "\n",
       "                                           areaWithType  bedRoom  bathroom  \\\n",
       "403                     Built Up area: 105 (9.75 sq.m.)      1.0       1.0   \n",
       "3718  Plot area 1620(150.5 sq.m.)Carpet area: 5760 s...      2.0       2.0   \n",
       "\n",
       "     balcony  floorNum      facing agePossession  super_built_up_area  \\\n",
       "403        0       1.0         NaN     Undefined                  NaN   \n",
       "3718       2       2.0  North-West  Old Property                  NaN   \n",
       "\n",
       "      built_up_area  carpet_area  study room  servant room  store room  \\\n",
       "403           105.0          NaN         0.0           0.0         0.0   \n",
       "3718            NaN       5760.0         1.0           0.0         1.0   \n",
       "\n",
       "      pooja room  others  furnishing_type  luxury_score  \n",
       "403          0.0     0.0              0.0           0.0  \n",
       "3718         1.0     0.0              1.0         156.0  "
      ]
     },
     "execution_count": 73,
     "metadata": {},
     "output_type": "execute_result"
    }
   ],
   "source": [
    "df[df['price_per_sqft'] > 35000]"
   ]
  },
  {
   "cell_type": "code",
   "execution_count": 74,
   "id": "23155a64",
   "metadata": {},
   "outputs": [],
   "source": [
    "df['area'] = df.apply(lambda row: row['area']*9 if row['price_per_sqft']>35000 else row['area'], axis=1)"
   ]
  },
  {
   "cell_type": "code",
   "execution_count": 75,
   "id": "4548db8f",
   "metadata": {},
   "outputs": [],
   "source": [
    "df['price_per_sqft'] = round((df['price']*10000000)/df['area'])"
   ]
  },
  {
   "cell_type": "code",
   "execution_count": 76,
   "id": "23bd7d48",
   "metadata": {},
   "outputs": [
    {
     "data": {
      "text/plain": [
       "<Axes: >"
      ]
     },
     "execution_count": 76,
     "metadata": {},
     "output_type": "execute_result"
    },
    {
     "data": {
      "image/png": "[encoded data removed]",
      "text/plain": [
       "<Figure size 640x480 with 1 Axes>"
      ]
     },
     "metadata": {},
     "output_type": "display_data"
    }
   ],
   "source": [
    "sns.boxplot(df['price_per_sqft'])"
   ]
  },
  {
   "cell_type": "code",
   "execution_count": 77,
   "id": "c5629e67",
   "metadata": {},
   "outputs": [],
   "source": [
    "df['ratio'] = df['area']/df['bedRoom']"
   ]
  },
  {
   "cell_type": "code",
   "execution_count": 78,
   "id": "8f9d06de",
   "metadata": {},
   "outputs": [],
   "source": [
    "df_house = df[df['property_type']=='house']\n",
    "df_flat = df[df['property_type']=='flat']"
   ]
  },
  {
   "cell_type": "code",
   "execution_count": 79,
   "id": "3f700218",
   "metadata": {},
   "outputs": [
    {
     "data": {
      "text/plain": [
       "225.0"
      ]
     },
     "execution_count": 79,
     "metadata": {},
     "output_type": "execute_result"
    }
   ],
   "source": [
    "x = df_house[df_house['price_per_sqft'] <= 20000]\n",
    "(x['area']/x['bedRoom']).quantile(0.05)"
   ]
  },
  {
   "cell_type": "code",
   "execution_count": 80,
   "id": "e19cf3ce",
   "metadata": {},
   "outputs": [
    {
     "data": {
      "text/plain": [
       "268.4"
      ]
     },
     "execution_count": 80,
     "metadata": {},
     "output_type": "execute_result"
    }
   ],
   "source": [
    "x = df_flat[df_flat['price_per_sqft'] <= 20000]\n",
    "(x['area']/x['bedRoom']).quantile(0.02)"
   ]
  },
  {
   "cell_type": "code",
   "execution_count": 81,
   "id": "8a0b75f9",
   "metadata": {},
   "outputs": [],
   "source": [
    "# after analysing above data number we choose\n",
    "house_outliar = df_house[df_house['ratio']<200]\n",
    "flat_outliar = df_flat[df_flat['ratio']<170]"
   ]
  },
  {
   "cell_type": "code",
   "execution_count": 82,
   "id": "a5379ad6",
   "metadata": {},
   "outputs": [],
   "source": [
    "df.drop(index=flat_outliar.index.to_list(),inplace=True)\n",
    "df.drop(index=house_outliar.index.to_list(),inplace=True)"
   ]
  },
  {
   "cell_type": "code",
   "execution_count": 83,
   "id": "b4118f83",
   "metadata": {},
   "outputs": [],
   "source": [
    "df.drop(columns='ratio',inplace=True)"
   ]
  },
  {
   "cell_type": "code",
   "execution_count": 84,
   "id": "aa21decc",
   "metadata": {},
   "outputs": [
    {
     "data": {
      "text/plain": [
       "(5820, 23)"
      ]
     },
     "execution_count": 84,
     "metadata": {},
     "output_type": "execute_result"
    }
   ],
   "source": [
    "df.shape"
   ]
  },
  {
   "cell_type": "code",
   "execution_count": 85,
   "id": "d4371129",
   "metadata": {},
   "outputs": [],
   "source": [
    "df.to_csv(interim_path / 'properties_outlier_treated.csv',index=False)"
   ]
  },
  {
   "cell_type": "code",
   "execution_count": null,
   "id": "9bb5dbaf",
   "metadata": {},
   "outputs": [],
   "source": []
  }
 ],
 "metadata": {
  "kernelspec": {
   "display_name": "Python 3 (ipykernel)",
   "language": "python",
   "name": "python3"
  },
  "language_info": {
   "codemirror_mode": {
    "name": "ipython",
    "version": 3
   },
   "file_extension": ".py",
   "mimetype": "text/x-python",
   "name": "python",
   "nbconvert_exporter": "python",
   "pygments_lexer": "ipython3",
   "version": "3.11.5"
  }
 },
 "nbformat": 4,
 "nbformat_minor": 5
}
