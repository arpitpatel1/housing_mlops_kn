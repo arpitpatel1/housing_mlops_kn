{
 "cells": [
  {
   "cell_type": "code",
   "execution_count": 1,
   "id": "9560c5db",
   "metadata": {},
   "outputs": [],
   "source": [
    "import numpy as np\n",
    "import pandas as pd\n",
    "from pathlib import Path\n",
    "\n",
    "from sklearn.model_selection import KFold, cross_val_score\n",
    "from sklearn.model_selection import train_test_split\n",
    "from sklearn.pipeline import Pipeline, make_pipeline\n",
    "from sklearn.preprocessing import OneHotEncoder, StandardScaler,LabelEncoder, OrdinalEncoder\n",
    "from sklearn.compose import ColumnTransformer\n",
    "\n",
    "from sklearn.ensemble import RandomForestRegressor\n",
    "\n",
    "\n",
    "from sklearn.metrics import mean_absolute_error,r2_score\n",
    "\n",
    "import category_encoders as ce\n",
    "\n",
    "import seaborn as sns\n",
    "import matplotlib.pyplot as plt"
   ]
  },
  {
   "cell_type": "code",
   "execution_count": 2,
   "id": "c3028e0b",
   "metadata": {},
   "outputs": [],
   "source": [
    "interim_path = Path('../data/interim')\n",
    "processed_path = Path('../data/processed')"
   ]
  },
  {
   "cell_type": "code",
   "execution_count": 3,
   "id": "7065e161",
   "metadata": {},
   "outputs": [],
   "source": [
    "df = pd.read_csv(interim_path / 'properties.csv')"
   ]
  },
  {
   "cell_type": "code",
   "execution_count": 4,
   "id": "7f38c25c",
   "metadata": {},
   "outputs": [],
   "source": [
    "X = df.drop(columns=['price'])\n",
    "y = df['price']\n",
    "y_transformed = np.log1p(y)"
   ]
  },
  {
   "cell_type": "code",
   "execution_count": 5,
   "id": "7a2f5893",
   "metadata": {},
   "outputs": [],
   "source": [
    "X_train, X_test, y_train, y_test = train_test_split(X, y_transformed, test_size=0.2, random_state=42)"
   ]
  },
  {
   "cell_type": "code",
   "execution_count": 6,
   "id": "3cb08e68",
   "metadata": {},
   "outputs": [],
   "source": [
    "columns_to_encode = ['property_type', 'balcony', 'agePossession', 'furnishing_type', 'luxury_category',\n",
    "                                 'floor_category']\n",
    "numerical_columns = ['bedRoom', 'bathroom', 'built_up_area', 'pooja room', 'store room']\n",
    "\n",
    "preprocessor = ColumnTransformer(\n",
    "                transformers=[\n",
    "                    ('num', StandardScaler(), ['bedRoom', 'bathroom', 'built_up_area', 'pooja room', 'store room']),\n",
    "                    ('sector', OneHotEncoder(drop='first',handle_unknown='ignore'), ['sector']),\n",
    "                    ('cat', OrdinalEncoder(), columns_to_encode)\n",
    "\n",
    "                ],\n",
    "                remainder='passthrough'\n",
    "            )\n",
    "\n",
    "pipeline = Pipeline([\n",
    "    ('preprocessor', preprocessor),\n",
    "    ('regressor', RandomForestRegressor())\n",
    "])\n",
    "\n",
    "pipeline.fit(X_train,y_train)\n",
    "predicted = pipeline.predict(X_test)\n",
    "score = r2_score(y_test, predicted)"
   ]
  },
  {
   "cell_type": "code",
   "execution_count": 8,
   "id": "d04912e8",
   "metadata": {},
   "outputs": [],
   "source": [
    "df2 = df.sample(300)\n",
    "df2.to_csv(processed_path / 'sample_data.csv')"
   ]
  },
  {
   "cell_type": "code",
   "execution_count": 9,
   "id": "492f033c",
   "metadata": {},
   "outputs": [
    {
     "data": {
      "text/plain": [
       "(300, 13)"
      ]
     },
     "execution_count": 9,
     "metadata": {},
     "output_type": "execute_result"
    }
   ],
   "source": [
    "df2.shape"
   ]
  },
  {
   "cell_type": "code",
   "execution_count": null,
   "id": "da245c0e",
   "metadata": {},
   "outputs": [],
   "source": []
  }
 ],
 "metadata": {
  "kernelspec": {
   "display_name": "Python 3 (ipykernel)",
   "language": "python",
   "name": "python3"
  },
  "language_info": {
   "codemirror_mode": {
    "name": "ipython",
    "version": 3
   },
   "file_extension": ".py",
   "mimetype": "text/x-python",
   "name": "python",
   "nbconvert_exporter": "python",
   "pygments_lexer": "ipython3",
   "version": "3.11.5"
  }
 },
 "nbformat": 4,
 "nbformat_minor": 5
}
